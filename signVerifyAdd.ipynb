{
 "cells": [
  {
   "cell_type": "code",
   "execution_count": 10,
   "metadata": {},
   "outputs": [
    {
     "name": "stdout",
     "output_type": "stream",
     "text": [
      "Collecting rsa\n",
      "  Downloading rsa-4.8-py3-none-any.whl (39 kB)\n",
      "Collecting pyasn1>=0.1.3\n",
      "  Downloading pyasn1-0.4.8-py2.py3-none-any.whl (77 kB)\n",
      "Installing collected packages: pyasn1, rsa\n",
      "Successfully installed pyasn1-0.4.8 rsa-4.8\n"
     ]
    },
    {
     "name": "stderr",
     "output_type": "stream",
     "text": [
      "WARNING: You are using pip version 20.2.3; however, version 22.0.4 is available.\n",
      "You should consider upgrading via the 'c:\\users\\brend\\appdata\\local\\programs\\python\\python39\\python.exe -m pip install --upgrade pip' command.\n"
     ]
    }
   ],
   "source": [
    "#!pip install ecdsa\n",
    "#!pip install rsa\n",
    "#!pip install cryptography"
   ]
  },
  {
   "cell_type": "markdown",
   "metadata": {},
   "source": [
    "Can change the curve.\n",
    "\n",
    "Generate the signature and transform it as a string.\n"
   ]
  },
  {
   "cell_type": "code",
   "execution_count": 1,
   "metadata": {},
   "outputs": [],
   "source": [
    "from cryptography.hazmat.primitives import serialization\n",
    "\n",
    "with open(\"privateJERS.key\", \"rb\") as key_file:\n",
    "    private_key = serialization.load_pem_private_key(\n",
    "        key_file.read(),\n",
    "        password=None,\n",
    "    )"
   ]
  },
  {
   "cell_type": "code",
   "execution_count": 2,
   "metadata": {},
   "outputs": [
    {
     "data": {
      "text/plain": [
       "b'\\x9b\\xd3\\xce\\xf7\\x06{\\xa3v\\x85\\x84\\xfa<\\xed\\xbb\\xaf\\x86\"G\\xf4\\xf7B\\xc4\\xd9[\\xcc\\xdb\\x80&#\\xb9b\\xa1^V\\x0f\\xe1\\xe3\\xbdF\\x89\\rA\\x0e\\x7f\\xc12!_\\x1a\\xa9\\n\\xf1\\xc2}3\\xa4\\x9f\\r\\xd8)UD\\xc3Ku?\\xec\\xa9\\xb3\\xd7\\xcf\\x0b\\xa3W\\xe7{\\x11\\xe7\\xce\\x02\\x07QL\\x03\\xee,\\xeb~\\x8e\\xeeQp\\xa7\\xc5\\xaa\\xce\\x1b\\xf5\\x1a\\xa9\\xc42a\\xd0\\xb0\\xa7L;m\\xcd\\x0e\\xc7\\xb0\\x08\\xee\\x85\\n\\xad\\x1b\\xa4e\\x03.\\x84\\x93\\x8eg\\xd4\\xa1}+\\xdc\\xa2\\xaa\\\\\\xd8:ko\\xea\\xaf/~q\\x89\\x1ch\\xc7\\xfd\\xd8i\\xb8\\x02\\xe7\\xba88\\x051|\\x82\\x85\\x18\\x8eN\\xcc\\xc4\\xae\\xbb=\\xd7\\'\\xeb?\\xec;f\\xa5U\\x11\\xb0\\x85\\xae\\xb6I\\xcb\\x9f\\xd2^\\x10(|\\x15\\xa4\\xd8\\x9e}\\xfa5\\xf0\\x85\"\\xaa#\\x91\\xec7q>e9\\xb3\\xcb9\\xeeB\\xf35?\\x10\\xcd.6Y\\xca\\xf3\\xfa\\x8a\\xd7\\xc78\\xf7f\\xe6\\xd8\\xc8\\x842x\\x95\\xb8\\xbc\\xb9\\xb3\\xdbf!\\xd2\\xce\\x87\\x13Q\\x81Rz{\\x8e\\x87\\x92wV\\xe3\\xb9l!\\xe4\\xaa`\\xa3\\xd3\\x81xx\\xf6:\\x1c\\x1c\\xa5\\\\{\\xe3\\xfed\\xe5nL\\x1c.\\xfd\\xb84\\xfa\\xb1n\\xcf\\x19)y\\xc1\\xa1\\xca\\x11\\x9a\\xf9\\x07\\x17\\x9c\\xf7\\xef\\xa9\\xcb\\xa4\\x96B\\xcc\\xb2\\x0cf0\\r[K\\xab\\tap\\x12C\\xf9\\xa4\\x9b\\x95a\\xb5\\xb5K\\xa2\\xf2\\nN\\xf9\\xdeeQ\\xaeO\\xfe2\\x00O\\xa1\\xb5w\\x82\\x89T\\xe8\\xd9\\xf9\\xeaCd\\x1e\\x10D\\r\\x89\\xa3\\x06\\xd6\\xec\\x1c\\x9e&\\xa8\\x9eQ\\xc5\\xb8\\xe6:8}\\xe8\\xe7\\xa5\\xc8\\xa4N4\\x8d\\x08\\xe5X\\x89\\x05\\xf0\\x8b;\\xce\\x86V\\xd1\\xd0\\x8b\\x7f\\xdb4\\xa4\\xc5\\x8bL\\xd9\\xf1F\\xb9\\xa5H\\xb2nD\\x0c\\xef\\xd4\\xdb=\\x8e<\\xb3\\xa5\\x91\\xe5\\x94\\x14\\'\\x11\\xfe\\x7f4\\xaaq\\xd2c0\\xb9\\xbc\\xa9\\x0f\\xf6\\x911\\x13\\x97\\x82\\xb3\\xffP\\xd7KK\\x96\\x96\\xee\\x989\\x16\\x02\\x98P\\x7f\\xc6\\x9c\\xef`\\xdbBhDF\\x87\\xa5w,3\\x95X\\xeecA\\x94*\"\\x84\\x95\\xbd\\xa5\\xb1^\\xf8U\\xbd\\x0b\\xa1\\x90\\x8dy\\x02|\\xd8\\'\\xdf\\x9b'"
      ]
     },
     "execution_count": 2,
     "metadata": {},
     "output_type": "execute_result"
    }
   ],
   "source": [
    "from cryptography.hazmat.primitives import hashes\n",
    "from cryptography.hazmat.primitives.asymmetric import padding\n",
    "message = b\"A message I want to sign\"\n",
    "signature = private_key.sign(\n",
    "    message,\n",
    "    padding.PSS(\n",
    "        mgf=padding.MGF1(hashes.SHA256()),\n",
    "        salt_length=padding.PSS.MAX_LENGTH\n",
    "    ),\n",
    "    hashes.SHA256()\n",
    ")\n",
    "\n",
    "signature"
   ]
  },
  {
   "cell_type": "code",
   "execution_count": 9,
   "metadata": {},
   "outputs": [
    {
     "data": {
      "text/plain": [
       "<OpenSSL.crypto.PKey at 0x2ddbf713fd0>"
      ]
     },
     "execution_count": 9,
     "metadata": {},
     "output_type": "execute_result"
    }
   ],
   "source": [
    "#!pip install pyOpenSSL\n",
    "from OpenSSL import crypto        \n",
    "crtObj = crypto.load_certificate(crypto.FILETYPE_PEM, open('CertificadoJERS.crt').read())\n",
    "pubKeyObject = crtObj.get_pubkey()\n",
    "#pubKeyString = crypto.dump_publickey(crypto.FILETYPE_PEM, pubKeyObject)\n",
    "pubKeyObject"
   ]
  },
  {
   "cell_type": "code",
   "execution_count": 11,
   "metadata": {},
   "outputs": [],
   "source": [
    "public_key = pubKeyObject.to_cryptography_key()\n",
    "message = b\"A message I want to sign\"\n",
    "public_key.verify(\n",
    "    signature,\n",
    "    message,\n",
    "    padding.PSS(\n",
    "        mgf=padding.MGF1(hashes.SHA256()),\n",
    "        salt_length=padding.PSS.MAX_LENGTH\n",
    "    ),\n",
    "    hashes.SHA256()\n",
    ")"
   ]
  },
  {
   "cell_type": "markdown",
   "metadata": {},
   "source": [
    "## Okay first the algorithm to sign okay? here we go"
   ]
  },
  {
   "cell_type": "code",
   "execution_count": null,
   "metadata": {},
   "outputs": [],
   "source": [
    "## Sign Algorithm (parameters: **document, priv_key)\n",
    "from cryptography.hazmat.primitives import serialization\n",
    "from datetime import datetime\n",
    "\n",
    "def gen_signature(priv_key, document):\n",
    "    '''Receives the HASH of the documentPDF and the private key,\n",
    "    returns a binary file with the signature.\n",
    "    This will be uploaded to the logs section FIRMAS'''\n",
    "\n",
    "    #Read private_key from other file\n",
    "    with open(priv_key, \"rb\") as key_file:\n",
    "        private_key = serialization.load_pem_private_key(\n",
    "            key_file.read(),\n",
    "            password=None,\n",
    "        )\n",
    "    signature = private_key.sign(\n",
    "        document,\n",
    "        padding.PSS(\n",
    "            mgf=padding.MGF1(hashes.SHA256()),     \n",
    "            salt_length=padding.PSS.MAX_LENGTH\n",
    "        ),\n",
    "        hashes.SHA256()\n",
    "    )\n",
    "\n",
    "    #write the binary signature file\n",
    "    f = open('signature' + str(datetime.now()), \"wb\")\n",
    "    f.write(signature)\n",
    "    f.close()\n",
    "\n",
    "    #Returns the sign binary file, will be uploaded to DB\n",
    "    return f"
   ]
  },
  {
   "cell_type": "code",
   "execution_count": null,
   "metadata": {},
   "outputs": [],
   "source": [
    "def verify(pub_key, document, sigfile):\n",
    "    '''Receives the public key (certificate), the\n",
    "    document and the signaturefile to see if said signatures\n",
    "    corresponds to that document. And its hasn't been \n",
    "    altered or something else was signed. '''\n",
    "\n",
    "    pub_key = pub_key.to_cryptography_key()\n",
    "\n",
    "    f = open(sigfile, 'r')\n",
    "    f = bytes(f.read())\n",
    "    \n",
    "    \n",
    "    try: \n",
    "        pub_key.verify(\n",
    "        sigfile,\n",
    "        document,\n",
    "        padding.PSS(\n",
    "            mgf=padding.MGF1(hashes.SHA256()),\n",
    "            salt_length=padding.PSS.MAX_LENGTH\n",
    "        ),\n",
    "        hashes.SHA256()\n",
    "    )\n",
    "        print('Verification successful')\n",
    "\n",
    "    except: \n",
    "        print('Verification failed')"
   ]
  },
  {
   "cell_type": "code",
   "execution_count": null,
   "metadata": {},
   "outputs": [],
   "source": [
    "def verify(pub_key, document, ogDocument):\n",
    "    ''''''\n",
    "    public_key = pubKeyObject.to_cryptography_key()\n",
    "    public_key.verify(\n",
    "        ogDocument,\n",
    "        document,\n",
    "        padding.PSS(\n",
    "            mgf=padding.MGF1(hashes.SHA256()),\n",
    "            salt_length=padding.PSS.MAX_LENGTH\n",
    "        ),\n",
    "        hashes.SHA256()\n",
    "    )"
   ]
  },
  {
   "cell_type": "code",
   "execution_count": 2,
   "metadata": {},
   "outputs": [
    {
     "data": {
      "text/plain": [
       "'2022-04-18 09:10:42.369153'"
      ]
     },
     "execution_count": 2,
     "metadata": {},
     "output_type": "execute_result"
    }
   ],
   "source": [
    "from datetime import datetime\n",
    "\n",
    "str(datetime.now())"
   ]
  },
  {
   "cell_type": "code",
   "execution_count": null,
   "metadata": {},
   "outputs": [],
   "source": [
    "## Sign Algorithm\n",
    "def gen_signature(priv_key, document):\n",
    "    '''Receives the HASH of the documentPDF and the private key,\n",
    "    returns a binary file with the signature.\n",
    "    This will be uploaded to the logs section FIRMAS'''\n",
    "\n",
    "    #Read private_key from other file\n",
    "    with open(priv_key, \"rb\") as key_file:\n",
    "        private_key = serialization.load_pem_private_key(\n",
    "            key_file.read(),\n",
    "            password=None,\n",
    "        )\n",
    "    signature = private_key.sign(\n",
    "        document,\n",
    "        padding.PSS(\n",
    "            mgf=padding.MGF1(hashes.SHA256()),     \n",
    "            salt_length=padding.PSS.MAX_LENGTH\n",
    "        ),\n",
    "        hashes.SHA256()\n",
    "    )   \n",
    "\n",
    "    #write the binary signature file\n",
    "    f = open('signature' + str(datetime.now()) + '.txt', \"w\")\n",
    "    f.write(str(signature))\n",
    "    f.close()\n",
    "\n",
    "    #Returns the sign binary file, will be uploaded to DB\n",
    "    return f"
   ]
  },
  {
   "cell_type": "code",
   "execution_count": 5,
   "metadata": {},
   "outputs": [
    {
     "ename": "TypeError",
     "evalue": "an integer is required (got type str)",
     "output_type": "error",
     "traceback": [
      "\u001b[1;31m---------------------------------------------------------------------------\u001b[0m",
      "\u001b[1;31mTypeError\u001b[0m                                 Traceback (most recent call last)",
      "\u001b[1;32m<ipython-input-5-059b6adca052>\u001b[0m in \u001b[0;36m<module>\u001b[1;34m\u001b[0m\n\u001b[1;32m----> 1\u001b[1;33m \u001b[0mstr\u001b[0m\u001b[1;33m(\u001b[0m\u001b[0mdatetime\u001b[0m\u001b[1;33m.\u001b[0m\u001b[0mnow\u001b[0m\u001b[1;33m(\u001b[0m\u001b[1;33m)\u001b[0m\u001b[1;33m.\u001b[0m\u001b[0mreplace\u001b[0m\u001b[1;33m(\u001b[0m\u001b[1;34m'/'\u001b[0m\u001b[1;33m,\u001b[0m \u001b[1;34m''\u001b[0m\u001b[1;33m)\u001b[0m\u001b[1;33m)\u001b[0m\u001b[1;33m\u001b[0m\u001b[1;33m\u001b[0m\u001b[0m\n\u001b[0m",
      "\u001b[1;31mTypeError\u001b[0m: an integer is required (got type str)"
     ]
    }
   ],
   "source": [
    "str(datetime.now().replace('/', ''))"
   ]
  },
  {
   "cell_type": "code",
   "execution_count": 3,
   "metadata": {
    "ExecuteTime": {
     "end_time": "2022-04-18T15:32:04.335659Z",
     "start_time": "2022-04-18T15:32:04.305708Z"
    }
   },
   "outputs": [
    {
     "name": "stdout",
     "output_type": "stream",
     "text": [
      "MD5: 75bcc4cac0925d37bfee03e2b0b1919d\n",
      "SHA1: efb2a98a1a7abd5eb03d95fd98e54da26745b618790f48e39f89b3e0d85ea052\n"
     ]
    }
   ],
   "source": [
    "import sys\n",
    "import hashlib\n",
    "\n",
    "# BUF_SIZE is totally arbitrary, change for your app!\n",
    "BUF_SIZE = 65536  # lets read stuff in 64kb chunks!\n",
    "\n",
    "md5 = hashlib.md5()\n",
    "sha1 = hashlib.sha256()\n",
    "#hashlib.sha512\n",
    "\n",
    "with open(\"README.md\", 'rb') as f:\n",
    "    while True:\n",
    "        data = f.read(BUF_SIZE)\n",
    "        if not data:\n",
    "            break\n",
    "        md5.update(data)\n",
    "        sha1.update(data)\n",
    "\n",
    "print(\"MD5: {0}\".format(md5.hexdigest()))\n",
    "print(\"SHA1: {0}\".format(sha1.hexdigest()))"
   ]
  },
  {
   "cell_type": "code",
   "execution_count": 4,
   "metadata": {
    "ExecuteTime": {
     "end_time": "2022-04-18T15:32:07.236010Z",
     "start_time": "2022-04-18T15:32:07.142282Z"
    }
   },
   "outputs": [
    {
     "data": {
      "text/plain": [
       "<_io.BufferedWriter name='nombreDoc_nomina_fecha20220418_103207.sign'>"
      ]
     },
     "execution_count": 4,
     "metadata": {},
     "output_type": "execute_result"
    }
   ],
   "source": [
    "import signVerify\n",
    "\n",
    "signVerify.gen_signature(\"privateJERS.key\", bytes(sha1.hexdigest(), 'utf-8'))"
   ]
  },
  {
   "cell_type": "code",
   "execution_count": 6,
   "metadata": {
    "ExecuteTime": {
     "end_time": "2022-04-18T15:32:33.157865Z",
     "start_time": "2022-04-18T15:32:33.140912Z"
    }
   },
   "outputs": [
    {
     "name": "stdout",
     "output_type": "stream",
     "text": [
      "Verification successful\n"
     ]
    }
   ],
   "source": [
    "signVerify.verify(\"certificadoJERS.crt\", bytes(sha1.hexdigest(), 'utf-8'), 'nombreDoc_nomina_fecha20220418_103207.sign')"
   ]
  },
  {
   "cell_type": "code",
   "execution_count": 7,
   "metadata": {
    "ExecuteTime": {
     "end_time": "2022-04-18T15:32:35.001951Z",
     "start_time": "2022-04-18T15:32:34.978887Z"
    }
   },
   "outputs": [
    {
     "data": {
      "text/plain": [
       "'20220418_103234'"
      ]
     },
     "execution_count": 7,
     "metadata": {},
     "output_type": "execute_result"
    }
   ],
   "source": [
    "from datetime import datetime\n",
    "\n",
    "str(datetime.now()).replace('-', '').replace(':', '').replace(' ', '_')[:-7]"
   ]
  },
  {
   "cell_type": "code",
   "execution_count": null,
   "metadata": {},
   "outputs": [],
   "source": []
  }
 ],
 "metadata": {
  "hide_input": false,
  "interpreter": {
   "hash": "f595d5af2f833065b3dc99e00e6ef100489811a3e3305d5059ce8c0cce6cb436"
  },
  "kernelspec": {
   "display_name": "Python 3",
   "language": "python",
   "name": "python3"
  },
  "language_info": {
   "codemirror_mode": {
    "name": "ipython",
    "version": 3
   },
   "file_extension": ".py",
   "mimetype": "text/x-python",
   "name": "python",
   "nbconvert_exporter": "python",
   "pygments_lexer": "ipython3",
   "version": "3.8.5"
  },
  "varInspector": {
   "cols": {
    "lenName": 16,
    "lenType": 16,
    "lenVar": 40
   },
   "kernels_config": {
    "python": {
     "delete_cmd_postfix": "",
     "delete_cmd_prefix": "del ",
     "library": "var_list.py",
     "varRefreshCmd": "print(var_dic_list())"
    },
    "r": {
     "delete_cmd_postfix": ") ",
     "delete_cmd_prefix": "rm(",
     "library": "var_list.r",
     "varRefreshCmd": "cat(var_dic_list()) "
    }
   },
   "types_to_exclude": [
    "module",
    "function",
    "builtin_function_or_method",
    "instance",
    "_Feature"
   ],
   "window_display": false
  }
 },
 "nbformat": 4,
 "nbformat_minor": 2
}
