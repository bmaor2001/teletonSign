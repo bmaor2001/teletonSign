{
 "cells": [
  {
   "cell_type": "code",
   "execution_count": 2,
   "metadata": {
    "ExecuteTime": {
     "end_time": "2022-04-06T14:16:14.403026Z",
     "start_time": "2022-04-06T14:16:08.649223Z"
    }
   },
   "outputs": [
    {
     "name": "stdout",
     "output_type": "stream",
     "text": [
      "Collecting pymysql\n",
      "  Downloading PyMySQL-1.0.2-py3-none-any.whl (43 kB)\n",
      "Installing collected packages: pymysql\n",
      "Successfully installed pymysql-1.0.2\n"
     ]
    }
   ],
   "source": [
    "!pip install pymysql"
   ]
  },
  {
   "cell_type": "code",
   "execution_count": 8,
   "metadata": {
    "ExecuteTime": {
     "end_time": "2022-04-18T15:10:45.880983Z",
     "start_time": "2022-04-18T15:10:45.797564Z"
    }
   },
   "outputs": [],
   "source": [
    "import pymysql"
   ]
  },
  {
   "cell_type": "code",
   "execution_count": 26,
   "metadata": {
    "ExecuteTime": {
     "end_time": "2022-04-18T15:30:36.167737Z",
     "start_time": "2022-04-18T15:30:36.147695Z"
    }
   },
   "outputs": [
    {
     "name": "stdout",
     "output_type": "stream",
     "text": [
      "Conexión exitosa\n"
     ]
    }
   ],
   "source": [
    "class DataBase:\n",
    "    def __init__(self):\n",
    "        self.connection = pymysql.connect(\n",
    "            host = \"localhost\",\n",
    "            user = \"root\",\n",
    "            password = \"\",\n",
    "            db = \"teleton\"\n",
    "        )\n",
    "        self.cursor = self.connection.cursor()\n",
    "    \n",
    "        print(\"Conexión exitosa\")\n",
    "    \n",
    "    def insert_users(self, nomina, nombre, puesto, tags, certificado, estatus):\n",
    "            sql = f\"INSERT INTO users (`Nomina`, `Nombre`, `Puesto`, `Tags`, `Certificado`, `Estatus`) VALUES ('{nomina}', '{nombre}', '{puesto}', '{tags}', '{certificado}', '{estatus}')\"\n",
    "            print(sql)\n",
    "            try:\n",
    "                self.cursor.execute(sql)\n",
    "                print(f\"{nombre} ha sido añadido a la base de datos.\")\n",
    "            except Exception as e:\n",
    "                print(e)\n",
    "                \n",
    "    def insert_documentos(self, Hash, Tipo, Nombre, Descripcion, Tags, TIME, Estatus):\n",
    "            sql = f\"INSERT INTO documentos (`Hash`, `Tipo`, `Nombre`, `Descripcion`, `Tags`, `TIME`, `Estatus`) VALUES ('{Hash}', '{Tipo}', '{Nombre}', '{Descripcion}', '{Tags}', '{TIME}', '{Estatus}')\"\n",
    "            print(sql)\n",
    "            try:\n",
    "                self.cursor.execute(sql)\n",
    "                print(f\"{Nombre} ha sido añadido a la base de datos.\")\n",
    "            except Exception as e:\n",
    "                print(e)\n",
    "                \n",
    "    def select(self, tabla, what, _from, where, value):\n",
    "        if what == \"*\":\n",
    "            sql = f\"SELECT {what} FROM {_from}\"\n",
    "        else:\n",
    "            sql = f\"SELECT {what} FROM {_from} where {where} = '{value}'\"\n",
    "        print(sql)\n",
    "        self.cursor.execute(sql)\n",
    "        val = self.cursor.fetchall()\n",
    "        return val\n",
    "        \n",
    "    def update(self, tabla, what, value, where_col, where_val):\n",
    "        sql = f\"UPDATE {tabla} set {what} = '{value}' where {where_col} = '{where_val}'\"\n",
    "        self.cursor.execute(sql)\n",
    "        print(\"Actualización exitosa\")\n",
    "        \n",
    "    def delete(self, tabla, where, value):\n",
    "        sql = f\"DELETE FROM {tabla} where {where} = '{value}'\"\n",
    "        self.cursor.execute(sql)\n",
    "        print(\"Eliminación exitosa\")\n",
    "\n",
    "database = DataBase()"
   ]
  },
  {
   "cell_type": "code",
   "execution_count": 20,
   "metadata": {
    "ExecuteTime": {
     "end_time": "2022-04-18T15:18:09.158978Z",
     "start_time": "2022-04-18T15:18:09.145979Z"
    }
   },
   "outputs": [
    {
     "name": "stdout",
     "output_type": "stream",
     "text": [
      "INSERT INTO users (`Nomina`, `Nombre`, `Puesto`, `Tags`, `Certificado`, `Estatus`) VALUES ('A01752068', 'Jairo', 'Estudiante', 'IDM', 'pdjsnem', 'Activo')\n",
      "Jairo ha sido añadido a la base de datos.\n"
     ]
    }
   ],
   "source": [
    "database.insert_users(nomina = \"A01752068\",\n",
    "                nombre = \"Jairo\",\n",
    "                puesto = \"Estudiante\",\n",
    "                tags = \"IDM\",\n",
    "                certificado = \"pdjsnem\",\n",
    "                estatus = \"Activo\")"
   ]
  },
  {
   "cell_type": "code",
   "execution_count": 25,
   "metadata": {
    "ExecuteTime": {
     "end_time": "2022-04-18T15:30:23.710645Z",
     "start_time": "2022-04-18T15:30:23.693643Z"
    }
   },
   "outputs": [
    {
     "name": "stdout",
     "output_type": "stream",
     "text": [
      "INSERT INTO documentos (`Hash`, `Tipo`, `Nombre`, `Descripcion`, `Tags`, `TIME`, `Estatus`) VALUES ('jxajdljdljs', 'Certificado', 'Ventas.pdf', 'Documento que bla bla', 'Ventas', 'Ahorita', 'Activo')\n",
      "jxajdljdljs ha sido añadido a la base de datos.\n"
     ]
    }
   ],
   "source": [
    "database.insert_documentos(Hash = \"jxajdljdljs\", \n",
    "                           Tipo = \"Certificado\", \n",
    "                           Nombre = \"Ventas.pdf\", \n",
    "                           Descripcion = \"Documento que bla bla\",\n",
    "                           Tags = \"Ventas\", \n",
    "                           TIME = \"Ahorita\", \n",
    "                           Estatus = \"Activo\")"
   ]
  },
  {
   "cell_type": "code",
   "execution_count": null,
   "metadata": {},
   "outputs": [],
   "source": []
  },
  {
   "cell_type": "code",
   "execution_count": 16,
   "metadata": {
    "ExecuteTime": {
     "end_time": "2022-04-18T15:12:56.059054Z",
     "start_time": "2022-04-18T15:12:56.046070Z"
    }
   },
   "outputs": [
    {
     "name": "stdout",
     "output_type": "stream",
     "text": [
      "SELECT * FROM users\n"
     ]
    },
    {
     "data": {
      "text/plain": [
       "(('A0175043', 'enrique', 'Estudiante', 'IDM', 'gshdjhnbsjcjdnlksd', 'Activo'),\n",
       " ('A0175068', 'Jairo', 'Estudiante', 'IDM', 'pdjsnem', 'Activo'))"
      ]
     },
     "execution_count": 16,
     "metadata": {},
     "output_type": "execute_result"
    }
   ],
   "source": [
    "database.select(tabla=\"users\", \n",
    "                what = \"*\", \n",
    "                _from = \"users\", \n",
    "                where = \"Nomina\", \n",
    "                value = \"A0175043\")"
   ]
  },
  {
   "cell_type": "code",
   "execution_count": 55,
   "metadata": {
    "ExecuteTime": {
     "end_time": "2022-04-06T23:58:31.534171Z",
     "start_time": "2022-04-06T23:58:31.517320Z"
    }
   },
   "outputs": [
    {
     "name": "stdout",
     "output_type": "stream",
     "text": [
      "Actualización exitosa\n"
     ]
    }
   ],
   "source": [
    "database.update(tabla = \"users\", \n",
    "                what = \"Nombre\", \n",
    "                value=\"Juanito\", \n",
    "                where_col = \"Nomina\", \n",
    "                where_val = \"A01752068\")"
   ]
  },
  {
   "cell_type": "code",
   "execution_count": 13,
   "metadata": {
    "ExecuteTime": {
     "end_time": "2022-04-18T15:12:47.856020Z",
     "start_time": "2022-04-18T15:12:47.836007Z"
    }
   },
   "outputs": [
    {
     "name": "stdout",
     "output_type": "stream",
     "text": [
      "Eliminación exitosa\n"
     ]
    }
   ],
   "source": [
    "database.delete(tabla = \"users\", \n",
    "                where = \"Nomina\", \n",
    "                value=\"A0175068\")"
   ]
  },
  {
   "cell_type": "code",
   "execution_count": 8,
   "metadata": {
    "ExecuteTime": {
     "end_time": "2022-04-18T13:51:44.994148Z",
     "start_time": "2022-04-18T13:51:44.951699Z"
    }
   },
   "outputs": [],
   "source": [
    "from OpenSSL import crypto, SSL\n",
    "\n",
    "def cert_gen(\n",
    "    emailAddress=\"emailAddress\",\n",
    "    commonName=\"commonName\",\n",
    "    countryName=\"NT\",\n",
    "    localityName=\"localityName\",\n",
    "    stateOrProvinceName=\"stateOrProvinceName\",\n",
    "    organizationName=\"organizationName\",\n",
    "    organizationUnitName=\"organizationUnitName\",\n",
    "    serialNumber=0,\n",
    "    validityStartInSeconds=0,\n",
    "    validityEndInSeconds=10*365*24*60*60,\n",
    "    KEY_FILE = \"private.key\",\n",
    "    CERT_FILE=\"selfsigned.crt\"):\n",
    "    #can look at generated file using openssl:\n",
    "    #openssl x509 -inform pem -in selfsigned.crt -noout -text\n",
    "    # create a key pair\n",
    "    k = crypto.PKey()\n",
    "    k.generate_key(crypto.TYPE_RSA, 4096)\n",
    "    # create a self-signed cert\n",
    "    cert = crypto.X509()\n",
    "    cert.get_subject().C = countryName\n",
    "    cert.get_subject().ST = stateOrProvinceName\n",
    "    cert.get_subject().L = localityName\n",
    "    cert.get_subject().O = organizationName\n",
    "    cert.get_subject().OU = organizationUnitName\n",
    "    cert.get_subject().CN = commonName\n",
    "    cert.get_subject().emailAddress = emailAddress\n",
    "    cert.set_serial_number(serialNumber)\n",
    "    cert.gmtime_adj_notBefore(0)\n",
    "    cert.gmtime_adj_notAfter(validityEndInSeconds)\n",
    "    cert.set_issuer(cert.get_subject())\n",
    "    cert.set_pubkey(k)\n",
    "    cert.sign(k, 'sha256')\n",
    "    with open(CERT_FILE, \"wt\") as f:\n",
    "        f.write(crypto.dump_certificate(crypto.FILETYPE_PEM, cert).decode(\"utf-8\"))\n",
    "    with open(KEY_FILE, \"wt\") as f:\n",
    "        f.write(crypto.dump_privatekey(crypto.FILETYPE_PEM, k).decode(\"utf-8\"))"
   ]
  },
  {
   "cell_type": "code",
   "execution_count": 9,
   "metadata": {
    "ExecuteTime": {
     "end_time": "2022-04-18T13:51:49.451765Z",
     "start_time": "2022-04-18T13:51:48.400140Z"
    }
   },
   "outputs": [],
   "source": [
    "cert_gen(emailAddress=\"A01750443@tec.mx\",\n",
    "    commonName=\"tec.mx\",\n",
    "    countryName=\"MX\",\n",
    "    localityName=\"Monterrey\",\n",
    "    stateOrProvinceName=\"Nuevo León\",\n",
    "    organizationName=\"Tecnológico de Monterrey\",\n",
    "    organizationUnitName=\"organizationUnitName\",\n",
    "    serialNumber=0,\n",
    "    validityStartInSeconds = 0,\n",
    "    validityEndInSeconds = 1*365*24*60*60, #UN AÑO\n",
    "    KEY_FILE = \"privateJERS_2.key\",\n",
    "    CERT_FILE=\"CertificadoJERS_2.crt\")"
   ]
  },
  {
   "cell_type": "code",
   "execution_count": 1,
   "metadata": {
    "ExecuteTime": {
     "end_time": "2022-04-18T14:32:44.203062Z",
     "start_time": "2022-04-18T14:32:44.109042Z"
    }
   },
   "outputs": [
    {
     "data": {
      "text/plain": [
       "b'20220418135149Z'"
      ]
     },
     "execution_count": 1,
     "metadata": {},
     "output_type": "execute_result"
    }
   ],
   "source": [
    "import OpenSSL.crypto \n",
    "cert = OpenSSL.crypto.load_certificate(\n",
    "    OpenSSL.crypto.FILETYPE_PEM, \n",
    "    open('CertificadoJERS_2.crt').read()\n",
    ")\n",
    "cert.get_notBefore()"
   ]
  },
  {
   "cell_type": "code",
   "execution_count": 14,
   "metadata": {
    "ExecuteTime": {
     "end_time": "2022-04-18T13:52:14.924285Z",
     "start_time": "2022-04-18T13:52:14.893864Z"
    }
   },
   "outputs": [
    {
     "ename": "Error",
     "evalue": "[('PEM routines', 'get_name', 'no start line')]",
     "output_type": "error",
     "traceback": [
      "\u001b[1;31m---------------------------------------------------------------------------\u001b[0m",
      "\u001b[1;31mError\u001b[0m                                     Traceback (most recent call last)",
      "\u001b[1;32m<ipython-input-14-dc3bbb31f30e>\u001b[0m in \u001b[0;36m<module>\u001b[1;34m\u001b[0m\n\u001b[1;32m----> 1\u001b[1;33m \u001b[0mOpenSSL\u001b[0m\u001b[1;33m.\u001b[0m\u001b[0mcrypto\u001b[0m\u001b[1;33m.\u001b[0m\u001b[0mload_certificate\u001b[0m\u001b[1;33m(\u001b[0m\u001b[0mOpenSSL\u001b[0m\u001b[1;33m.\u001b[0m\u001b[0mcrypto\u001b[0m\u001b[1;33m.\u001b[0m\u001b[0mFILETYPE_PEM\u001b[0m\u001b[1;33m,\u001b[0m \u001b[1;34m'CertificadoJERS.crt'\u001b[0m\u001b[1;33m)\u001b[0m\u001b[1;33m\u001b[0m\u001b[1;33m\u001b[0m\u001b[0m\n\u001b[0m",
      "\u001b[1;32m~\\.conda\\envs\\DataScience\\lib\\site-packages\\OpenSSL\\crypto.py\u001b[0m in \u001b[0;36mload_certificate\u001b[1;34m(type, buffer)\u001b[0m\n\u001b[0;32m   1949\u001b[0m \u001b[1;33m\u001b[0m\u001b[0m\n\u001b[0;32m   1950\u001b[0m     \u001b[1;32mif\u001b[0m \u001b[0mx509\u001b[0m \u001b[1;33m==\u001b[0m \u001b[0m_ffi\u001b[0m\u001b[1;33m.\u001b[0m\u001b[0mNULL\u001b[0m\u001b[1;33m:\u001b[0m\u001b[1;33m\u001b[0m\u001b[1;33m\u001b[0m\u001b[0m\n\u001b[1;32m-> 1951\u001b[1;33m         \u001b[0m_raise_current_error\u001b[0m\u001b[1;33m(\u001b[0m\u001b[1;33m)\u001b[0m\u001b[1;33m\u001b[0m\u001b[1;33m\u001b[0m\u001b[0m\n\u001b[0m\u001b[0;32m   1952\u001b[0m \u001b[1;33m\u001b[0m\u001b[0m\n\u001b[0;32m   1953\u001b[0m     \u001b[1;32mreturn\u001b[0m \u001b[0mX509\u001b[0m\u001b[1;33m.\u001b[0m\u001b[0m_from_raw_x509_ptr\u001b[0m\u001b[1;33m(\u001b[0m\u001b[0mx509\u001b[0m\u001b[1;33m)\u001b[0m\u001b[1;33m\u001b[0m\u001b[1;33m\u001b[0m\u001b[0m\n",
      "\u001b[1;32m~\\.conda\\envs\\DataScience\\lib\\site-packages\\OpenSSL\\_util.py\u001b[0m in \u001b[0;36mexception_from_error_queue\u001b[1;34m(exception_type)\u001b[0m\n\u001b[0;32m     55\u001b[0m         )\n\u001b[0;32m     56\u001b[0m \u001b[1;33m\u001b[0m\u001b[0m\n\u001b[1;32m---> 57\u001b[1;33m     \u001b[1;32mraise\u001b[0m \u001b[0mexception_type\u001b[0m\u001b[1;33m(\u001b[0m\u001b[0merrors\u001b[0m\u001b[1;33m)\u001b[0m\u001b[1;33m\u001b[0m\u001b[1;33m\u001b[0m\u001b[0m\n\u001b[0m\u001b[0;32m     58\u001b[0m \u001b[1;33m\u001b[0m\u001b[0m\n\u001b[0;32m     59\u001b[0m \u001b[1;33m\u001b[0m\u001b[0m\n",
      "\u001b[1;31mError\u001b[0m: [('PEM routines', 'get_name', 'no start line')]"
     ]
    }
   ],
   "source": [
    "OpenSSL.crypto.load_certificate(OpenSSL.crypto.FILETYPE_PEM, 'CertificadoJERS.crt')"
   ]
  },
  {
   "cell_type": "code",
   "execution_count": 15,
   "metadata": {
    "ExecuteTime": {
     "end_time": "2022-04-18T13:52:15.073107Z",
     "start_time": "2022-04-18T13:52:15.064096Z"
    }
   },
   "outputs": [
    {
     "name": "stdout",
     "output_type": "stream",
     "text": [
      "b'sha256WithRSAEncryption'\n",
      "b'20230418135149Z'\n",
      "<OpenSSL.crypto.PKey object at 0x000002817C562430>\n",
      "<X509Name object '/C=MX/ST=Nuevo Le\\xC3\\xB3n/L=Monterrey/O=Tecnol\\xC3\\xB3gico de Monterrey/OU=organizationUnitName/CN=tec.mx/emailAddress=A01750443@tec.mx'>\n"
     ]
    }
   ],
   "source": [
    "print(cert.get_signature_algorithm()) #Con qué algoritmo fue firmado\n",
    "print(cert.get_notAfter()) #fecha de expiración\n",
    "print(cert.get_pubkey())\n",
    "print(cert.get_subject()) # Datos sobre el certificado"
   ]
  },
  {
   "cell_type": "code",
   "execution_count": 91,
   "metadata": {
    "ExecuteTime": {
     "end_time": "2022-04-07T14:55:54.892863Z",
     "start_time": "2022-04-07T14:55:54.874985Z"
    }
   },
   "outputs": [],
   "source": [
    "def check_associate_cert_with_private_key(cert, private_key):\n",
    "    \"\"\"\n",
    "    :type cert: str\n",
    "    :type private_key: str\n",
    "    :rtype: bool\n",
    "    \"\"\"\n",
    "    try:\n",
    "        private_key_obj = OpenSSL.crypto.load_privatekey(OpenSSL.crypto.FILETYPE_PEM, open(private_key).read())\n",
    "    except OpenSSL.crypto.Error:\n",
    "        raise Exception('private key is not correct: %s' % private_key)\n",
    "\n",
    "    try:\n",
    "        cert_obj = OpenSSL.crypto.load_certificate(OpenSSL.crypto.FILETYPE_PEM, open(cert).read())\n",
    "    except OpenSSL.crypto.Error:\n",
    "        raise Exception('certificate is not correct: %s' % cert)\n",
    "\n",
    "    context = OpenSSL.SSL.Context(OpenSSL.SSL.TLSv1_METHOD)\n",
    "    context.use_privatekey(private_key_obj)\n",
    "    context.use_certificate(cert_obj)\n",
    "    try:\n",
    "        context.check_privatekey()\n",
    "        return True\n",
    "    except OpenSSL.SSL.Error:\n",
    "        return False"
   ]
  },
  {
   "cell_type": "code",
   "execution_count": 96,
   "metadata": {
    "ExecuteTime": {
     "end_time": "2022-04-07T14:58:09.880476Z",
     "start_time": "2022-04-07T14:58:09.852750Z"
    }
   },
   "outputs": [
    {
     "data": {
      "text/plain": [
       "False"
      ]
     },
     "execution_count": 96,
     "metadata": {},
     "output_type": "execute_result"
    }
   ],
   "source": [
    "check_associate_cert_with_private_key(\"CertificadoJERS_2.crt\", \"privateJERS.key\")"
   ]
  },
  {
   "cell_type": "code",
   "execution_count": 2,
   "metadata": {
    "ExecuteTime": {
     "end_time": "2022-04-18T14:32:47.433347Z",
     "start_time": "2022-04-18T14:32:47.406393Z"
    }
   },
   "outputs": [
    {
     "name": "stdout",
     "output_type": "stream",
     "text": [
      "MD5: d7a4be0864d8b40a1fe18c6139b4807a\n",
      "SHA1: 7f042c1c98d9beb8ad45d803cfdce6dc25882eced8820ed91b19194b7e19e55e\n"
     ]
    }
   ],
   "source": [
    "import sys\n",
    "import hashlib\n",
    "\n",
    "# BUF_SIZE is totally arbitrary, change for your app!\n",
    "BUF_SIZE = 65536  # lets read stuff in 64kb chunks!\n",
    "\n",
    "md5 = hashlib.md5()\n",
    "sha1 = hashlib.sha256()\n",
    "#hashlib.sha512\n",
    "\n",
    "with open(\"../LSMLatinxAI.pdf\", 'rb') as f:\n",
    "    while True:\n",
    "        data = f.read(BUF_SIZE)\n",
    "        if not data:\n",
    "            break\n",
    "        md5.update(data)\n",
    "        sha1.update(data)\n",
    "\n",
    "print(\"MD5: {0}\".format(md5.hexdigest()))\n",
    "print(\"SHA1: {0}\".format(sha1.hexdigest()))"
   ]
  },
  {
   "cell_type": "code",
   "execution_count": 8,
   "metadata": {
    "ExecuteTime": {
     "end_time": "2022-04-07T15:21:54.345893Z",
     "start_time": "2022-04-07T15:21:36.915202Z"
    },
    "collapsed": true
   },
   "outputs": [
    {
     "name": "stdout",
     "output_type": "stream",
     "text": [
      "Collecting pycrypto\n",
      "  Using cached pycrypto-2.6.1.tar.gz (446 kB)\n",
      "Building wheels for collected packages: pycrypto\n",
      "  Building wheel for pycrypto (setup.py): started\n",
      "  Building wheel for pycrypto (setup.py): finished with status 'error'\n",
      "  Running setup.py clean for pycrypto\n",
      "Failed to build pycrypto\n",
      "Installing collected packages: pycrypto\n",
      "    Running setup.py install for pycrypto: started\n",
      "    Running setup.py install for pycrypto: finished with status 'error'\n"
     ]
    },
    {
     "name": "stderr",
     "output_type": "stream",
     "text": [
      "  ERROR: Command errored out with exit status 1:\n",
      "   command: 'C:\\Users\\Jairo Enrique\\.conda\\envs\\DataScience\\python.exe' -u -c 'import sys, setuptools, tokenize; sys.argv[0] = '\"'\"'C:\\\\Users\\\\Jairo Enrique\\\\AppData\\\\Local\\\\Temp\\\\pip-install-oyp89_8f\\\\pycrypto\\\\setup.py'\"'\"'; __file__='\"'\"'C:\\\\Users\\\\Jairo Enrique\\\\AppData\\\\Local\\\\Temp\\\\pip-install-oyp89_8f\\\\pycrypto\\\\setup.py'\"'\"';f=getattr(tokenize, '\"'\"'open'\"'\"', open)(__file__);code=f.read().replace('\"'\"'\\r\\n'\"'\"', '\"'\"'\\n'\"'\"');f.close();exec(compile(code, __file__, '\"'\"'exec'\"'\"'))' bdist_wheel -d 'C:\\Users\\Jairo Enrique\\AppData\\Local\\Temp\\pip-wheel-hh72hveu'\n",
      "       cwd: C:\\Users\\Jairo Enrique\\AppData\\Local\\Temp\\pip-install-oyp89_8f\\pycrypto\\\n",
      "  Complete output (153 lines):\n",
      "  running bdist_wheel\n",
      "  running build\n",
      "  running build_py\n",
      "  creating build\n",
      "  creating build\\lib.win-amd64-3.8\n",
      "  creating build\\lib.win-amd64-3.8\\Crypto\n",
      "  copying lib\\Crypto\\pct_warnings.py -> build\\lib.win-amd64-3.8\\Crypto\n",
      "  copying lib\\Crypto\\__init__.py -> build\\lib.win-amd64-3.8\\Crypto\n",
      "  creating build\\lib.win-amd64-3.8\\Crypto\\Hash\n",
      "  copying lib\\Crypto\\Hash\\hashalgo.py -> build\\lib.win-amd64-3.8\\Crypto\\Hash\n",
      "  copying lib\\Crypto\\Hash\\HMAC.py -> build\\lib.win-amd64-3.8\\Crypto\\Hash\n",
      "  copying lib\\Crypto\\Hash\\MD2.py -> build\\lib.win-amd64-3.8\\Crypto\\Hash\n",
      "  copying lib\\Crypto\\Hash\\MD4.py -> build\\lib.win-amd64-3.8\\Crypto\\Hash\n",
      "  copying lib\\Crypto\\Hash\\MD5.py -> build\\lib.win-amd64-3.8\\Crypto\\Hash\n",
      "  copying lib\\Crypto\\Hash\\RIPEMD.py -> build\\lib.win-amd64-3.8\\Crypto\\Hash\n",
      "  copying lib\\Crypto\\Hash\\SHA.py -> build\\lib.win-amd64-3.8\\Crypto\\Hash\n",
      "  copying lib\\Crypto\\Hash\\SHA224.py -> build\\lib.win-amd64-3.8\\Crypto\\Hash\n",
      "  copying lib\\Crypto\\Hash\\SHA256.py -> build\\lib.win-amd64-3.8\\Crypto\\Hash\n",
      "  copying lib\\Crypto\\Hash\\SHA384.py -> build\\lib.win-amd64-3.8\\Crypto\\Hash\n",
      "  copying lib\\Crypto\\Hash\\SHA512.py -> build\\lib.win-amd64-3.8\\Crypto\\Hash\n",
      "  copying lib\\Crypto\\Hash\\__init__.py -> build\\lib.win-amd64-3.8\\Crypto\\Hash\n",
      "  creating build\\lib.win-amd64-3.8\\Crypto\\Cipher\n",
      "  copying lib\\Crypto\\Cipher\\AES.py -> build\\lib.win-amd64-3.8\\Crypto\\Cipher\n",
      "  copying lib\\Crypto\\Cipher\\ARC2.py -> build\\lib.win-amd64-3.8\\Crypto\\Cipher\n",
      "  copying lib\\Crypto\\Cipher\\ARC4.py -> build\\lib.win-amd64-3.8\\Crypto\\Cipher\n",
      "  copying lib\\Crypto\\Cipher\\blockalgo.py -> build\\lib.win-amd64-3.8\\Crypto\\Cipher\n",
      "  copying lib\\Crypto\\Cipher\\Blowfish.py -> build\\lib.win-amd64-3.8\\Crypto\\Cipher\n",
      "  copying lib\\Crypto\\Cipher\\CAST.py -> build\\lib.win-amd64-3.8\\Crypto\\Cipher\n",
      "  copying lib\\Crypto\\Cipher\\DES.py -> build\\lib.win-amd64-3.8\\Crypto\\Cipher\n",
      "  copying lib\\Crypto\\Cipher\\DES3.py -> build\\lib.win-amd64-3.8\\Crypto\\Cipher\n",
      "  copying lib\\Crypto\\Cipher\\PKCS1_OAEP.py -> build\\lib.win-amd64-3.8\\Crypto\\Cipher\n",
      "  copying lib\\Crypto\\Cipher\\PKCS1_v1_5.py -> build\\lib.win-amd64-3.8\\Crypto\\Cipher\n",
      "  copying lib\\Crypto\\Cipher\\XOR.py -> build\\lib.win-amd64-3.8\\Crypto\\Cipher\n",
      "  copying lib\\Crypto\\Cipher\\__init__.py -> build\\lib.win-amd64-3.8\\Crypto\\Cipher\n",
      "  creating build\\lib.win-amd64-3.8\\Crypto\\Util\n",
      "  copying lib\\Crypto\\Util\\asn1.py -> build\\lib.win-amd64-3.8\\Crypto\\Util\n",
      "  copying lib\\Crypto\\Util\\Counter.py -> build\\lib.win-amd64-3.8\\Crypto\\Util\n",
      "  copying lib\\Crypto\\Util\\number.py -> build\\lib.win-amd64-3.8\\Crypto\\Util\n",
      "  copying lib\\Crypto\\Util\\py3compat.py -> build\\lib.win-amd64-3.8\\Crypto\\Util\n",
      "  copying lib\\Crypto\\Util\\randpool.py -> build\\lib.win-amd64-3.8\\Crypto\\Util\n",
      "  copying lib\\Crypto\\Util\\RFC1751.py -> build\\lib.win-amd64-3.8\\Crypto\\Util\n",
      "  copying lib\\Crypto\\Util\\winrandom.py -> build\\lib.win-amd64-3.8\\Crypto\\Util\n",
      "  copying lib\\Crypto\\Util\\_number_new.py -> build\\lib.win-amd64-3.8\\Crypto\\Util\n",
      "  copying lib\\Crypto\\Util\\__init__.py -> build\\lib.win-amd64-3.8\\Crypto\\Util\n",
      "  creating build\\lib.win-amd64-3.8\\Crypto\\Random\n",
      "  copying lib\\Crypto\\Random\\random.py -> build\\lib.win-amd64-3.8\\Crypto\\Random\n",
      "  copying lib\\Crypto\\Random\\_UserFriendlyRNG.py -> build\\lib.win-amd64-3.8\\Crypto\\Random\n",
      "  copying lib\\Crypto\\Random\\__init__.py -> build\\lib.win-amd64-3.8\\Crypto\\Random\n",
      "  creating build\\lib.win-amd64-3.8\\Crypto\\Random\\Fortuna\n",
      "  copying lib\\Crypto\\Random\\Fortuna\\FortunaAccumulator.py -> build\\lib.win-amd64-3.8\\Crypto\\Random\\Fortuna\n",
      "  copying lib\\Crypto\\Random\\Fortuna\\FortunaGenerator.py -> build\\lib.win-amd64-3.8\\Crypto\\Random\\Fortuna\n",
      "  copying lib\\Crypto\\Random\\Fortuna\\SHAd256.py -> build\\lib.win-amd64-3.8\\Crypto\\Random\\Fortuna\n",
      "  copying lib\\Crypto\\Random\\Fortuna\\__init__.py -> build\\lib.win-amd64-3.8\\Crypto\\Random\\Fortuna\n",
      "  creating build\\lib.win-amd64-3.8\\Crypto\\Random\\OSRNG\n",
      "  copying lib\\Crypto\\Random\\OSRNG\\fallback.py -> build\\lib.win-amd64-3.8\\Crypto\\Random\\OSRNG\n",
      "  copying lib\\Crypto\\Random\\OSRNG\\nt.py -> build\\lib.win-amd64-3.8\\Crypto\\Random\\OSRNG\n",
      "  copying lib\\Crypto\\Random\\OSRNG\\posix.py -> build\\lib.win-amd64-3.8\\Crypto\\Random\\OSRNG\n",
      "  copying lib\\Crypto\\Random\\OSRNG\\rng_base.py -> build\\lib.win-amd64-3.8\\Crypto\\Random\\OSRNG\n",
      "  copying lib\\Crypto\\Random\\OSRNG\\__init__.py -> build\\lib.win-amd64-3.8\\Crypto\\Random\\OSRNG\n",
      "  creating build\\lib.win-amd64-3.8\\Crypto\\SelfTest\n",
      "  copying lib\\Crypto\\SelfTest\\st_common.py -> build\\lib.win-amd64-3.8\\Crypto\\SelfTest\n",
      "  copying lib\\Crypto\\SelfTest\\__init__.py -> build\\lib.win-amd64-3.8\\Crypto\\SelfTest\n",
      "  creating build\\lib.win-amd64-3.8\\Crypto\\SelfTest\\Cipher\n",
      "  copying lib\\Crypto\\SelfTest\\Cipher\\common.py -> build\\lib.win-amd64-3.8\\Crypto\\SelfTest\\Cipher\n",
      "  copying lib\\Crypto\\SelfTest\\Cipher\\test_AES.py -> build\\lib.win-amd64-3.8\\Crypto\\SelfTest\\Cipher\n",
      "  copying lib\\Crypto\\SelfTest\\Cipher\\test_ARC2.py -> build\\lib.win-amd64-3.8\\Crypto\\SelfTest\\Cipher\n",
      "  copying lib\\Crypto\\SelfTest\\Cipher\\test_ARC4.py -> build\\lib.win-amd64-3.8\\Crypto\\SelfTest\\Cipher\n",
      "  copying lib\\Crypto\\SelfTest\\Cipher\\test_Blowfish.py -> build\\lib.win-amd64-3.8\\Crypto\\SelfTest\\Cipher\n",
      "  copying lib\\Crypto\\SelfTest\\Cipher\\test_CAST.py -> build\\lib.win-amd64-3.8\\Crypto\\SelfTest\\Cipher\n",
      "  copying lib\\Crypto\\SelfTest\\Cipher\\test_DES.py -> build\\lib.win-amd64-3.8\\Crypto\\SelfTest\\Cipher\n",
      "  copying lib\\Crypto\\SelfTest\\Cipher\\test_DES3.py -> build\\lib.win-amd64-3.8\\Crypto\\SelfTest\\Cipher\n",
      "  copying lib\\Crypto\\SelfTest\\Cipher\\test_pkcs1_15.py -> build\\lib.win-amd64-3.8\\Crypto\\SelfTest\\Cipher\n",
      "  copying lib\\Crypto\\SelfTest\\Cipher\\test_pkcs1_oaep.py -> build\\lib.win-amd64-3.8\\Crypto\\SelfTest\\Cipher\n",
      "  copying lib\\Crypto\\SelfTest\\Cipher\\test_XOR.py -> build\\lib.win-amd64-3.8\\Crypto\\SelfTest\\Cipher\n",
      "  copying lib\\Crypto\\SelfTest\\Cipher\\__init__.py -> build\\lib.win-amd64-3.8\\Crypto\\SelfTest\\Cipher\n",
      "  creating build\\lib.win-amd64-3.8\\Crypto\\SelfTest\\Hash\n",
      "  copying lib\\Crypto\\SelfTest\\Hash\\common.py -> build\\lib.win-amd64-3.8\\Crypto\\SelfTest\\Hash\n",
      "  copying lib\\Crypto\\SelfTest\\Hash\\test_HMAC.py -> build\\lib.win-amd64-3.8\\Crypto\\SelfTest\\Hash\n",
      "  copying lib\\Crypto\\SelfTest\\Hash\\test_MD2.py -> build\\lib.win-amd64-3.8\\Crypto\\SelfTest\\Hash\n",
      "  copying lib\\Crypto\\SelfTest\\Hash\\test_MD4.py -> build\\lib.win-amd64-3.8\\Crypto\\SelfTest\\Hash\n",
      "  copying lib\\Crypto\\SelfTest\\Hash\\test_MD5.py -> build\\lib.win-amd64-3.8\\Crypto\\SelfTest\\Hash\n",
      "  copying lib\\Crypto\\SelfTest\\Hash\\test_RIPEMD.py -> build\\lib.win-amd64-3.8\\Crypto\\SelfTest\\Hash\n",
      "  copying lib\\Crypto\\SelfTest\\Hash\\test_SHA.py -> build\\lib.win-amd64-3.8\\Crypto\\SelfTest\\Hash\n",
      "  copying lib\\Crypto\\SelfTest\\Hash\\test_SHA224.py -> build\\lib.win-amd64-3.8\\Crypto\\SelfTest\\Hash\n",
      "  copying lib\\Crypto\\SelfTest\\Hash\\test_SHA256.py -> build\\lib.win-amd64-3.8\\Crypto\\SelfTest\\Hash\n",
      "  copying lib\\Crypto\\SelfTest\\Hash\\test_SHA384.py -> build\\lib.win-amd64-3.8\\Crypto\\SelfTest\\Hash\n",
      "  copying lib\\Crypto\\SelfTest\\Hash\\test_SHA512.py -> build\\lib.win-amd64-3.8\\Crypto\\SelfTest\\Hash\n",
      "  copying lib\\Crypto\\SelfTest\\Hash\\__init__.py -> build\\lib.win-amd64-3.8\\Crypto\\SelfTest\\Hash\n",
      "  creating build\\lib.win-amd64-3.8\\Crypto\\SelfTest\\Protocol\n",
      "  copying lib\\Crypto\\SelfTest\\Protocol\\test_AllOrNothing.py -> build\\lib.win-amd64-3.8\\Crypto\\SelfTest\\Protocol\n",
      "  copying lib\\Crypto\\SelfTest\\Protocol\\test_chaffing.py -> build\\lib.win-amd64-3.8\\Crypto\\SelfTest\\Protocol\n",
      "  copying lib\\Crypto\\SelfTest\\Protocol\\test_KDF.py -> build\\lib.win-amd64-3.8\\Crypto\\SelfTest\\Protocol\n",
      "  copying lib\\Crypto\\SelfTest\\Protocol\\test_rfc1751.py -> build\\lib.win-amd64-3.8\\Crypto\\SelfTest\\Protocol\n",
      "  copying lib\\Crypto\\SelfTest\\Protocol\\__init__.py -> build\\lib.win-amd64-3.8\\Crypto\\SelfTest\\Protocol\n",
      "  creating build\\lib.win-amd64-3.8\\Crypto\\SelfTest\\PublicKey\n",
      "  copying lib\\Crypto\\SelfTest\\PublicKey\\test_DSA.py -> build\\lib.win-amd64-3.8\\Crypto\\SelfTest\\PublicKey\n",
      "  copying lib\\Crypto\\SelfTest\\PublicKey\\test_ElGamal.py -> build\\lib.win-amd64-3.8\\Crypto\\SelfTest\\PublicKey\n",
      "  copying lib\\Crypto\\SelfTest\\PublicKey\\test_importKey.py -> build\\lib.win-amd64-3.8\\Crypto\\SelfTest\\PublicKey\n",
      "  copying lib\\Crypto\\SelfTest\\PublicKey\\test_RSA.py -> build\\lib.win-amd64-3.8\\Crypto\\SelfTest\\PublicKey\n",
      "  copying lib\\Crypto\\SelfTest\\PublicKey\\__init__.py -> build\\lib.win-amd64-3.8\\Crypto\\SelfTest\\PublicKey\n",
      "  creating build\\lib.win-amd64-3.8\\Crypto\\SelfTest\\Random\n",
      "  copying lib\\Crypto\\SelfTest\\Random\\test_random.py -> build\\lib.win-amd64-3.8\\Crypto\\SelfTest\\Random\n",
      "  copying lib\\Crypto\\SelfTest\\Random\\test_rpoolcompat.py -> build\\lib.win-amd64-3.8\\Crypto\\SelfTest\\Random\n",
      "  copying lib\\Crypto\\SelfTest\\Random\\test__UserFriendlyRNG.py -> build\\lib.win-amd64-3.8\\Crypto\\SelfTest\\Random\n",
      "  copying lib\\Crypto\\SelfTest\\Random\\__init__.py -> build\\lib.win-amd64-3.8\\Crypto\\SelfTest\\Random\n",
      "  creating build\\lib.win-amd64-3.8\\Crypto\\SelfTest\\Random\\Fortuna\n",
      "  copying lib\\Crypto\\SelfTest\\Random\\Fortuna\\test_FortunaAccumulator.py -> build\\lib.win-amd64-3.8\\Crypto\\SelfTest\\Random\\Fortuna\n",
      "  copying lib\\Crypto\\SelfTest\\Random\\Fortuna\\test_FortunaGenerator.py -> build\\lib.win-amd64-3.8\\Crypto\\SelfTest\\Random\\Fortuna\n",
      "  copying lib\\Crypto\\SelfTest\\Random\\Fortuna\\test_SHAd256.py -> build\\lib.win-amd64-3.8\\Crypto\\SelfTest\\Random\\Fortuna\n",
      "  copying lib\\Crypto\\SelfTest\\Random\\Fortuna\\__init__.py -> build\\lib.win-amd64-3.8\\Crypto\\SelfTest\\Random\\Fortuna\n",
      "  creating build\\lib.win-amd64-3.8\\Crypto\\SelfTest\\Random\\OSRNG\n",
      "  copying lib\\Crypto\\SelfTest\\Random\\OSRNG\\test_fallback.py -> build\\lib.win-amd64-3.8\\Crypto\\SelfTest\\Random\\OSRNG\n",
      "  copying lib\\Crypto\\SelfTest\\Random\\OSRNG\\test_generic.py -> build\\lib.win-amd64-3.8\\Crypto\\SelfTest\\Random\\OSRNG\n",
      "  copying lib\\Crypto\\SelfTest\\Random\\OSRNG\\test_nt.py -> build\\lib.win-amd64-3.8\\Crypto\\SelfTest\\Random\\OSRNG\n",
      "  copying lib\\Crypto\\SelfTest\\Random\\OSRNG\\test_posix.py -> build\\lib.win-amd64-3.8\\Crypto\\SelfTest\\Random\\OSRNG\n",
      "  copying lib\\Crypto\\SelfTest\\Random\\OSRNG\\test_winrandom.py -> build\\lib.win-amd64-3.8\\Crypto\\SelfTest\\Random\\OSRNG\n",
      "  copying lib\\Crypto\\SelfTest\\Random\\OSRNG\\__init__.py -> build\\lib.win-amd64-3.8\\Crypto\\SelfTest\\Random\\OSRNG\n",
      "  creating build\\lib.win-amd64-3.8\\Crypto\\SelfTest\\Util\n",
      "  copying lib\\Crypto\\SelfTest\\Util\\test_asn1.py -> build\\lib.win-amd64-3.8\\Crypto\\SelfTest\\Util\n",
      "  copying lib\\Crypto\\SelfTest\\Util\\test_Counter.py -> build\\lib.win-amd64-3.8\\Crypto\\SelfTest\\Util\n",
      "  copying lib\\Crypto\\SelfTest\\Util\\test_number.py -> build\\lib.win-amd64-3.8\\Crypto\\SelfTest\\Util\n",
      "  copying lib\\Crypto\\SelfTest\\Util\\test_winrandom.py -> build\\lib.win-amd64-3.8\\Crypto\\SelfTest\\Util\n",
      "  copying lib\\Crypto\\SelfTest\\Util\\__init__.py -> build\\lib.win-amd64-3.8\\Crypto\\SelfTest\\Util\n",
      "  creating build\\lib.win-amd64-3.8\\Crypto\\SelfTest\\Signature\n",
      "  copying lib\\Crypto\\SelfTest\\Signature\\test_pkcs1_15.py -> build\\lib.win-amd64-3.8\\Crypto\\SelfTest\\Signature\n",
      "  copying lib\\Crypto\\SelfTest\\Signature\\test_pkcs1_pss.py -> build\\lib.win-amd64-3.8\\Crypto\\SelfTest\\Signature\n",
      "  copying lib\\Crypto\\SelfTest\\Signature\\__init__.py -> build\\lib.win-amd64-3.8\\Crypto\\SelfTest\\Signature\n",
      "  creating build\\lib.win-amd64-3.8\\Crypto\\Protocol\n",
      "  copying lib\\Crypto\\Protocol\\AllOrNothing.py -> build\\lib.win-amd64-3.8\\Crypto\\Protocol\n",
      "  copying lib\\Crypto\\Protocol\\Chaffing.py -> build\\lib.win-amd64-3.8\\Crypto\\Protocol\n",
      "  copying lib\\Crypto\\Protocol\\KDF.py -> build\\lib.win-amd64-3.8\\Crypto\\Protocol\n",
      "  copying lib\\Crypto\\Protocol\\__init__.py -> build\\lib.win-amd64-3.8\\Crypto\\Protocol\n",
      "  creating build\\lib.win-amd64-3.8\\Crypto\\PublicKey\n",
      "  copying lib\\Crypto\\PublicKey\\DSA.py -> build\\lib.win-amd64-3.8\\Crypto\\PublicKey\n",
      "  copying lib\\Crypto\\PublicKey\\ElGamal.py -> build\\lib.win-amd64-3.8\\Crypto\\PublicKey\n",
      "  copying lib\\Crypto\\PublicKey\\pubkey.py -> build\\lib.win-amd64-3.8\\Crypto\\PublicKey\n",
      "  copying lib\\Crypto\\PublicKey\\RSA.py -> build\\lib.win-amd64-3.8\\Crypto\\PublicKey\n",
      "  copying lib\\Crypto\\PublicKey\\_DSA.py -> build\\lib.win-amd64-3.8\\Crypto\\PublicKey\n",
      "  copying lib\\Crypto\\PublicKey\\_RSA.py -> build\\lib.win-amd64-3.8\\Crypto\\PublicKey\n",
      "  copying lib\\Crypto\\PublicKey\\_slowmath.py -> build\\lib.win-amd64-3.8\\Crypto\\PublicKey\n",
      "  copying lib\\Crypto\\PublicKey\\__init__.py -> build\\lib.win-amd64-3.8\\Crypto\\PublicKey\n",
      "  creating build\\lib.win-amd64-3.8\\Crypto\\Signature\n",
      "  copying lib\\Crypto\\Signature\\PKCS1_PSS.py -> build\\lib.win-amd64-3.8\\Crypto\\Signature\n",
      "  copying lib\\Crypto\\Signature\\PKCS1_v1_5.py -> build\\lib.win-amd64-3.8\\Crypto\\Signature\n",
      "  copying lib\\Crypto\\Signature\\__init__.py -> build\\lib.win-amd64-3.8\\Crypto\\Signature\n",
      "  Skipping optional fixer: buffer\n",
      "  Skipping optional fixer: idioms\n",
      "  Skipping optional fixer: set_literal\n",
      "  Skipping optional fixer: ws_comma\n",
      "  running build_ext\n",
      "  warning: GMP or MPIR library not found; Not building Crypto.PublicKey._fastmath.\n",
      "  building 'Crypto.Random.OSRNG.winrandom' extension\n",
      "  error: Microsoft Visual C++ 14.0 or greater is required. Get it with \"Microsoft C++ Build Tools\": https://visualstudio.microsoft.com/visual-cpp-build-tools/\n",
      "  ----------------------------------------\n",
      "  ERROR: Failed building wheel for pycrypto\n",
      "    ERROR: Command errored out with exit status 1:\n",
      "     command: 'C:\\Users\\Jairo Enrique\\.conda\\envs\\DataScience\\python.exe' -u -c 'import sys, setuptools, tokenize; sys.argv[0] = '\"'\"'C:\\\\Users\\\\Jairo Enrique\\\\AppData\\\\Local\\\\Temp\\\\pip-install-oyp89_8f\\\\pycrypto\\\\setup.py'\"'\"'; __file__='\"'\"'C:\\\\Users\\\\Jairo Enrique\\\\AppData\\\\Local\\\\Temp\\\\pip-install-oyp89_8f\\\\pycrypto\\\\setup.py'\"'\"';f=getattr(tokenize, '\"'\"'open'\"'\"', open)(__file__);code=f.read().replace('\"'\"'\\r\\n'\"'\"', '\"'\"'\\n'\"'\"');f.close();exec(compile(code, __file__, '\"'\"'exec'\"'\"'))' install --record 'C:\\Users\\Jairo Enrique\\AppData\\Local\\Temp\\pip-record-z792z46s\\install-record.txt' --single-version-externally-managed --compile --install-headers 'C:\\Users\\Jairo Enrique\\.conda\\envs\\DataScience\\Include\\pycrypto'\n",
      "         cwd: C:\\Users\\Jairo Enrique\\AppData\\Local\\Temp\\pip-install-oyp89_8f\\pycrypto\\\n",
      "    Complete output (153 lines):\n",
      "    running install\n",
      "    running build\n",
      "    running build_py\n",
      "    creating build\n",
      "    creating build\\lib.win-amd64-3.8\n",
      "    creating build\\lib.win-amd64-3.8\\Crypto\n",
      "    copying lib\\Crypto\\pct_warnings.py -> build\\lib.win-amd64-3.8\\Crypto\n",
      "    copying lib\\Crypto\\__init__.py -> build\\lib.win-amd64-3.8\\Crypto\n",
      "    creating build\\lib.win-amd64-3.8\\Crypto\\Hash\n",
      "    copying lib\\Crypto\\Hash\\hashalgo.py -> build\\lib.win-amd64-3.8\\Crypto\\Hash\n",
      "    copying lib\\Crypto\\Hash\\HMAC.py -> build\\lib.win-amd64-3.8\\Crypto\\Hash\n",
      "    copying lib\\Crypto\\Hash\\MD2.py -> build\\lib.win-amd64-3.8\\Crypto\\Hash\n",
      "    copying lib\\Crypto\\Hash\\MD4.py -> build\\lib.win-amd64-3.8\\Crypto\\Hash\n",
      "    copying lib\\Crypto\\Hash\\MD5.py -> build\\lib.win-amd64-3.8\\Crypto\\Hash\n",
      "    copying lib\\Crypto\\Hash\\RIPEMD.py -> build\\lib.win-amd64-3.8\\Crypto\\Hash\n",
      "    copying lib\\Crypto\\Hash\\SHA.py -> build\\lib.win-amd64-3.8\\Crypto\\Hash\n",
      "    copying lib\\Crypto\\Hash\\SHA224.py -> build\\lib.win-amd64-3.8\\Crypto\\Hash\n",
      "    copying lib\\Crypto\\Hash\\SHA256.py -> build\\lib.win-amd64-3.8\\Crypto\\Hash\n",
      "    copying lib\\Crypto\\Hash\\SHA384.py -> build\\lib.win-amd64-3.8\\Crypto\\Hash\n",
      "    copying lib\\Crypto\\Hash\\SHA512.py -> build\\lib.win-amd64-3.8\\Crypto\\Hash\n",
      "    copying lib\\Crypto\\Hash\\__init__.py -> build\\lib.win-amd64-3.8\\Crypto\\Hash\n",
      "    creating build\\lib.win-amd64-3.8\\Crypto\\Cipher\n",
      "    copying lib\\Crypto\\Cipher\\AES.py -> build\\lib.win-amd64-3.8\\Crypto\\Cipher\n",
      "    copying lib\\Crypto\\Cipher\\ARC2.py -> build\\lib.win-amd64-3.8\\Crypto\\Cipher\n",
      "    copying lib\\Crypto\\Cipher\\ARC4.py -> build\\lib.win-amd64-3.8\\Crypto\\Cipher\n",
      "    copying lib\\Crypto\\Cipher\\blockalgo.py -> build\\lib.win-amd64-3.8\\Crypto\\Cipher\n",
      "    copying lib\\Crypto\\Cipher\\Blowfish.py -> build\\lib.win-amd64-3.8\\Crypto\\Cipher\n",
      "    copying lib\\Crypto\\Cipher\\CAST.py -> build\\lib.win-amd64-3.8\\Crypto\\Cipher\n",
      "    copying lib\\Crypto\\Cipher\\DES.py -> build\\lib.win-amd64-3.8\\Crypto\\Cipher\n",
      "    copying lib\\Crypto\\Cipher\\DES3.py -> build\\lib.win-amd64-3.8\\Crypto\\Cipher\n",
      "    copying lib\\Crypto\\Cipher\\PKCS1_OAEP.py -> build\\lib.win-amd64-3.8\\Crypto\\Cipher\n",
      "    copying lib\\Crypto\\Cipher\\PKCS1_v1_5.py -> build\\lib.win-amd64-3.8\\Crypto\\Cipher\n",
      "    copying lib\\Crypto\\Cipher\\XOR.py -> build\\lib.win-amd64-3.8\\Crypto\\Cipher\n",
      "    copying lib\\Crypto\\Cipher\\__init__.py -> build\\lib.win-amd64-3.8\\Crypto\\Cipher\n",
      "    creating build\\lib.win-amd64-3.8\\Crypto\\Util\n",
      "    copying lib\\Crypto\\Util\\asn1.py -> build\\lib.win-amd64-3.8\\Crypto\\Util\n",
      "    copying lib\\Crypto\\Util\\Counter.py -> build\\lib.win-amd64-3.8\\Crypto\\Util\n",
      "    copying lib\\Crypto\\Util\\number.py -> build\\lib.win-amd64-3.8\\Crypto\\Util\n",
      "    copying lib\\Crypto\\Util\\py3compat.py -> build\\lib.win-amd64-3.8\\Crypto\\Util\n",
      "    copying lib\\Crypto\\Util\\randpool.py -> build\\lib.win-amd64-3.8\\Crypto\\Util\n",
      "    copying lib\\Crypto\\Util\\RFC1751.py -> build\\lib.win-amd64-3.8\\Crypto\\Util\n",
      "    copying lib\\Crypto\\Util\\winrandom.py -> build\\lib.win-amd64-3.8\\Crypto\\Util\n",
      "    copying lib\\Crypto\\Util\\_number_new.py -> build\\lib.win-amd64-3.8\\Crypto\\Util\n",
      "    copying lib\\Crypto\\Util\\__init__.py -> build\\lib.win-amd64-3.8\\Crypto\\Util\n",
      "    creating build\\lib.win-amd64-3.8\\Crypto\\Random\n",
      "    copying lib\\Crypto\\Random\\random.py -> build\\lib.win-amd64-3.8\\Crypto\\Random\n",
      "    copying lib\\Crypto\\Random\\_UserFriendlyRNG.py -> build\\lib.win-amd64-3.8\\Crypto\\Random\n",
      "    copying lib\\Crypto\\Random\\__init__.py -> build\\lib.win-amd64-3.8\\Crypto\\Random\n",
      "    creating build\\lib.win-amd64-3.8\\Crypto\\Random\\Fortuna\n",
      "    copying lib\\Crypto\\Random\\Fortuna\\FortunaAccumulator.py -> build\\lib.win-amd64-3.8\\Crypto\\Random\\Fortuna\n",
      "    copying lib\\Crypto\\Random\\Fortuna\\FortunaGenerator.py -> build\\lib.win-amd64-3.8\\Crypto\\Random\\Fortuna\n",
      "    copying lib\\Crypto\\Random\\Fortuna\\SHAd256.py -> build\\lib.win-amd64-3.8\\Crypto\\Random\\Fortuna\n",
      "    copying lib\\Crypto\\Random\\Fortuna\\__init__.py -> build\\lib.win-amd64-3.8\\Crypto\\Random\\Fortuna\n",
      "    creating build\\lib.win-amd64-3.8\\Crypto\\Random\\OSRNG\n",
      "    copying lib\\Crypto\\Random\\OSRNG\\fallback.py -> build\\lib.win-amd64-3.8\\Crypto\\Random\\OSRNG\n",
      "    copying lib\\Crypto\\Random\\OSRNG\\nt.py -> build\\lib.win-amd64-3.8\\Crypto\\Random\\OSRNG\n",
      "    copying lib\\Crypto\\Random\\OSRNG\\posix.py -> build\\lib.win-amd64-3.8\\Crypto\\Random\\OSRNG\n",
      "    copying lib\\Crypto\\Random\\OSRNG\\rng_base.py -> build\\lib.win-amd64-3.8\\Crypto\\Random\\OSRNG\n",
      "    copying lib\\Crypto\\Random\\OSRNG\\__init__.py -> build\\lib.win-amd64-3.8\\Crypto\\Random\\OSRNG\n",
      "    creating build\\lib.win-amd64-3.8\\Crypto\\SelfTest\n",
      "    copying lib\\Crypto\\SelfTest\\st_common.py -> build\\lib.win-amd64-3.8\\Crypto\\SelfTest\n",
      "    copying lib\\Crypto\\SelfTest\\__init__.py -> build\\lib.win-amd64-3.8\\Crypto\\SelfTest\n",
      "    creating build\\lib.win-amd64-3.8\\Crypto\\SelfTest\\Cipher\n",
      "    copying lib\\Crypto\\SelfTest\\Cipher\\common.py -> build\\lib.win-amd64-3.8\\Crypto\\SelfTest\\Cipher\n",
      "    copying lib\\Crypto\\SelfTest\\Cipher\\test_AES.py -> build\\lib.win-amd64-3.8\\Crypto\\SelfTest\\Cipher\n",
      "    copying lib\\Crypto\\SelfTest\\Cipher\\test_ARC2.py -> build\\lib.win-amd64-3.8\\Crypto\\SelfTest\\Cipher\n",
      "    copying lib\\Crypto\\SelfTest\\Cipher\\test_ARC4.py -> build\\lib.win-amd64-3.8\\Crypto\\SelfTest\\Cipher\n",
      "    copying lib\\Crypto\\SelfTest\\Cipher\\test_Blowfish.py -> build\\lib.win-amd64-3.8\\Crypto\\SelfTest\\Cipher\n",
      "    copying lib\\Crypto\\SelfTest\\Cipher\\test_CAST.py -> build\\lib.win-amd64-3.8\\Crypto\\SelfTest\\Cipher\n",
      "    copying lib\\Crypto\\SelfTest\\Cipher\\test_DES.py -> build\\lib.win-amd64-3.8\\Crypto\\SelfTest\\Cipher\n",
      "    copying lib\\Crypto\\SelfTest\\Cipher\\test_DES3.py -> build\\lib.win-amd64-3.8\\Crypto\\SelfTest\\Cipher\n",
      "    copying lib\\Crypto\\SelfTest\\Cipher\\test_pkcs1_15.py -> build\\lib.win-amd64-3.8\\Crypto\\SelfTest\\Cipher\n",
      "    copying lib\\Crypto\\SelfTest\\Cipher\\test_pkcs1_oaep.py -> build\\lib.win-amd64-3.8\\Crypto\\SelfTest\\Cipher\n",
      "    copying lib\\Crypto\\SelfTest\\Cipher\\test_XOR.py -> build\\lib.win-amd64-3.8\\Crypto\\SelfTest\\Cipher\n",
      "    copying lib\\Crypto\\SelfTest\\Cipher\\__init__.py -> build\\lib.win-amd64-3.8\\Crypto\\SelfTest\\Cipher\n",
      "    creating build\\lib.win-amd64-3.8\\Crypto\\SelfTest\\Hash\n",
      "    copying lib\\Crypto\\SelfTest\\Hash\\common.py -> build\\lib.win-amd64-3.8\\Crypto\\SelfTest\\Hash\n",
      "    copying lib\\Crypto\\SelfTest\\Hash\\test_HMAC.py -> build\\lib.win-amd64-3.8\\Crypto\\SelfTest\\Hash\n",
      "    copying lib\\Crypto\\SelfTest\\Hash\\test_MD2.py -> build\\lib.win-amd64-3.8\\Crypto\\SelfTest\\Hash\n",
      "    copying lib\\Crypto\\SelfTest\\Hash\\test_MD4.py -> build\\lib.win-amd64-3.8\\Crypto\\SelfTest\\Hash\n",
      "    copying lib\\Crypto\\SelfTest\\Hash\\test_MD5.py -> build\\lib.win-amd64-3.8\\Crypto\\SelfTest\\Hash\n",
      "    copying lib\\Crypto\\SelfTest\\Hash\\test_RIPEMD.py -> build\\lib.win-amd64-3.8\\Crypto\\SelfTest\\Hash\n",
      "    copying lib\\Crypto\\SelfTest\\Hash\\test_SHA.py -> build\\lib.win-amd64-3.8\\Crypto\\SelfTest\\Hash\n",
      "    copying lib\\Crypto\\SelfTest\\Hash\\test_SHA224.py -> build\\lib.win-amd64-3.8\\Crypto\\SelfTest\\Hash\n",
      "    copying lib\\Crypto\\SelfTest\\Hash\\test_SHA256.py -> build\\lib.win-amd64-3.8\\Crypto\\SelfTest\\Hash\n",
      "    copying lib\\Crypto\\SelfTest\\Hash\\test_SHA384.py -> build\\lib.win-amd64-3.8\\Crypto\\SelfTest\\Hash\n",
      "    copying lib\\Crypto\\SelfTest\\Hash\\test_SHA512.py -> build\\lib.win-amd64-3.8\\Crypto\\SelfTest\\Hash\n",
      "    copying lib\\Crypto\\SelfTest\\Hash\\__init__.py -> build\\lib.win-amd64-3.8\\Crypto\\SelfTest\\Hash\n",
      "    creating build\\lib.win-amd64-3.8\\Crypto\\SelfTest\\Protocol\n",
      "    copying lib\\Crypto\\SelfTest\\Protocol\\test_AllOrNothing.py -> build\\lib.win-amd64-3.8\\Crypto\\SelfTest\\Protocol\n",
      "    copying lib\\Crypto\\SelfTest\\Protocol\\test_chaffing.py -> build\\lib.win-amd64-3.8\\Crypto\\SelfTest\\Protocol\n",
      "    copying lib\\Crypto\\SelfTest\\Protocol\\test_KDF.py -> build\\lib.win-amd64-3.8\\Crypto\\SelfTest\\Protocol\n",
      "    copying lib\\Crypto\\SelfTest\\Protocol\\test_rfc1751.py -> build\\lib.win-amd64-3.8\\Crypto\\SelfTest\\Protocol\n",
      "    copying lib\\Crypto\\SelfTest\\Protocol\\__init__.py -> build\\lib.win-amd64-3.8\\Crypto\\SelfTest\\Protocol\n",
      "    creating build\\lib.win-amd64-3.8\\Crypto\\SelfTest\\PublicKey\n",
      "    copying lib\\Crypto\\SelfTest\\PublicKey\\test_DSA.py -> build\\lib.win-amd64-3.8\\Crypto\\SelfTest\\PublicKey\n",
      "    copying lib\\Crypto\\SelfTest\\PublicKey\\test_ElGamal.py -> build\\lib.win-amd64-3.8\\Crypto\\SelfTest\\PublicKey\n",
      "    copying lib\\Crypto\\SelfTest\\PublicKey\\test_importKey.py -> build\\lib.win-amd64-3.8\\Crypto\\SelfTest\\PublicKey\n",
      "    copying lib\\Crypto\\SelfTest\\PublicKey\\test_RSA.py -> build\\lib.win-amd64-3.8\\Crypto\\SelfTest\\PublicKey\n",
      "    copying lib\\Crypto\\SelfTest\\PublicKey\\__init__.py -> build\\lib.win-amd64-3.8\\Crypto\\SelfTest\\PublicKey\n",
      "    creating build\\lib.win-amd64-3.8\\Crypto\\SelfTest\\Random\n",
      "    copying lib\\Crypto\\SelfTest\\Random\\test_random.py -> build\\lib.win-amd64-3.8\\Crypto\\SelfTest\\Random\n",
      "    copying lib\\Crypto\\SelfTest\\Random\\test_rpoolcompat.py -> build\\lib.win-amd64-3.8\\Crypto\\SelfTest\\Random\n",
      "    copying lib\\Crypto\\SelfTest\\Random\\test__UserFriendlyRNG.py -> build\\lib.win-amd64-3.8\\Crypto\\SelfTest\\Random\n",
      "    copying lib\\Crypto\\SelfTest\\Random\\__init__.py -> build\\lib.win-amd64-3.8\\Crypto\\SelfTest\\Random\n",
      "    creating build\\lib.win-amd64-3.8\\Crypto\\SelfTest\\Random\\Fortuna\n",
      "    copying lib\\Crypto\\SelfTest\\Random\\Fortuna\\test_FortunaAccumulator.py -> build\\lib.win-amd64-3.8\\Crypto\\SelfTest\\Random\\Fortuna\n",
      "    copying lib\\Crypto\\SelfTest\\Random\\Fortuna\\test_FortunaGenerator.py -> build\\lib.win-amd64-3.8\\Crypto\\SelfTest\\Random\\Fortuna\n",
      "    copying lib\\Crypto\\SelfTest\\Random\\Fortuna\\test_SHAd256.py -> build\\lib.win-amd64-3.8\\Crypto\\SelfTest\\Random\\Fortuna\n",
      "    copying lib\\Crypto\\SelfTest\\Random\\Fortuna\\__init__.py -> build\\lib.win-amd64-3.8\\Crypto\\SelfTest\\Random\\Fortuna\n",
      "    creating build\\lib.win-amd64-3.8\\Crypto\\SelfTest\\Random\\OSRNG\n",
      "    copying lib\\Crypto\\SelfTest\\Random\\OSRNG\\test_fallback.py -> build\\lib.win-amd64-3.8\\Crypto\\SelfTest\\Random\\OSRNG\n",
      "    copying lib\\Crypto\\SelfTest\\Random\\OSRNG\\test_generic.py -> build\\lib.win-amd64-3.8\\Crypto\\SelfTest\\Random\\OSRNG\n",
      "    copying lib\\Crypto\\SelfTest\\Random\\OSRNG\\test_nt.py -> build\\lib.win-amd64-3.8\\Crypto\\SelfTest\\Random\\OSRNG\n",
      "    copying lib\\Crypto\\SelfTest\\Random\\OSRNG\\test_posix.py -> build\\lib.win-amd64-3.8\\Crypto\\SelfTest\\Random\\OSRNG\n",
      "    copying lib\\Crypto\\SelfTest\\Random\\OSRNG\\test_winrandom.py -> build\\lib.win-amd64-3.8\\Crypto\\SelfTest\\Random\\OSRNG\n",
      "    copying lib\\Crypto\\SelfTest\\Random\\OSRNG\\__init__.py -> build\\lib.win-amd64-3.8\\Crypto\\SelfTest\\Random\\OSRNG\n",
      "    creating build\\lib.win-amd64-3.8\\Crypto\\SelfTest\\Util\n",
      "    copying lib\\Crypto\\SelfTest\\Util\\test_asn1.py -> build\\lib.win-amd64-3.8\\Crypto\\SelfTest\\Util\n",
      "    copying lib\\Crypto\\SelfTest\\Util\\test_Counter.py -> build\\lib.win-amd64-3.8\\Crypto\\SelfTest\\Util\n",
      "    copying lib\\Crypto\\SelfTest\\Util\\test_number.py -> build\\lib.win-amd64-3.8\\Crypto\\SelfTest\\Util\n",
      "    copying lib\\Crypto\\SelfTest\\Util\\test_winrandom.py -> build\\lib.win-amd64-3.8\\Crypto\\SelfTest\\Util\n",
      "    copying lib\\Crypto\\SelfTest\\Util\\__init__.py -> build\\lib.win-amd64-3.8\\Crypto\\SelfTest\\Util\n",
      "    creating build\\lib.win-amd64-3.8\\Crypto\\SelfTest\\Signature\n",
      "    copying lib\\Crypto\\SelfTest\\Signature\\test_pkcs1_15.py -> build\\lib.win-amd64-3.8\\Crypto\\SelfTest\\Signature\n",
      "    copying lib\\Crypto\\SelfTest\\Signature\\test_pkcs1_pss.py -> build\\lib.win-amd64-3.8\\Crypto\\SelfTest\\Signature\n",
      "    copying lib\\Crypto\\SelfTest\\Signature\\__init__.py -> build\\lib.win-amd64-3.8\\Crypto\\SelfTest\\Signature\n",
      "    creating build\\lib.win-amd64-3.8\\Crypto\\Protocol\n",
      "    copying lib\\Crypto\\Protocol\\AllOrNothing.py -> build\\lib.win-amd64-3.8\\Crypto\\Protocol\n",
      "    copying lib\\Crypto\\Protocol\\Chaffing.py -> build\\lib.win-amd64-3.8\\Crypto\\Protocol\n",
      "    copying lib\\Crypto\\Protocol\\KDF.py -> build\\lib.win-amd64-3.8\\Crypto\\Protocol\n",
      "    copying lib\\Crypto\\Protocol\\__init__.py -> build\\lib.win-amd64-3.8\\Crypto\\Protocol\n",
      "    creating build\\lib.win-amd64-3.8\\Crypto\\PublicKey\n",
      "    copying lib\\Crypto\\PublicKey\\DSA.py -> build\\lib.win-amd64-3.8\\Crypto\\PublicKey\n",
      "    copying lib\\Crypto\\PublicKey\\ElGamal.py -> build\\lib.win-amd64-3.8\\Crypto\\PublicKey\n",
      "    copying lib\\Crypto\\PublicKey\\pubkey.py -> build\\lib.win-amd64-3.8\\Crypto\\PublicKey\n",
      "    copying lib\\Crypto\\PublicKey\\RSA.py -> build\\lib.win-amd64-3.8\\Crypto\\PublicKey\n",
      "    copying lib\\Crypto\\PublicKey\\_DSA.py -> build\\lib.win-amd64-3.8\\Crypto\\PublicKey\n",
      "    copying lib\\Crypto\\PublicKey\\_RSA.py -> build\\lib.win-amd64-3.8\\Crypto\\PublicKey\n",
      "    copying lib\\Crypto\\PublicKey\\_slowmath.py -> build\\lib.win-amd64-3.8\\Crypto\\PublicKey\n",
      "    copying lib\\Crypto\\PublicKey\\__init__.py -> build\\lib.win-amd64-3.8\\Crypto\\PublicKey\n",
      "    creating build\\lib.win-amd64-3.8\\Crypto\\Signature\n",
      "    copying lib\\Crypto\\Signature\\PKCS1_PSS.py -> build\\lib.win-amd64-3.8\\Crypto\\Signature\n",
      "    copying lib\\Crypto\\Signature\\PKCS1_v1_5.py -> build\\lib.win-amd64-3.8\\Crypto\\Signature\n",
      "    copying lib\\Crypto\\Signature\\__init__.py -> build\\lib.win-amd64-3.8\\Crypto\\Signature\n",
      "    Skipping optional fixer: buffer\n",
      "    Skipping optional fixer: idioms\n",
      "    Skipping optional fixer: set_literal\n",
      "    Skipping optional fixer: ws_comma\n",
      "    running build_ext\n",
      "    warning: GMP or MPIR library not found; Not building Crypto.PublicKey._fastmath.\n",
      "    building 'Crypto.Random.OSRNG.winrandom' extension\n",
      "    error: Microsoft Visual C++ 14.0 or greater is required. Get it with \"Microsoft C++ Build Tools\": https://visualstudio.microsoft.com/visual-cpp-build-tools/\n",
      "    ----------------------------------------\n",
      "ERROR: Command errored out with exit status 1: 'C:\\Users\\Jairo Enrique\\.conda\\envs\\DataScience\\python.exe' -u -c 'import sys, setuptools, tokenize; sys.argv[0] = '\"'\"'C:\\\\Users\\\\Jairo Enrique\\\\AppData\\\\Local\\\\Temp\\\\pip-install-oyp89_8f\\\\pycrypto\\\\setup.py'\"'\"'; __file__='\"'\"'C:\\\\Users\\\\Jairo Enrique\\\\AppData\\\\Local\\\\Temp\\\\pip-install-oyp89_8f\\\\pycrypto\\\\setup.py'\"'\"';f=getattr(tokenize, '\"'\"'open'\"'\"', open)(__file__);code=f.read().replace('\"'\"'\\r\\n'\"'\"', '\"'\"'\\n'\"'\"');f.close();exec(compile(code, __file__, '\"'\"'exec'\"'\"'))' install --record 'C:\\Users\\Jairo Enrique\\AppData\\Local\\Temp\\pip-record-z792z46s\\install-record.txt' --single-version-externally-managed --compile --install-headers 'C:\\Users\\Jairo Enrique\\.conda\\envs\\DataScience\\Include\\pycrypto' Check the logs for full command output.\n"
     ]
    }
   ],
   "source": [
    "!pip install pycrypto"
   ]
  },
  {
   "cell_type": "code",
   "execution_count": null,
   "metadata": {
    "ExecuteTime": {
     "start_time": "2022-04-07T15:22:00.273Z"
    }
   },
   "outputs": [],
   "source": [
    "!pip uninstall crypto\n",
    "!pip uninstall pycrypto\n",
    "!pip uninstall pycryptodome"
   ]
  },
  {
   "cell_type": "code",
   "execution_count": null,
   "metadata": {
    "ExecuteTime": {
     "start_time": "2022-04-07T15:25:13.446Z"
    }
   },
   "outputs": [],
   "source": [
    "import sys\n",
    "from Crypto.PublicKey import RSA\n",
    "from Crypto.Hash import SHA256\n",
    "from Crypto.Signature import PKCS1_v1_5\n",
    "\n",
    "def usage():\n",
    "    print(\"Usage: \\n\"\n",
    "            \"digi-sig -s  <priv-key> <data> <signature-file> \\n\"\n",
    "            \"digi-sig -v  <PUB-key> <data> <signature-file> \\n\")\n",
    "\n",
    "if (len(sys.argv) < 5):\n",
    "    usage()\n",
    "    quit()\n",
    "\n",
    "op = sys.argv[1]\n",
    "key_f = sys.argv[2]\n",
    "data_f = sys.argv[3]\n",
    "sig_f = sys.argv[4]\n",
    "\n",
    "def generate_signature(key, data, sig_f):\n",
    "    print(\"Generating Signature\")\n",
    "    h = SHA256.new(data)\n",
    "    rsa = RSA.importKey(key)\n",
    "    signer = PKCS1_v1_5.new(rsa)\n",
    "    signature = signer.sign(h)\n",
    "    with open(sig_f, 'wb') as f: f.write(signature)\n",
    "\n",
    "def verify_signature(key, data, sig_f):\n",
    "    print(\"Verifying Signature\")\n",
    "    h = SHA256.new(data)\n",
    "    rsa = RSA.importKey(key)\n",
    "    signer = PKCS1_v1_5.new(rsa)\n",
    "    with open(sig_f, 'rb') as f: signature = f.read()\n",
    "    rsp = \"Success\" if (signer.verify(h, signature)) else \" Verification Failure\"\n",
    "    print(rsp)\n",
    "\n",
    "# Read all file contents\n",
    "with open(key_f, 'rb') as f: key = f.read()\n",
    "with open(data_f, 'rb') as f: data = f.read()\n",
    "\n",
    "if (op == \"-s\"):\n",
    "    # Generate Signature\n",
    "    generate_signature(key, data, sig_f)\n",
    "elif (op == \"-v\"):\n",
    "    # Verify Signature\n",
    "    verify_signature(key, data, sig_f)\n",
    "else:\n",
    "    #Error\n",
    "    usage()"
   ]
  },
  {
   "cell_type": "code",
   "execution_count": 1,
   "metadata": {
    "ExecuteTime": {
     "end_time": "2022-04-18T13:31:37.978865Z",
     "start_time": "2022-04-18T13:31:37.427968Z"
    }
   },
   "outputs": [
    {
     "ename": "NameError",
     "evalue": "name 'raw_input' is not defined",
     "output_type": "error",
     "traceback": [
      "\u001b[1;31m---------------------------------------------------------------------------\u001b[0m",
      "\u001b[1;31mNameError\u001b[0m                                 Traceback (most recent call last)",
      "\u001b[1;32m<ipython-input-1-01c1f6c74464>\u001b[0m in \u001b[0;36m<module>\u001b[1;34m\u001b[0m\n\u001b[0;32m      1\u001b[0m \u001b[1;32mimport\u001b[0m \u001b[0mglob\u001b[0m\u001b[1;33m\u001b[0m\u001b[1;33m\u001b[0m\u001b[0m\n\u001b[1;32m----> 2\u001b[1;33m \u001b[0mfilez\u001b[0m \u001b[1;33m=\u001b[0m \u001b[0mraw_input\u001b[0m\u001b[1;33m(\u001b[0m\u001b[1;34m\"which files do you want processed?\"\u001b[0m\u001b[1;33m)\u001b[0m\u001b[1;33m\u001b[0m\u001b[1;33m\u001b[0m\u001b[0m\n\u001b[0m\u001b[0;32m      3\u001b[0m \u001b[0mfilez_l\u001b[0m \u001b[1;33m=\u001b[0m \u001b[0mfilez\u001b[0m\u001b[1;33m.\u001b[0m\u001b[0msplit\u001b[0m\u001b[1;33m(\u001b[0m\u001b[1;33m)\u001b[0m\u001b[1;33m\u001b[0m\u001b[1;33m\u001b[0m\u001b[0m\n",
      "\u001b[1;31mNameError\u001b[0m: name 'raw_input' is not defined"
     ]
    }
   ],
   "source": [
    "import glob\n",
    "filez = raw_input(\"which files do you want processed?\")\n",
    "filez_l = filez.split()"
   ]
  },
  {
   "cell_type": "code",
   "execution_count": 22,
   "metadata": {
    "ExecuteTime": {
     "end_time": "2022-04-18T15:26:58.336727Z",
     "start_time": "2022-04-18T15:26:58.325724Z"
    }
   },
   "outputs": [],
   "source": [
    "import signVerify"
   ]
  },
  {
   "cell_type": "code",
   "execution_count": 4,
   "metadata": {
    "ExecuteTime": {
     "end_time": "2022-04-18T14:32:50.667970Z",
     "start_time": "2022-04-18T14:32:50.597970Z"
    }
   },
   "outputs": [],
   "source": [
    "g = signVerify.gen_signature(\"privateJERS_2.key\" ,bytes(sha1.hexdigest(), \"utf-8\"))"
   ]
  },
  {
   "cell_type": "code",
   "execution_count": 5,
   "metadata": {
    "ExecuteTime": {
     "end_time": "2022-04-18T14:32:50.966553Z",
     "start_time": "2022-04-18T14:32:50.956547Z"
    }
   },
   "outputs": [
    {
     "data": {
      "text/plain": [
       "'signature2022-04-18'"
      ]
     },
     "execution_count": 5,
     "metadata": {},
     "output_type": "execute_result"
    }
   ],
   "source": [
    "g.name"
   ]
  },
  {
   "cell_type": "code",
   "execution_count": 7,
   "metadata": {
    "ExecuteTime": {
     "end_time": "2022-04-18T14:29:53.764338Z",
     "start_time": "2022-04-18T14:29:53.749558Z"
    }
   },
   "outputs": [
    {
     "data": {
      "text/plain": [
       "b'7f042c1c98d9beb8ad45d803cfdce6dc25882eced8820ed91b19194b7e19e55e'"
      ]
     },
     "execution_count": 7,
     "metadata": {},
     "output_type": "execute_result"
    }
   ],
   "source": [
    "bytes(sha1.hexdigest(), \"utf-8\")"
   ]
  },
  {
   "cell_type": "code",
   "execution_count": 25,
   "metadata": {
    "ExecuteTime": {
     "end_time": "2022-04-18T14:04:55.201331Z",
     "start_time": "2022-04-18T14:04:55.196448Z"
    }
   },
   "outputs": [],
   "source": [
    "from datetime import datetime"
   ]
  },
  {
   "cell_type": "code",
   "execution_count": 42,
   "metadata": {
    "ExecuteTime": {
     "end_time": "2022-04-18T14:07:15.444401Z",
     "start_time": "2022-04-18T14:07:15.436008Z"
    }
   },
   "outputs": [
    {
     "data": {
      "text/plain": [
       "'2022-04-18'"
      ]
     },
     "execution_count": 42,
     "metadata": {},
     "output_type": "execute_result"
    }
   ],
   "source": [
    "str(datetime.now()).split()[0]"
   ]
  },
  {
   "cell_type": "code",
   "execution_count": 6,
   "metadata": {
    "ExecuteTime": {
     "end_time": "2022-04-18T14:32:54.049149Z",
     "start_time": "2022-04-18T14:32:53.905470Z"
    }
   },
   "outputs": [
    {
     "ename": "UnicodeDecodeError",
     "evalue": "'charmap' codec can't decode byte 0x8f in position 37: character maps to <undefined>",
     "output_type": "error",
     "traceback": [
      "\u001b[1;31m---------------------------------------------------------------------------\u001b[0m",
      "\u001b[1;31mUnicodeDecodeError\u001b[0m                        Traceback (most recent call last)",
      "\u001b[1;32m<ipython-input-6-a8ee64ff9ed9>\u001b[0m in \u001b[0;36m<module>\u001b[1;34m\u001b[0m\n\u001b[1;32m----> 1\u001b[1;33m \u001b[0msignVerify\u001b[0m\u001b[1;33m.\u001b[0m\u001b[0mverify\u001b[0m\u001b[1;33m(\u001b[0m\u001b[0mcert\u001b[0m\u001b[1;33m.\u001b[0m\u001b[0mget_pubkey\u001b[0m\u001b[1;33m(\u001b[0m\u001b[1;33m)\u001b[0m\u001b[1;33m,\u001b[0m \u001b[0mbytes\u001b[0m\u001b[1;33m(\u001b[0m\u001b[0msha1\u001b[0m\u001b[1;33m.\u001b[0m\u001b[0mhexdigest\u001b[0m\u001b[1;33m(\u001b[0m\u001b[1;33m)\u001b[0m\u001b[1;33m,\u001b[0m \u001b[1;34m\"utf-8\"\u001b[0m\u001b[1;33m)\u001b[0m\u001b[1;33m,\u001b[0m \u001b[0mg\u001b[0m\u001b[1;33m)\u001b[0m\u001b[1;33m\u001b[0m\u001b[1;33m\u001b[0m\u001b[0m\n\u001b[0m",
      "\u001b[1;32m~\\Desktop\\teletonSign\\signVerify.py\u001b[0m in \u001b[0;36mverify\u001b[1;34m(pub_key, document, sigfile)\u001b[0m\n\u001b[0;32m     43\u001b[0m \u001b[1;33m\u001b[0m\u001b[0m\n\u001b[0;32m     44\u001b[0m     \u001b[0mf\u001b[0m \u001b[1;33m=\u001b[0m \u001b[0mopen\u001b[0m\u001b[1;33m(\u001b[0m\u001b[0msigfile\u001b[0m\u001b[1;33m.\u001b[0m\u001b[0mname\u001b[0m\u001b[1;33m,\u001b[0m \u001b[1;34m'r'\u001b[0m\u001b[1;33m)\u001b[0m\u001b[1;33m\u001b[0m\u001b[1;33m\u001b[0m\u001b[0m\n\u001b[1;32m---> 45\u001b[1;33m     \u001b[0msigfile\u001b[0m \u001b[1;33m=\u001b[0m \u001b[0mbytes\u001b[0m\u001b[1;33m(\u001b[0m\u001b[0mf\u001b[0m\u001b[1;33m.\u001b[0m\u001b[0mread\u001b[0m\u001b[1;33m(\u001b[0m\u001b[1;33m)\u001b[0m\u001b[1;33m)\u001b[0m\u001b[1;33m\u001b[0m\u001b[1;33m\u001b[0m\u001b[0m\n\u001b[0m\u001b[0;32m     46\u001b[0m \u001b[1;33m\u001b[0m\u001b[0m\n\u001b[0;32m     47\u001b[0m     \u001b[0mpub_key\u001b[0m \u001b[1;33m=\u001b[0m \u001b[0mpub_key\u001b[0m\u001b[1;33m.\u001b[0m\u001b[0mto_cryptography_key\u001b[0m\u001b[1;33m(\u001b[0m\u001b[1;33m)\u001b[0m\u001b[1;33m\u001b[0m\u001b[1;33m\u001b[0m\u001b[0m\n",
      "\u001b[1;32m~\\.conda\\envs\\DataScience\\lib\\encodings\\cp1252.py\u001b[0m in \u001b[0;36mdecode\u001b[1;34m(self, input, final)\u001b[0m\n\u001b[0;32m     21\u001b[0m \u001b[1;32mclass\u001b[0m \u001b[0mIncrementalDecoder\u001b[0m\u001b[1;33m(\u001b[0m\u001b[0mcodecs\u001b[0m\u001b[1;33m.\u001b[0m\u001b[0mIncrementalDecoder\u001b[0m\u001b[1;33m)\u001b[0m\u001b[1;33m:\u001b[0m\u001b[1;33m\u001b[0m\u001b[1;33m\u001b[0m\u001b[0m\n\u001b[0;32m     22\u001b[0m     \u001b[1;32mdef\u001b[0m \u001b[0mdecode\u001b[0m\u001b[1;33m(\u001b[0m\u001b[0mself\u001b[0m\u001b[1;33m,\u001b[0m \u001b[0minput\u001b[0m\u001b[1;33m,\u001b[0m \u001b[0mfinal\u001b[0m\u001b[1;33m=\u001b[0m\u001b[1;32mFalse\u001b[0m\u001b[1;33m)\u001b[0m\u001b[1;33m:\u001b[0m\u001b[1;33m\u001b[0m\u001b[1;33m\u001b[0m\u001b[0m\n\u001b[1;32m---> 23\u001b[1;33m         \u001b[1;32mreturn\u001b[0m \u001b[0mcodecs\u001b[0m\u001b[1;33m.\u001b[0m\u001b[0mcharmap_decode\u001b[0m\u001b[1;33m(\u001b[0m\u001b[0minput\u001b[0m\u001b[1;33m,\u001b[0m\u001b[0mself\u001b[0m\u001b[1;33m.\u001b[0m\u001b[0merrors\u001b[0m\u001b[1;33m,\u001b[0m\u001b[0mdecoding_table\u001b[0m\u001b[1;33m)\u001b[0m\u001b[1;33m[\u001b[0m\u001b[1;36m0\u001b[0m\u001b[1;33m]\u001b[0m\u001b[1;33m\u001b[0m\u001b[1;33m\u001b[0m\u001b[0m\n\u001b[0m\u001b[0;32m     24\u001b[0m \u001b[1;33m\u001b[0m\u001b[0m\n\u001b[0;32m     25\u001b[0m \u001b[1;32mclass\u001b[0m \u001b[0mStreamWriter\u001b[0m\u001b[1;33m(\u001b[0m\u001b[0mCodec\u001b[0m\u001b[1;33m,\u001b[0m\u001b[0mcodecs\u001b[0m\u001b[1;33m.\u001b[0m\u001b[0mStreamWriter\u001b[0m\u001b[1;33m)\u001b[0m\u001b[1;33m:\u001b[0m\u001b[1;33m\u001b[0m\u001b[1;33m\u001b[0m\u001b[0m\n",
      "\u001b[1;31mUnicodeDecodeError\u001b[0m: 'charmap' codec can't decode byte 0x8f in position 37: character maps to <undefined>"
     ]
    }
   ],
   "source": [
    "signVerify.verify(cert.get_pubkey(), bytes(sha1.hexdigest(), \"utf-8\"), g)"
   ]
  },
  {
   "cell_type": "code",
   "execution_count": null,
   "metadata": {},
   "outputs": [],
   "source": []
  }
 ],
 "metadata": {
  "hide_input": false,
  "kernelspec": {
   "display_name": "Python 3",
   "language": "python",
   "name": "python3"
  },
  "language_info": {
   "codemirror_mode": {
    "name": "ipython",
    "version": 3
   },
   "file_extension": ".py",
   "mimetype": "text/x-python",
   "name": "python",
   "nbconvert_exporter": "python",
   "pygments_lexer": "ipython3",
   "version": "3.8.5"
  },
  "varInspector": {
   "cols": {
    "lenName": 16,
    "lenType": 16,
    "lenVar": 40
   },
   "kernels_config": {
    "python": {
     "delete_cmd_postfix": "",
     "delete_cmd_prefix": "del ",
     "library": "var_list.py",
     "varRefreshCmd": "print(var_dic_list())"
    },
    "r": {
     "delete_cmd_postfix": ") ",
     "delete_cmd_prefix": "rm(",
     "library": "var_list.r",
     "varRefreshCmd": "cat(var_dic_list()) "
    }
   },
   "types_to_exclude": [
    "module",
    "function",
    "builtin_function_or_method",
    "instance",
    "_Feature"
   ],
   "window_display": false
  }
 },
 "nbformat": 4,
 "nbformat_minor": 4
}
