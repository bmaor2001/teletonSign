{
 "cells": [
  {
   "cell_type": "markdown",
   "metadata": {},
   "source": [
    "## Consultas a la base de datos"
   ]
  },
  {
   "cell_type": "code",
   "execution_count": 2,
   "metadata": {
    "ExecuteTime": {
     "end_time": "2022-04-06T14:16:14.403026Z",
     "start_time": "2022-04-06T14:16:08.649223Z"
    }
   },
   "outputs": [
    {
     "name": "stdout",
     "output_type": "stream",
     "text": [
      "Collecting pymysql\n",
      "  Downloading PyMySQL-1.0.2-py3-none-any.whl (43 kB)\n",
      "Installing collected packages: pymysql\n",
      "Successfully installed pymysql-1.0.2\n"
     ]
    }
   ],
   "source": [
    "!pip install pymysql"
   ]
  },
  {
   "cell_type": "code",
   "execution_count": 1,
   "metadata": {
    "ExecuteTime": {
     "end_time": "2022-04-19T15:54:46.638281Z",
     "start_time": "2022-04-19T15:54:46.538628Z"
    }
   },
   "outputs": [],
   "source": [
    "import pymysql"
   ]
  },
  {
   "cell_type": "code",
   "execution_count": 2,
   "metadata": {
    "ExecuteTime": {
     "end_time": "2022-04-19T15:54:46.825005Z",
     "start_time": "2022-04-19T15:54:46.779614Z"
    }
   },
   "outputs": [
    {
     "name": "stdout",
     "output_type": "stream",
     "text": [
      "Conexión exitosa\n"
     ]
    }
   ],
   "source": [
    "class DataBase:\n",
    "    def __init__(self):\n",
    "        self.connection = pymysql.connect(\n",
    "            host = \"localhost\",\n",
    "            user = \"root\",\n",
    "            password = \"\",\n",
    "            db = \"teleton\"\n",
    "        )\n",
    "        self.cursor = self.connection.cursor()\n",
    "    \n",
    "        print(\"Conexión exitosa\")\n",
    "    \n",
    "    def insert_users(self, nomina, nombre, puesto, tags, certificado, estatus):\n",
    "            sql = f\"INSERT INTO users (`Nomina`, `Nombre`, `Puesto`, `Tags`, `Certificado`, `Estatus`) VALUES ('{nomina}', '{nombre}', '{puesto}', '{tags}', '{certificado}', '{estatus}')\"\n",
    "            try:\n",
    "                self.cursor.execute(sql)\n",
    "                print(f\"{nombre} ha sido añadido a la base de datos.\")\n",
    "            except Exception as e:\n",
    "                print(e)\n",
    "                \n",
    "    def insert_documentos(self, Hash, Tipo, Nombre, Descripcion, Tags, TIME, Estatus):\n",
    "            sql = f\"INSERT INTO documentos (`Hash`, `Tipo`, `Nombre`, `Descripcion`, `Tags`, `TIME`, `Estatus`) VALUES ('{Hash}', '{Tipo}', '{Nombre}', '{Descripcion}', '{Tags}', '{TIME}', '{Estatus}')\"\n",
    "            try:\n",
    "                self.cursor.execute(sql)\n",
    "                print(f\"{Nombre} ha sido añadido a la base de datos.\")\n",
    "            except Exception as e:\n",
    "                print(e)\n",
    "                \n",
    "    def insert_firma(self, Hash, Doc_signed, TIME, Nomina): \n",
    "            Doc_signed = open(Doc_signed, \"rb\").read()\n",
    "            sql = \"\"\" INSERT INTO firmas  (Hash, Doc_signed, TIME, Nomina) VALUES (%s,%s,%s,%s)\"\"\"\n",
    "            try:\n",
    "                self.cursor.execute(sql, (Hash, Doc_signed, TIME, Nomina))\n",
    "                print(f\"{Hash} ha sido añadido a la base de datos.\")\n",
    "            except Exception as e:\n",
    "                print(e)\n",
    "                \n",
    "    def select(self, tabla, what, where, value):\n",
    "        if what == \"*\":\n",
    "            sql = f\"SELECT {what} FROM {tabla}\"\n",
    "        else:\n",
    "            sql = f\"SELECT {what} FROM {tabla} where {where} = '{value}'\"\n",
    "        self.cursor.execute(sql)\n",
    "        val = self.cursor.fetchall()\n",
    "        return val\n",
    "        \n",
    "    def update(self, tabla, what, value, where_col, where_val):\n",
    "        sql = f\"UPDATE {tabla} set {what} = '{value}' where {where_col} = '{where_val}'\"\n",
    "        self.cursor.execute(sql)\n",
    "        print(\"Actualización exitosa\")\n",
    "        \n",
    "    def delete(self, tabla, where, value):\n",
    "        sql = f\"DELETE FROM {tabla} where {where} = '{value}'\"\n",
    "        self.cursor.execute(sql)\n",
    "        print(\"Eliminación exitosa\")\n",
    "\n",
    "database = DataBase()"
   ]
  },
  {
   "cell_type": "markdown",
   "metadata": {},
   "source": [
    "### Insertar un usuario"
   ]
  },
  {
   "cell_type": "code",
   "execution_count": 3,
   "metadata": {
    "ExecuteTime": {
     "end_time": "2022-04-19T15:47:05.654564Z",
     "start_time": "2022-04-19T15:47:05.641493Z"
    }
   },
   "outputs": [
    {
     "name": "stdout",
     "output_type": "stream",
     "text": [
      "Jairo ha sido añadido a la base de datos.\n"
     ]
    }
   ],
   "source": [
    "database.insert_users(nomina = \"A01752080\",\n",
    "                nombre = \"Jairo\",\n",
    "                puesto = \"Estudiante\",\n",
    "                tags = \"IDM\",\n",
    "                certificado = \"pdjsnem\",\n",
    "                estatus = \"Activo\")"
   ]
  },
  {
   "cell_type": "markdown",
   "metadata": {},
   "source": [
    "### Insertar un documento"
   ]
  },
  {
   "cell_type": "code",
   "execution_count": 4,
   "metadata": {
    "ExecuteTime": {
     "end_time": "2022-04-19T15:47:08.513666Z",
     "start_time": "2022-04-19T15:47:08.501093Z"
    }
   },
   "outputs": [
    {
     "name": "stdout",
     "output_type": "stream",
     "text": [
      "Ventas.pdf ha sido añadido a la base de datos.\n"
     ]
    }
   ],
   "source": [
    "database.insert_documentos(Hash = \"jxajdljdljswss\", \n",
    "                           Tipo = \"Certificado\", \n",
    "                           Nombre = \"Ventas.pdf\", \n",
    "                           Descripcion = \"Documento que bla bla\",\n",
    "                           Tags = \"Ventas\", \n",
    "                           TIME = \"Ahorita\", \n",
    "                           Estatus = \"Activo\")"
   ]
  },
  {
   "cell_type": "markdown",
   "metadata": {},
   "source": [
    "### Insertar una firma"
   ]
  },
  {
   "cell_type": "code",
   "execution_count": 42,
   "metadata": {
    "ExecuteTime": {
     "end_time": "2022-04-19T16:02:35.376833Z",
     "start_time": "2022-04-19T16:02:35.365276Z"
    }
   },
   "outputs": [
    {
     "name": "stdout",
     "output_type": "stream",
     "text": [
      "A01752468 ha sido añadido a la base de datos.\n"
     ]
    }
   ],
   "source": [
    "database.insert_firma(Hash = \"A01752468\",\n",
    "                Doc_signed = \"nombreDoc_nomina_fecha20220419_110201.sign\",\n",
    "                TIME = \"Estudiante\",\n",
    "                Nomina = \"IDM\")"
   ]
  },
  {
   "cell_type": "markdown",
   "metadata": {},
   "source": [
    "### Ejemplo de select"
   ]
  },
  {
   "cell_type": "code",
   "execution_count": 13,
   "metadata": {
    "ExecuteTime": {
     "end_time": "2022-04-19T15:48:43.507374Z",
     "start_time": "2022-04-19T15:48:43.484804Z"
    }
   },
   "outputs": [
    {
     "data": {
      "text/plain": [
       "(('jxajdljdljs',\n",
       "  'Certificado',\n",
       "  'Ventas.pdf',\n",
       "  'Documento que bla bla',\n",
       "  'Ventas',\n",
       "  'Ahorita',\n",
       "  'Activo'),\n",
       " ('jxajdljdljswss',\n",
       "  'Certificado',\n",
       "  'Ventas.pdf',\n",
       "  'Documento que bla bla',\n",
       "  'Ventas',\n",
       "  'Ahorita',\n",
       "  'Activo'))"
      ]
     },
     "execution_count": 13,
     "metadata": {},
     "output_type": "execute_result"
    }
   ],
   "source": [
    "#\"\"\"\n",
    "database.select(tabla = \"documentos\", \n",
    "                 what = \"*\", \n",
    "                where = \"ID\", \n",
    "                value = \"1\")\n",
    "#\"\"\""
   ]
  },
  {
   "cell_type": "code",
   "execution_count": 50,
   "metadata": {
    "ExecuteTime": {
     "end_time": "2022-04-19T16:03:42.094324Z",
     "start_time": "2022-04-19T16:03:42.079851Z"
    }
   },
   "outputs": [
    {
     "data": {
      "text/plain": [
       "((7,\n",
       "  'IDM',\n",
       "  b'p\\' |t\\xa8\\x04U\\xb7\\xb1\\xa88\\xb4cK#CK\\xd4#P\\x14\\xc7j\\xe2\\xd7o\\xb2\\xab1\\r\\xb9L\\xea\\x19\\x85 \\x98<\\r\\x86w(L\\xb8\\xba\\xf8\\x87\\xa1|(\\x14<{\\xf2\\x81\\xeb\\x1e\\xbdl\\x03\\x8d\\x05C\\xf9\\xa0a\\xdf\\xc2-\\x1b\\xb5\\xda-\\xbfl\\x12\\xad\\x8f\\xdbG#9X@\\x99tr\\xa0R\\x8e\\xf3E\\xeaK\\xe9\\xc4\\x99\\xe7\\x89\\x03\\x9c\\x11\\x88\\xa0b\\x9e\\x14(\\xaa\\x11\\x1b`\\r\\xdc1\\x13`\\xb9\\xfc7\\x89_\\xac\\x8dA[\\xe3\\x08\\x04t\\xea\\x01\\x90\\x8c\\xfe)g\\x8ap\\xf6W3\\xf9a\\xee\\x7f\\xcc\\xbb\\xe4D\\xa6\\xc3\\xf5RHGI`Ty\\xbb\\xd0g\\xf1\\xa8\\xf5A\\x95.w#\\xfe\\xf7\\x8d\\xc1(6\\x16\\x99X\\x08\\xeb\\x03\\x1f\\xe9h\\xe4\\x99>xr\\x9b\\x11\\x8e\\xb1\\xbd\\xf1\\x96\\x88R\\x98\\xdf8\\xed \\x82\\xc9\\x87dp&\\x7f.v6\\xec\\xea\\x94\\xcf\\xe9\\xf9/\\xbd;\\xcb\\xdb3\\x8fi\\xfe\\x81\\x9e\\x8c\\xdf\"^Y\\x80\\xd5C\\xe4\\'\\xc1\\xd6\\x96\\xa2\\xb7\\xe1B\\xbd\\xe3\\xaeo\\x8b\\'q\\xd5sv\\x85\\xef\\x0e\\xb0\\xa7\\xcc\\x98zS\\x97\\x0b\"@\\xbd(\\x1duf\\x05n\\x89{\\xdc\\xba\\xd2\\x08\\x1e\\x85\\xa9\\x91\\x9c\\xc2\\xee\\x89\\xa5\\x01J\\xee\\x85\\xfes\\xc2L?=\\xf5\\xe2\\xda\\xdbs\\x82\\xd7\\xf1\\t\\xc9:k\\xcb\\x98\\x9e)o$.j\\xa6\\x04UQ\\x019\\x02\\xf9\\xa6\\xf0\\x92\\x14\\x15\\xd86@\\x131\\xd2\\xf5^_b\\xd1O\\x16;\\xbdq\\xf6<\\xe9\\xb4\\xb3\\xde\\xd6\\xa3b-\\x95\\x1d\\xb3\\xb4\\xc1\\x90\\xcb\\xe2\\xfaM\\xe8\\xe0V!tn\\x86:\\r}gUb_\\x1ag\\xc8S\\x0e\\xf5\\xd6W\\xac`\\xc4\\x03\\x945I\\xc8|I\\xba_\\xa5\\xcek\\x11\\x8f=\\xb86\\xa3\\xf8\\x8d\\x84\\x9az\\xec\\xe1\\x00\\'jQ\\xa3.\\x10\\xa5\\x98{\\xdaf\\xe6\\x88\\xb6l\\x19}P\\x9a\\xd7\\x9d\\xf6\\xd5|\\x89\\x10;\\x95\\x02\\xdc4\\x87\\xcd\\x9f\\xedY\\xa3_\\xea>\\x0b%\\xcbB\\x87g\\x00\\xf6\\x8e\\\\\\xfd\\xdfh\\xe5\\x98!\\xa4t\\xbaas\\x16\\xae\\xc8\\xac\\x87\\xc5\\xf0\\x13\\x1a8\\x10\\xb8b\\x1a\\xd6\\xaf|\\x1b\\xb5e\\xe8T\\xf0\\'\\x03T'),\n",
       " (6,\n",
       "  'IDM',\n",
       "  b'z\\x15e\\xc1B\\xd6\\xbd\\xae\\xf5\\x1a\\xc6oT\\x1f\\x99\\x1d\\x89\\x96\\xdd5\\xbd\\xae\\x8b\\x01%\\xe0\\x9b6\\x08\\xb3\\xf1\\x08\\xc8\\x97\\xb2a\\xad\\xe3\\xc0O#\\x8f\\x07S(\\xed$\\xb8\\x97\\xe5\\xd2!\\xae\\x83\\xa9:\\xb3\\x06\\xcd6\\xa8\\xd1\\xc5\\xf0t\\xe1\\xbb\\x94B\\xee\\xde\\xe2\\x0b\\x17G\\xbd\\xb8\\xd0 u\\x04\\xe1\\x933\\xb6\\xa5N\\x8aq>\\xbf\\xc5\\x81\\x8b\\x10\\xd7s\\xd2b\\xf3\\xf7\\x05\\xb7\\xb3\\x01p\\x93A\\xf8\\x86f(\\xacG\\x13\\xf4@\\x12\\xf5\\x07\\xfc\\xd7G\\x87`\\xe2\\x0c\\xbb\\xf8\\x95\\xcb@\\xca\\x9c\\xe5\\x80\\x08\\x8f\\xe9\\xf7\\xfa\\xe6\\x15\\xb5I\\xc0d\\x7fR\\x9d\\xd8T2=\\x87\\t`\\x97\\x00\\n\\xb8\\xb1\\xd9c\\x01,\\xc0CV\\x80v\\x9d>\\xaf\\x9e\\x1a$+\\x1a\\x1c\\x85\\xa2?\\x87B\\xf4\\xd0\\xac\\xe4\\xe1\\xaau\\xe8\\\\.\\xeb{\\xcd>RR\\x1ea\\xd1\\nZ\\x85\\x0c\\x18^\\xf3\\xa3W\\xfa\\xbc\\xce\\xe7\\x85\\x93c\\xe6\\xf0\\xa4\\x90\\x97\\xa3\\xb5\\xc1\\xf9}\\xe5$<\\x02\\xc8?X@\\xf5&\\xa2[\\x85\\xb1\\xbb$\\xfeBk|,\\x81k]8\\xa1l\\xe9\\xf3\\xc2\\x98PZ\\x83\\xaa\\xfb\\x85\\xbb\\x050\\x92\\xca\\xe0A\\x9c\\xa9\\x15%\\xbc\\xed\\xc1\\x89\\xab\\x1aH\\x170S\\xf0\\xb1\\xbfNT\\n\\xc8&Jw\\xdc\\x1fx})\\xbe4x\\xf6\\x0b\\xd2B\"\\xdd\\x9b<=\\xdc~\\x16\\x92S&\\x8d\\xc0\\x82\\x0b\\xe7\\xa59\\xb2\\x1e\\x9b\\x81\\xf4p\\xc2\\xebn\\xb1>V,cY\\xf6\\xd8\\xe4\\xbbc\\x0b\\xf6\\xa7\\xb0\\x01\\xb7\\xd9P-k\\xd1\\xc9\\xb0\\x86\\xdb\\xdc\\xfa@.%\\x08D\\x99,L\\x1a\\xff\\x19%\\xa0\\xb1\\xcdH\\xf9\\xcc\\xfa\\x18x\\x98)vd\\xc9\\x83\\x82kR\\xde\\xed\\x7f\\xf2\\xad\\xf4\\xe3T\\xf0\\xb45\\xa1\\xe0\\xc6\\xd7\\xa0\\xb10q\\x9dnNk\\xde8\\t\\xbc\\xe3\\x87\\x8f\\xc8e\\xfc\\x9f\\xc7\\xa3\\x17y\\xe9\\xd2d\\'\\xee\\xa6\\x94\\x84\\xd0A;\\xc5\\\\)\\x99\\xf4;\\xca\\xe6\\xbe\\x8fd\\x93\\x98>\\x02\\x8bF\\xddS\\x82s\\xd2ql\\xad\\xdd>\\xbc<N\\xfe[\\x16\\x12\\xa9v:\\x84\\x01\\x82;z\\xba\\x9a\\x97%\\xe8\\x1a=&\\x13-\\x07\\x83\\xc4\\xe1H\\t\\xfa\\xfdQ\\x13\\x01\\xcf\\xe8\\xf6\\xcb\\xa2'))"
      ]
     },
     "execution_count": 50,
     "metadata": {},
     "output_type": "execute_result"
    }
   ],
   "source": [
    "F = database.select(tabla = \"firmas\", \n",
    "                what = \"ID, Nomina, Doc_signed\", \n",
    "                where = \"Hash\", \n",
    "                value = \"A01752468\")\n",
    "F#[1][2]"
   ]
  },
  {
   "cell_type": "markdown",
   "metadata": {},
   "source": [
    "### Update"
   ]
  },
  {
   "cell_type": "code",
   "execution_count": 55,
   "metadata": {
    "ExecuteTime": {
     "end_time": "2022-04-06T23:58:31.534171Z",
     "start_time": "2022-04-06T23:58:31.517320Z"
    }
   },
   "outputs": [
    {
     "name": "stdout",
     "output_type": "stream",
     "text": [
      "Actualización exitosa\n"
     ]
    }
   ],
   "source": [
    "database.update(tabla = \"users\", \n",
    "                what = \"Nombre\", \n",
    "                value=\"Juanito\", \n",
    "                where_col = \"Nomina\", \n",
    "                where_val = \"A01752068\")"
   ]
  },
  {
   "cell_type": "markdown",
   "metadata": {},
   "source": [
    "### Delete"
   ]
  },
  {
   "cell_type": "code",
   "execution_count": 32,
   "metadata": {
    "ExecuteTime": {
     "end_time": "2022-04-19T16:01:10.833268Z",
     "start_time": "2022-04-19T16:01:10.820273Z"
    }
   },
   "outputs": [
    {
     "name": "stdout",
     "output_type": "stream",
     "text": [
      "Eliminación exitosa\n"
     ]
    }
   ],
   "source": [
    "database.delete(tabla = \"firmas\", \n",
    "                where = \"ID\", \n",
    "                value=\"2\")"
   ]
  },
  {
   "cell_type": "markdown",
   "metadata": {},
   "source": [
    "## Generación del certificado digital y llave privada"
   ]
  },
  {
   "cell_type": "code",
   "execution_count": 8,
   "metadata": {
    "ExecuteTime": {
     "end_time": "2022-04-18T13:51:44.994148Z",
     "start_time": "2022-04-18T13:51:44.951699Z"
    }
   },
   "outputs": [],
   "source": [
    "from OpenSSL import crypto, SSL\n",
    "\n",
    "def cert_gen(\n",
    "    emailAddress=\"emailAddress\",\n",
    "    commonName=\"commonName\",\n",
    "    countryName=\"NT\",\n",
    "    localityName=\"localityName\",\n",
    "    stateOrProvinceName=\"stateOrProvinceName\",\n",
    "    organizationName=\"organizationName\",\n",
    "    organizationUnitName=\"organizationUnitName\",\n",
    "    serialNumber=0,\n",
    "    validityStartInSeconds=0,\n",
    "    validityEndInSeconds=10*365*24*60*60,\n",
    "    KEY_FILE = \"private.key\",\n",
    "    CERT_FILE=\"selfsigned.crt\"):\n",
    "    #can look at generated file using openssl:\n",
    "    #openssl x509 -inform pem -in selfsigned.crt -noout -text\n",
    "    # create a key pair\n",
    "    k = crypto.PKey()\n",
    "    k.generate_key(crypto.TYPE_RSA, 4096)\n",
    "    # create a self-signed cert\n",
    "    cert = crypto.X509()\n",
    "    cert.get_subject().C = countryName\n",
    "    cert.get_subject().ST = stateOrProvinceName\n",
    "    cert.get_subject().L = localityName\n",
    "    cert.get_subject().O = organizationName\n",
    "    cert.get_subject().OU = organizationUnitName\n",
    "    cert.get_subject().CN = commonName\n",
    "    cert.get_subject().emailAddress = emailAddress\n",
    "    cert.set_serial_number(serialNumber)\n",
    "    cert.gmtime_adj_notBefore(0)\n",
    "    cert.gmtime_adj_notAfter(validityEndInSeconds)\n",
    "    cert.set_issuer(cert.get_subject())\n",
    "    cert.set_pubkey(k)\n",
    "    cert.sign(k, 'sha256')\n",
    "    with open(CERT_FILE, \"wt\") as f:\n",
    "        f.write(crypto.dump_certificate(crypto.FILETYPE_PEM, cert).decode(\"utf-8\"))\n",
    "    with open(KEY_FILE, \"wt\") as f:\n",
    "        f.write(crypto.dump_privatekey(crypto.FILETYPE_PEM, k).decode(\"utf-8\"))"
   ]
  },
  {
   "cell_type": "code",
   "execution_count": 9,
   "metadata": {
    "ExecuteTime": {
     "end_time": "2022-04-18T13:51:49.451765Z",
     "start_time": "2022-04-18T13:51:48.400140Z"
    }
   },
   "outputs": [],
   "source": [
    "cert_gen(emailAddress=\"A01750443@tec.mx\",\n",
    "    commonName=\"tec.mx\",\n",
    "    countryName=\"MX\",\n",
    "    localityName=\"Monterrey\",\n",
    "    stateOrProvinceName=\"Nuevo León\",\n",
    "    organizationName=\"Tecnológico de Monterrey\",\n",
    "    organizationUnitName=\"organizationUnitName\",\n",
    "    serialNumber=0,\n",
    "    validityStartInSeconds = 0,\n",
    "    validityEndInSeconds = 1*365*24*60*60, #UN AÑO\n",
    "    KEY_FILE = \"privateJERS_2.key\",\n",
    "    CERT_FILE=\"CertificadoJERS_2.crt\")"
   ]
  },
  {
   "cell_type": "markdown",
   "metadata": {},
   "source": [
    "## Cargar el certificado"
   ]
  },
  {
   "cell_type": "code",
   "execution_count": 30,
   "metadata": {
    "ExecuteTime": {
     "end_time": "2022-04-19T14:55:11.294986Z",
     "start_time": "2022-04-19T14:55:11.136071Z"
    }
   },
   "outputs": [
    {
     "data": {
      "text/plain": [
       "b'20220418135149Z'"
      ]
     },
     "execution_count": 30,
     "metadata": {},
     "output_type": "execute_result"
    }
   ],
   "source": [
    "import OpenSSL.crypto \n",
    "cert = OpenSSL.crypto.load_certificate(\n",
    "    OpenSSL.crypto.FILETYPE_PEM, \n",
    "    open('CertificadoJERS_2.crt').read()\n",
    ")\n",
    "cert.get_notBefore()"
   ]
  },
  {
   "cell_type": "markdown",
   "metadata": {},
   "source": [
    "### Obteniendo valores del certificado"
   ]
  },
  {
   "cell_type": "code",
   "execution_count": 31,
   "metadata": {
    "ExecuteTime": {
     "end_time": "2022-04-19T14:55:13.593460Z",
     "start_time": "2022-04-19T14:55:13.575073Z"
    }
   },
   "outputs": [
    {
     "name": "stdout",
     "output_type": "stream",
     "text": [
      "b'sha256WithRSAEncryption'\n",
      "b'20230418135149Z'\n",
      "<OpenSSL.crypto.PKey object at 0x000001E04C764EB0>\n",
      "<X509Name object '/C=MX/ST=Nuevo Le\\xC3\\xB3n/L=Monterrey/O=Tecnol\\xC3\\xB3gico de Monterrey/OU=organizationUnitName/CN=tec.mx/emailAddress=A01750443@tec.mx'>\n"
     ]
    }
   ],
   "source": [
    "print(cert.get_signature_algorithm()) #Con qué algoritmo fue firmado\n",
    "print(cert.get_notAfter()) #fecha de expiración\n",
    "print(cert.get_pubkey())\n",
    "print(cert.get_subject()) # Datos sobre el certificado"
   ]
  },
  {
   "cell_type": "markdown",
   "metadata": {},
   "source": [
    "## Revisar si un certificado coincide con la llave privada"
   ]
  },
  {
   "cell_type": "code",
   "execution_count": 33,
   "metadata": {
    "ExecuteTime": {
     "end_time": "2022-04-19T14:55:20.904600Z",
     "start_time": "2022-04-19T14:55:20.895518Z"
    }
   },
   "outputs": [],
   "source": [
    "def check_associate_cert_with_private_key(cert, private_key):\n",
    "    \"\"\"\n",
    "    :type cert: str\n",
    "    :type private_key: str\n",
    "    :rtype: bool\n",
    "    \"\"\"\n",
    "    try:\n",
    "        private_key_obj = OpenSSL.crypto.load_privatekey(OpenSSL.crypto.FILETYPE_PEM, open(private_key).read())\n",
    "    except OpenSSL.crypto.Error:\n",
    "        raise Exception('private key is not correct: %s' % private_key)\n",
    "\n",
    "    try:\n",
    "        cert_obj = OpenSSL.crypto.load_certificate(OpenSSL.crypto.FILETYPE_PEM, open(cert).read())\n",
    "    except OpenSSL.crypto.Error:\n",
    "        raise Exception('certificate is not correct: %s' % cert)\n",
    "\n",
    "    context = OpenSSL.SSL.Context(OpenSSL.SSL.TLSv1_METHOD)\n",
    "    context.use_privatekey(private_key_obj)\n",
    "    context.use_certificate(cert_obj)\n",
    "    try:\n",
    "        context.check_privatekey()\n",
    "        return True\n",
    "    except OpenSSL.SSL.Error:\n",
    "        return False"
   ]
  },
  {
   "cell_type": "code",
   "execution_count": 35,
   "metadata": {
    "ExecuteTime": {
     "end_time": "2022-04-19T14:55:24.535988Z",
     "start_time": "2022-04-19T14:55:24.499992Z"
    }
   },
   "outputs": [
    {
     "data": {
      "text/plain": [
       "True"
      ]
     },
     "execution_count": 35,
     "metadata": {},
     "output_type": "execute_result"
    }
   ],
   "source": [
    "check_associate_cert_with_private_key(\"CertificadoJERS.crt\", \"privateJERS.key\")"
   ]
  },
  {
   "cell_type": "markdown",
   "metadata": {},
   "source": [
    "## Hash de cualquier documento"
   ]
  },
  {
   "cell_type": "code",
   "execution_count": 34,
   "metadata": {
    "ExecuteTime": {
     "end_time": "2022-04-19T16:01:50.847766Z",
     "start_time": "2022-04-19T16:01:50.814263Z"
    }
   },
   "outputs": [
    {
     "name": "stdout",
     "output_type": "stream",
     "text": [
      "MD5: cb59cfe68bdea88095422f5ef154150b\n",
      "SHA1: b977d0cddabbddd755654139072285aff38f918ef2f41acefe9742f7580c4877\n"
     ]
    }
   ],
   "source": [
    "import sys\n",
    "import hashlib\n",
    "\n",
    "# BUF_SIZE is totally arbitrary, change for your app!\n",
    "BUF_SIZE = 65536  # lets read stuff in 64kb chunks!\n",
    "\n",
    "md5 = hashlib.md5()\n",
    "sha1 = hashlib.sha256()\n",
    "#hashlib.sha512\n",
    "\n",
    "with open(\"../Ex.pdf\", 'rb') as f:\n",
    "    while True:\n",
    "        data = f.read(BUF_SIZE)\n",
    "        if not data:\n",
    "            break\n",
    "        md5.update(data)\n",
    "        sha1.update(data)\n",
    "\n",
    "print(\"MD5: {0}\".format(md5.hexdigest()))\n",
    "print(\"SHA1: {0}\".format(sha1.hexdigest()))"
   ]
  },
  {
   "cell_type": "markdown",
   "metadata": {
    "ExecuteTime": {
     "end_time": "2022-04-19T04:14:39.367887Z",
     "start_time": "2022-04-19T04:14:39.348972Z"
    }
   },
   "source": [
    "## Generando y verificando un certificado"
   ]
  },
  {
   "cell_type": "code",
   "execution_count": 38,
   "metadata": {
    "ExecuteTime": {
     "end_time": "2022-04-19T16:02:01.187519Z",
     "start_time": "2022-04-19T16:02:01.119249Z"
    }
   },
   "outputs": [],
   "source": [
    "import signVerify\n",
    "\n",
    "file_name = signVerify.gen_signature(\"privateJERS.key\", bytes(sha1.hexdigest(), 'utf-8'))"
   ]
  },
  {
   "cell_type": "code",
   "execution_count": 39,
   "metadata": {
    "ExecuteTime": {
     "end_time": "2022-04-19T16:02:01.709245Z",
     "start_time": "2022-04-19T16:02:01.691620Z"
    }
   },
   "outputs": [
    {
     "name": "stdout",
     "output_type": "stream",
     "text": [
      "Verification successful\n"
     ]
    }
   ],
   "source": [
    "#file_name = \"nombreDoc_nomina_fecha20220419_102737.sign\"\n",
    "signVerify.verify(\"certificadoJERS.crt\", bytes(sha1.hexdigest(), 'utf-8'), file_name)"
   ]
  },
  {
   "cell_type": "code",
   "execution_count": 40,
   "metadata": {
    "ExecuteTime": {
     "end_time": "2022-04-19T16:02:02.647381Z",
     "start_time": "2022-04-19T16:02:02.635792Z"
    }
   },
   "outputs": [
    {
     "name": "stdout",
     "output_type": "stream",
     "text": [
      "Verification failed\n"
     ]
    }
   ],
   "source": [
    "signVerify.verify(\"certificadoJERS_2.crt\", bytes(sha1.hexdigest(), 'utf-8'), file_name)"
   ]
  },
  {
   "cell_type": "code",
   "execution_count": 51,
   "metadata": {
    "ExecuteTime": {
     "end_time": "2022-04-19T16:05:40.032912Z",
     "start_time": "2022-04-19T16:05:40.019863Z"
    }
   },
   "outputs": [
    {
     "name": "stdout",
     "output_type": "stream",
     "text": [
      "Verification successful\n"
     ]
    }
   ],
   "source": [
    "signVerify.verify(\"certificadoJERS.crt\", bytes(sha1.hexdigest(), 'utf-8'), F[0][2], load = False)"
   ]
  },
  {
   "cell_type": "markdown",
   "metadata": {
    "ExecuteTime": {
     "end_time": "2022-04-19T16:02:09.185902Z",
     "start_time": "2022-04-19T16:02:09.168845Z"
    }
   },
   "source": [
    "# Ejemplo de uso del sistema"
   ]
  },
  {
   "cell_type": "code",
   "execution_count": null,
   "metadata": {},
   "outputs": [],
   "source": []
  }
 ],
 "metadata": {
  "hide_input": false,
  "kernelspec": {
   "display_name": "Python 3",
   "language": "python",
   "name": "python3"
  },
  "language_info": {
   "codemirror_mode": {
    "name": "ipython",
    "version": 3
   },
   "file_extension": ".py",
   "mimetype": "text/x-python",
   "name": "python",
   "nbconvert_exporter": "python",
   "pygments_lexer": "ipython3",
   "version": "3.8.5"
  },
  "varInspector": {
   "cols": {
    "lenName": 16,
    "lenType": 16,
    "lenVar": 40
   },
   "kernels_config": {
    "python": {
     "delete_cmd_postfix": "",
     "delete_cmd_prefix": "del ",
     "library": "var_list.py",
     "varRefreshCmd": "print(var_dic_list())"
    },
    "r": {
     "delete_cmd_postfix": ") ",
     "delete_cmd_prefix": "rm(",
     "library": "var_list.r",
     "varRefreshCmd": "cat(var_dic_list()) "
    }
   },
   "types_to_exclude": [
    "module",
    "function",
    "builtin_function_or_method",
    "instance",
    "_Feature"
   ],
   "window_display": false
  }
 },
 "nbformat": 4,
 "nbformat_minor": 4
}
