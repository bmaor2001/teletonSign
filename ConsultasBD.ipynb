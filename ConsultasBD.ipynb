{
 "cells": [
  {
   "cell_type": "markdown",
   "metadata": {},
   "source": [
    "## Consultas a la base de datos"
   ]
  },
  {
   "cell_type": "code",
   "execution_count": 2,
   "metadata": {
    "ExecuteTime": {
     "end_time": "2022-04-06T14:16:14.403026Z",
     "start_time": "2022-04-06T14:16:08.649223Z"
    }
   },
   "outputs": [
    {
     "name": "stdout",
     "output_type": "stream",
     "text": [
      "Collecting pymysql\n",
      "  Downloading PyMySQL-1.0.2-py3-none-any.whl (43 kB)\n",
      "Installing collected packages: pymysql\n",
      "Successfully installed pymysql-1.0.2\n"
     ]
    }
   ],
   "source": [
    "!pip install pymysql"
   ]
  },
  {
   "cell_type": "code",
   "execution_count": 6,
   "metadata": {
    "ExecuteTime": {
     "end_time": "2022-04-19T17:20:26.022291Z",
     "start_time": "2022-04-19T17:20:26.008339Z"
    }
   },
   "outputs": [],
   "source": [
    "import pymysql"
   ]
  },
  {
   "cell_type": "code",
   "execution_count": 7,
   "metadata": {
    "ExecuteTime": {
     "end_time": "2022-04-19T17:20:26.845922Z",
     "start_time": "2022-04-19T17:20:26.821002Z"
    }
   },
   "outputs": [
    {
     "name": "stdout",
     "output_type": "stream",
     "text": [
      "Conexión exitosa\n"
     ]
    }
   ],
   "source": [
    "class DataBase:\n",
    "    def __init__(self):\n",
    "        self.connection = pymysql.connect(\n",
    "            host = \"localhost\",\n",
    "            user = \"root\",\n",
    "            password = \"\",\n",
    "            db = \"teleton\"\n",
    "        )\n",
    "        self.cursor = self.connection.cursor()\n",
    "    \n",
    "        print(\"Conexión exitosa\")\n",
    "    \n",
    "    def insert_users(self, nomina, nombre, puesto, tags, certificado, estatus):\n",
    "            certificado = open(certificado, \"rb\").read()\n",
    "            sql = \"\"\"INSERT INTO users (`Nomina`, `Nombre`, `Puesto`, `Tags`, `Certificado`, `Estatus`) VALUES (%s,%s,%s,%s,%s,%s)\"\"\"\n",
    "            try:\n",
    "                self.cursor.execute(sql, (nomina, nombre, puesto, tags, certificado, estatus))\n",
    "                print(f\"{nombre} ha sido añadido a la base de datos.\")\n",
    "            except Exception as e:\n",
    "                print(e)\n",
    "                \n",
    "    def insert_documentos(self, Hash, Tipo, Nombre, Descripcion, Tags, Estatus):\n",
    "            sql = f\"INSERT INTO documentos (`Hash`, `Tipo`, `Nombre`, `Descripcion`, `Tags`, `Estatus`) VALUES ('{Hash}', '{Tipo}', '{Nombre}', '{Descripcion}', '{Tags}', '{Estatus}')\"\n",
    "            try:\n",
    "                self.cursor.execute(sql)\n",
    "                print(f\"{Nombre} ha sido añadido a la base de datos.\")\n",
    "            except Exception as e:\n",
    "                print(e)\n",
    "                \n",
    "    def insert_firma(self, Hash, Nomina): \n",
    "            #Doc_signed = open(Doc_signed, \"rb\").read()\n",
    "            sql = \"\"\" INSERT INTO firmas  (Hash, Nomina) VALUES (%s,%s)\"\"\"\n",
    "            try:\n",
    "                self.cursor.execute(sql, (Hash, Nomina))\n",
    "                print(f\"{Hash} ha sido añadido a la base de datos.\")\n",
    "            except Exception as e:\n",
    "                print(e)\n",
    "    \n",
    "    def cargar_firma(self, Doc_signed, Hash, Nomina):\n",
    "        Doc_signed = open(Doc_signed, \"rb\").read()\n",
    "        sql = \"\"\" UPDATE firmas SET Doc_signed = %s WHERE (Hash, Nomina) = (%s, %s)\"\"\"\n",
    "        self.cursor.execute(sql, (Doc_signed, Hash, Nomina))\n",
    "                \n",
    "    def select(self, tabla, what, where, value):\n",
    "        if what == \"*\":\n",
    "            sql = f\"SELECT {what} FROM {tabla}\"\n",
    "        else:\n",
    "            sql = f\"SELECT {what} FROM {tabla} where {where} = '{value}'\"\n",
    "        self.cursor.execute(sql)\n",
    "        val = self.cursor.fetchall()\n",
    "        return val\n",
    "        \n",
    "    def update(self, tabla, what, value, where_col, where_val):\n",
    "        sql = f\"UPDATE {tabla} set {what} = '{value}' where {where_col} = '{where_val}'\"\n",
    "        self.cursor.execute(sql)\n",
    "        print(\"Actualización exitosa\")\n",
    "        \n",
    "    def delete(self, tabla, where, value):\n",
    "        sql = f\"DELETE FROM {tabla} where {where} = '{value}'\"\n",
    "        self.cursor.execute(sql)\n",
    "        print(\"Eliminación exitosa\")\n",
    "    \n",
    "\n",
    "database = DataBase()"
   ]
  },
  {
   "cell_type": "code",
   "execution_count": 70,
   "metadata": {
    "ExecuteTime": {
     "end_time": "2022-04-19T17:06:19.675173Z",
     "start_time": "2022-04-19T17:06:19.666303Z"
    }
   },
   "outputs": [],
   "source": [
    "database.cargar_firma(Doc_signed = \"nombreDoc_nomina_fecha20220419_102737.sign\",\n",
    "                     Hash = \"A01750443\",\n",
    "                     Nomina = \"IDM\")"
   ]
  },
  {
   "cell_type": "markdown",
   "metadata": {},
   "source": [
    "### Insertar un usuario"
   ]
  },
  {
   "cell_type": "code",
   "execution_count": 35,
   "metadata": {
    "ExecuteTime": {
     "end_time": "2022-04-19T16:38:46.224115Z",
     "start_time": "2022-04-19T16:38:46.203158Z"
    }
   },
   "outputs": [
    {
     "name": "stdout",
     "output_type": "stream",
     "text": [
      "Jairo ha sido añadido a la base de datos.\n"
     ]
    }
   ],
   "source": [
    "database.insert_users(nomina = \"A01752080\",\n",
    "                nombre = \"Jairo\",\n",
    "                puesto = \"Estudiante\",\n",
    "                tags = \"IDM\",\n",
    "                certificado = \"Ejemplo/CertificadoJairo_Enrique.crt\",\n",
    "                estatus = \"Activo\")"
   ]
  },
  {
   "cell_type": "markdown",
   "metadata": {},
   "source": [
    "### Insertar un documento"
   ]
  },
  {
   "cell_type": "code",
   "execution_count": 73,
   "metadata": {
    "ExecuteTime": {
     "end_time": "2022-04-19T17:09:55.708368Z",
     "start_time": "2022-04-19T17:09:55.695106Z"
    }
   },
   "outputs": [
    {
     "name": "stdout",
     "output_type": "stream",
     "text": [
      "Ventas.pdf ha sido añadido a la base de datos.\n"
     ]
    }
   ],
   "source": [
    "database.insert_documentos(Hash = \"jxajdljdljswss\", \n",
    "                           Tipo = \"Certificado\", \n",
    "                           Nombre = \"Ventas.pdf\", \n",
    "                           Descripcion = \"Documento que bla bla\",\n",
    "                           Tags = \"Ventas\", \n",
    "                           Estatus = \"Activo\")"
   ]
  },
  {
   "cell_type": "markdown",
   "metadata": {},
   "source": [
    "### Insertar una firma"
   ]
  },
  {
   "cell_type": "code",
   "execution_count": 63,
   "metadata": {
    "ExecuteTime": {
     "end_time": "2022-04-19T16:59:23.136628Z",
     "start_time": "2022-04-19T16:59:23.117206Z"
    }
   },
   "outputs": [
    {
     "name": "stdout",
     "output_type": "stream",
     "text": [
      "A01750443 ha sido añadido a la base de datos.\n"
     ]
    }
   ],
   "source": [
    "database.insert_firma(Hash = \"A01750443\",\n",
    "                #Doc_signed = \"Ejemplo/CertificadoJairo_Enrique.crt\",\n",
    "                #Doc_signed = \"nombreDoc_nomina_fecha20220419_110201.sign\",\n",
    "                Nomina = \"IDM\")"
   ]
  },
  {
   "cell_type": "markdown",
   "metadata": {},
   "source": [
    "### Ejemplo de select"
   ]
  },
  {
   "cell_type": "code",
   "execution_count": 79,
   "metadata": {
    "ExecuteTime": {
     "end_time": "2022-04-19T17:11:23.531164Z",
     "start_time": "2022-04-19T17:11:23.517070Z"
    }
   },
   "outputs": [
    {
     "data": {
      "text/plain": [
       "(('jxajdljdljswss',\n",
       "  'Certificado',\n",
       "  'Ventas.pdf',\n",
       "  'Documento que bla bla',\n",
       "  'Ventas',\n",
       "  'Activo',\n",
       "  datetime.datetime(2022, 4, 19, 12, 9, 55)),\n",
       " ('<sha256 HASH object @ 0x000001E3BD9C9230>',\n",
       "  'Libro',\n",
       "  'Doc_1.pdf',\n",
       "  'Justine o los infortunios de la virtud',\n",
       "  'Marqués de Sade',\n",
       "  'Activo',\n",
       "  datetime.datetime(2022, 4, 19, 12, 10, 20)),\n",
       " ('50df68716b0074ebd4e5f2ccb5b378d89a8a174128394a57654d4410d4a268e5',\n",
       "  'Libro',\n",
       "  'Doc_1.pdf',\n",
       "  'Justine o los infortunios de la virtud',\n",
       "  'Marqués de Sade',\n",
       "  'Activo',\n",
       "  datetime.datetime(2022, 4, 19, 12, 10, 54)))"
      ]
     },
     "execution_count": 79,
     "metadata": {},
     "output_type": "execute_result"
    }
   ],
   "source": [
    "#\"\"\"\n",
    "database.select(tabla = \"documentos\", \n",
    "                 what = \"*\", \n",
    "                where = \"ID\", \n",
    "                value = \"1\")\n",
    "#\"\"\""
   ]
  },
  {
   "cell_type": "code",
   "execution_count": 13,
   "metadata": {
    "ExecuteTime": {
     "end_time": "2022-04-19T16:29:29.827685Z",
     "start_time": "2022-04-19T16:29:29.808733Z"
    }
   },
   "outputs": [
    {
     "data": {
      "text/plain": [
       "((9,\n",
       "  'IDM',\n",
       "  b'p\\' |t\\xa8\\x04U\\xb7\\xb1\\xa88\\xb4cK#CK\\xd4#P\\x14\\xc7j\\xe2\\xd7o\\xb2\\xab1\\r\\xb9L\\xea\\x19\\x85 \\x98<\\r\\x86w(L\\xb8\\xba\\xf8\\x87\\xa1|(\\x14<{\\xf2\\x81\\xeb\\x1e\\xbdl\\x03\\x8d\\x05C\\xf9\\xa0a\\xdf\\xc2-\\x1b\\xb5\\xda-\\xbfl\\x12\\xad\\x8f\\xdbG#9X@\\x99tr\\xa0R\\x8e\\xf3E\\xeaK\\xe9\\xc4\\x99\\xe7\\x89\\x03\\x9c\\x11\\x88\\xa0b\\x9e\\x14(\\xaa\\x11\\x1b`\\r\\xdc1\\x13`\\xb9\\xfc7\\x89_\\xac\\x8dA[\\xe3\\x08\\x04t\\xea\\x01\\x90\\x8c\\xfe)g\\x8ap\\xf6W3\\xf9a\\xee\\x7f\\xcc\\xbb\\xe4D\\xa6\\xc3\\xf5RHGI`Ty\\xbb\\xd0g\\xf1\\xa8\\xf5A\\x95.w#\\xfe\\xf7\\x8d\\xc1(6\\x16\\x99X\\x08\\xeb\\x03\\x1f\\xe9h\\xe4\\x99>xr\\x9b\\x11\\x8e\\xb1\\xbd\\xf1\\x96\\x88R\\x98\\xdf8\\xed \\x82\\xc9\\x87dp&\\x7f.v6\\xec\\xea\\x94\\xcf\\xe9\\xf9/\\xbd;\\xcb\\xdb3\\x8fi\\xfe\\x81\\x9e\\x8c\\xdf\"^Y\\x80\\xd5C\\xe4\\'\\xc1\\xd6\\x96\\xa2\\xb7\\xe1B\\xbd\\xe3\\xaeo\\x8b\\'q\\xd5sv\\x85\\xef\\x0e\\xb0\\xa7\\xcc\\x98zS\\x97\\x0b\"@\\xbd(\\x1duf\\x05n\\x89{\\xdc\\xba\\xd2\\x08\\x1e\\x85\\xa9\\x91\\x9c\\xc2\\xee\\x89\\xa5\\x01J\\xee\\x85\\xfes\\xc2L?=\\xf5\\xe2\\xda\\xdbs\\x82\\xd7\\xf1\\t\\xc9:k\\xcb\\x98\\x9e)o$.j\\xa6\\x04UQ\\x019\\x02\\xf9\\xa6\\xf0\\x92\\x14\\x15\\xd86@\\x131\\xd2\\xf5^_b\\xd1O\\x16;\\xbdq\\xf6<\\xe9\\xb4\\xb3\\xde\\xd6\\xa3b-\\x95\\x1d\\xb3\\xb4\\xc1\\x90\\xcb\\xe2\\xfaM\\xe8\\xe0V!tn\\x86:\\r}gUb_\\x1ag\\xc8S\\x0e\\xf5\\xd6W\\xac`\\xc4\\x03\\x945I\\xc8|I\\xba_\\xa5\\xcek\\x11\\x8f=\\xb86\\xa3\\xf8\\x8d\\x84\\x9az\\xec\\xe1\\x00\\'jQ\\xa3.\\x10\\xa5\\x98{\\xdaf\\xe6\\x88\\xb6l\\x19}P\\x9a\\xd7\\x9d\\xf6\\xd5|\\x89\\x10;\\x95\\x02\\xdc4\\x87\\xcd\\x9f\\xedY\\xa3_\\xea>\\x0b%\\xcbB\\x87g\\x00\\xf6\\x8e\\\\\\xfd\\xdfh\\xe5\\x98!\\xa4t\\xbaas\\x16\\xae\\xc8\\xac\\x87\\xc5\\xf0\\x13\\x1a8\\x10\\xb8b\\x1a\\xd6\\xaf|\\x1b\\xb5e\\xe8T\\xf0\\'\\x03T'),\n",
       " (8,\n",
       "  'IDM',\n",
       "  b'-----BEGIN CERTIFICATE-----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\\r\\nXxM=\\r\\n-----END CERTIFICATE-----\\r\\n'))"
      ]
     },
     "execution_count": 13,
     "metadata": {},
     "output_type": "execute_result"
    }
   ],
   "source": [
    "F = database.select(tabla = \"firmas\", \n",
    "                what = \"ID, Nomina, Doc_signed\", \n",
    "                where = \"Hash\", \n",
    "                value = \"A01750443\")\n",
    "F"
   ]
  },
  {
   "cell_type": "markdown",
   "metadata": {},
   "source": [
    "### Update"
   ]
  },
  {
   "cell_type": "code",
   "execution_count": 55,
   "metadata": {
    "ExecuteTime": {
     "end_time": "2022-04-06T23:58:31.534171Z",
     "start_time": "2022-04-06T23:58:31.517320Z"
    }
   },
   "outputs": [
    {
     "name": "stdout",
     "output_type": "stream",
     "text": [
      "Actualización exitosa\n"
     ]
    }
   ],
   "source": [
    "database.update(tabla = \"users\", \n",
    "                what = \"Nombre\", \n",
    "                value=\"Juanito\", \n",
    "                where_col = \"Nomina\", \n",
    "                where_val = \"A01752068\")"
   ]
  },
  {
   "cell_type": "markdown",
   "metadata": {},
   "source": [
    "### Delete"
   ]
  },
  {
   "cell_type": "code",
   "execution_count": 32,
   "metadata": {
    "ExecuteTime": {
     "end_time": "2022-04-19T16:01:10.833268Z",
     "start_time": "2022-04-19T16:01:10.820273Z"
    }
   },
   "outputs": [
    {
     "name": "stdout",
     "output_type": "stream",
     "text": [
      "Eliminación exitosa\n"
     ]
    }
   ],
   "source": [
    "database.delete(tabla = \"firmas\", \n",
    "                where = \"ID\", \n",
    "                value=\"2\")"
   ]
  },
  {
   "cell_type": "markdown",
   "metadata": {},
   "source": [
    "## Generación del certificado digital y llave privada"
   ]
  },
  {
   "cell_type": "code",
   "execution_count": 10,
   "metadata": {
    "ExecuteTime": {
     "end_time": "2022-04-19T17:20:55.224686Z",
     "start_time": "2022-04-19T17:20:55.205752Z"
    }
   },
   "outputs": [],
   "source": [
    "from OpenSSL import crypto, SSL\n",
    "\n",
    "def cert_gen(\n",
    "    emailAddress=\"emailAddress\",\n",
    "    commonName=\"commonName\",\n",
    "    countryName=\"NT\",\n",
    "    localityName=\"localityName\",\n",
    "    stateOrProvinceName=\"stateOrProvinceName\",\n",
    "    organizationName=\"organizationName\",\n",
    "    organizationUnitName=\"organizationUnitName\",\n",
    "    serialNumber=0,\n",
    "    validityStartInSeconds=0,\n",
    "    validityEndInSeconds=10*365*24*60*60,\n",
    "    KEY_FILE = \"private.key\",\n",
    "    CERT_FILE=\"selfsigned.crt\"):\n",
    "    #can look at generated file using openssl:\n",
    "    #openssl x509 -inform pem -in selfsigned.crt -noout -text\n",
    "    # create a key pair\n",
    "    k = crypto.PKey()\n",
    "    k.generate_key(crypto.TYPE_RSA, 4096)\n",
    "    # create a self-signed cert\n",
    "    cert = crypto.X509()\n",
    "    cert.get_subject().C = countryName\n",
    "    cert.get_subject().ST = stateOrProvinceName\n",
    "    cert.get_subject().L = localityName\n",
    "    cert.get_subject().O = organizationName\n",
    "    cert.get_subject().OU = organizationUnitName\n",
    "    cert.get_subject().CN = commonName\n",
    "    cert.get_subject().emailAddress = emailAddress\n",
    "    cert.set_serial_number(serialNumber)\n",
    "    cert.gmtime_adj_notBefore(0)\n",
    "    cert.gmtime_adj_notAfter(validityEndInSeconds)\n",
    "    cert.set_issuer(cert.get_subject())\n",
    "    cert.set_pubkey(k)\n",
    "    cert.sign(k, 'sha256')\n",
    "    with open(CERT_FILE, \"wt\") as f:\n",
    "        f.write(crypto.dump_certificate(crypto.FILETYPE_PEM, cert).decode(\"utf-8\"))\n",
    "    with open(KEY_FILE, \"wt\") as f:\n",
    "        f.write(crypto.dump_privatekey(crypto.FILETYPE_PEM, k).decode(\"utf-8\"))"
   ]
  },
  {
   "cell_type": "code",
   "execution_count": 9,
   "metadata": {
    "ExecuteTime": {
     "end_time": "2022-04-18T13:51:49.451765Z",
     "start_time": "2022-04-18T13:51:48.400140Z"
    }
   },
   "outputs": [],
   "source": [
    "cert_gen(emailAddress=\"A01750443@tec.mx\",\n",
    "    commonName=\"tec.mx\",\n",
    "    countryName=\"MX\",\n",
    "    localityName=\"Monterrey\",\n",
    "    stateOrProvinceName=\"Nuevo León\",\n",
    "    organizationName=\"Tecnológico de Monterrey\",\n",
    "    organizationUnitName=\"organizationUnitName\",\n",
    "    serialNumber=0,\n",
    "    validityStartInSeconds = 0,\n",
    "    validityEndInSeconds = 1*365*24*60*60, #UN AÑO\n",
    "    KEY_FILE = \"privateJERS_2.key\",\n",
    "    CERT_FILE=\"CertificadoJERS_2.crt\")"
   ]
  },
  {
   "cell_type": "markdown",
   "metadata": {},
   "source": [
    "## Cargar el certificado"
   ]
  },
  {
   "cell_type": "code",
   "execution_count": 30,
   "metadata": {
    "ExecuteTime": {
     "end_time": "2022-04-19T14:55:11.294986Z",
     "start_time": "2022-04-19T14:55:11.136071Z"
    }
   },
   "outputs": [
    {
     "data": {
      "text/plain": [
       "b'20220418135149Z'"
      ]
     },
     "execution_count": 30,
     "metadata": {},
     "output_type": "execute_result"
    }
   ],
   "source": [
    "import OpenSSL.crypto \n",
    "cert = OpenSSL.crypto.load_certificate(\n",
    "    OpenSSL.crypto.FILETYPE_PEM, \n",
    "    open('CertificadoJERS_2.crt').read()\n",
    ")\n",
    "cert.get_notBefore()"
   ]
  },
  {
   "cell_type": "markdown",
   "metadata": {},
   "source": [
    "### Obteniendo valores del certificado"
   ]
  },
  {
   "cell_type": "code",
   "execution_count": 31,
   "metadata": {
    "ExecuteTime": {
     "end_time": "2022-04-19T14:55:13.593460Z",
     "start_time": "2022-04-19T14:55:13.575073Z"
    }
   },
   "outputs": [
    {
     "name": "stdout",
     "output_type": "stream",
     "text": [
      "b'sha256WithRSAEncryption'\n",
      "b'20230418135149Z'\n",
      "<OpenSSL.crypto.PKey object at 0x000001E04C764EB0>\n",
      "<X509Name object '/C=MX/ST=Nuevo Le\\xC3\\xB3n/L=Monterrey/O=Tecnol\\xC3\\xB3gico de Monterrey/OU=organizationUnitName/CN=tec.mx/emailAddress=A01750443@tec.mx'>\n"
     ]
    }
   ],
   "source": [
    "print(cert.get_signature_algorithm()) #Con qué algoritmo fue firmado\n",
    "print(cert.get_notAfter()) #fecha de expiración\n",
    "print(cert.get_pubkey())\n",
    "print(cert.get_subject()) # Datos sobre el certificado"
   ]
  },
  {
   "cell_type": "markdown",
   "metadata": {},
   "source": [
    "## Revisar si un certificado coincide con la llave privada"
   ]
  },
  {
   "cell_type": "code",
   "execution_count": 64,
   "metadata": {
    "ExecuteTime": {
     "end_time": "2022-04-19T20:03:49.595953Z",
     "start_time": "2022-04-19T20:03:49.582041Z"
    }
   },
   "outputs": [],
   "source": [
    "import OpenSSL.crypto \n",
    "def check_associate_cert_with_private_key(cert, private_key):\n",
    "    \"\"\"\n",
    "    :type cert: str\n",
    "    :type private_key: str\n",
    "    :rtype: bool\n",
    "    \"\"\"\n",
    "    try:\n",
    "        private_key_obj = OpenSSL.crypto.load_privatekey(OpenSSL.crypto.FILETYPE_PEM, open(private_key).read())\n",
    "    except OpenSSL.crypto.Error:\n",
    "        raise Exception('private key is not correct: %s' % private_key)\n",
    "\n",
    "    try:\n",
    "        cert_obj = OpenSSL.crypto.load_certificate(OpenSSL.crypto.FILETYPE_PEM, cert)\n",
    "        #cert_obj = OpenSSL.crypto.load_certificate(OpenSSL.crypto.FILETYPE_PEM, open(cert).read())\n",
    "    except OpenSSL.crypto.Error:\n",
    "        raise Exception('certificate is not correct: %s' % cert)\n",
    "\n",
    "    context = OpenSSL.SSL.Context(OpenSSL.SSL.TLSv1_METHOD)\n",
    "    context.use_privatekey(private_key_obj)\n",
    "    context.use_certificate(cert_obj)\n",
    "    try:\n",
    "        context.check_privatekey()\n",
    "        return True\n",
    "    except OpenSSL.SSL.Error:\n",
    "        return False"
   ]
  },
  {
   "cell_type": "code",
   "execution_count": 40,
   "metadata": {
    "ExecuteTime": {
     "end_time": "2022-04-19T17:36:10.286967Z",
     "start_time": "2022-04-19T17:36:10.270980Z"
    }
   },
   "outputs": [
    {
     "data": {
      "text/plain": [
       "True"
      ]
     },
     "execution_count": 40,
     "metadata": {},
     "output_type": "execute_result"
    }
   ],
   "source": [
    "check_associate_cert_with_private_key(\"CertificadoJERS.crt\", \"privateJERS.key\")"
   ]
  },
  {
   "cell_type": "markdown",
   "metadata": {},
   "source": [
    "## Hash de cualquier documento"
   ]
  },
  {
   "cell_type": "code",
   "execution_count": 8,
   "metadata": {
    "ExecuteTime": {
     "end_time": "2022-04-19T17:20:44.876648Z",
     "start_time": "2022-04-19T17:20:44.856706Z"
    }
   },
   "outputs": [],
   "source": [
    "import sys\n",
    "import hashlib\n",
    "\n",
    "def Hash_document(file):\n",
    "    # BUF_SIZE is totally arbitrary, change for your app!\n",
    "    BUF_SIZE = 65536  # lets read stuff in 64kb chunks!\n",
    "\n",
    "    md5 = hashlib.md5()\n",
    "    sha1 = hashlib.sha256()\n",
    "    #hashlib.sha512\n",
    "\n",
    "    with open(file, 'rb') as f:\n",
    "        while True:\n",
    "            data = f.read(BUF_SIZE)\n",
    "            if not data:\n",
    "                break\n",
    "            md5.update(data)\n",
    "            sha1.update(data)\n",
    "\n",
    "    #print(\"MD5: {0}\".format(md5.hexdigest()))\n",
    "    #print(\"SHA1: {0}\".format(sha1.hexdigest()))\n",
    "    return sha1"
   ]
  },
  {
   "cell_type": "markdown",
   "metadata": {
    "ExecuteTime": {
     "end_time": "2022-04-19T04:14:39.367887Z",
     "start_time": "2022-04-19T04:14:39.348972Z"
    }
   },
   "source": [
    "## Generando y verificando un certificado"
   ]
  },
  {
   "cell_type": "code",
   "execution_count": 25,
   "metadata": {
    "ExecuteTime": {
     "end_time": "2022-04-19T16:31:59.082674Z",
     "start_time": "2022-04-19T16:31:58.984608Z"
    }
   },
   "outputs": [
    {
     "name": "stdout",
     "output_type": "stream",
     "text": [
      "MD5: cb59cfe68bdea88095422f5ef154150b\n",
      "SHA1: b977d0cddabbddd755654139072285aff38f918ef2f41acefe9742f7580c4877\n"
     ]
    }
   ],
   "source": [
    "import signVerify\n",
    "sha1 = Hash_document(\"../Ex.pdf\")\n",
    "file_name = signVerify.gen_signature(\"privateJERS.key\", bytes(sha1.hexdigest(), 'utf-8'))"
   ]
  },
  {
   "cell_type": "code",
   "execution_count": 26,
   "metadata": {
    "ExecuteTime": {
     "end_time": "2022-04-19T16:32:06.618755Z",
     "start_time": "2022-04-19T16:32:06.599118Z"
    }
   },
   "outputs": [
    {
     "name": "stdout",
     "output_type": "stream",
     "text": [
      "Verification successful\n"
     ]
    }
   ],
   "source": [
    "#file_name = \"nombreDoc_nomina_fecha20220419_102737.sign\"\n",
    "signVerify.verify(\"certificadoJERS.crt\", bytes(sha1.hexdigest(), 'utf-8'), file_name)"
   ]
  },
  {
   "cell_type": "code",
   "execution_count": 27,
   "metadata": {
    "ExecuteTime": {
     "end_time": "2022-04-19T16:32:07.159761Z",
     "start_time": "2022-04-19T16:32:07.147582Z"
    }
   },
   "outputs": [
    {
     "name": "stdout",
     "output_type": "stream",
     "text": [
      "Verification failed\n"
     ]
    }
   ],
   "source": [
    "signVerify.verify(\"certificadoJERS_2.crt\", bytes(sha1.hexdigest(), 'utf-8'), file_name)"
   ]
  },
  {
   "cell_type": "code",
   "execution_count": 28,
   "metadata": {
    "ExecuteTime": {
     "end_time": "2022-04-19T16:32:08.183510Z",
     "start_time": "2022-04-19T16:32:08.175539Z"
    }
   },
   "outputs": [],
   "source": [
    "#signVerify.verify(\"certificadoJERS.crt\", bytes(sha1.hexdigest(), 'utf-8'), F[0][2], load = False)"
   ]
  },
  {
   "cell_type": "markdown",
   "metadata": {
    "ExecuteTime": {
     "end_time": "2022-04-19T16:02:09.185902Z",
     "start_time": "2022-04-19T16:02:09.168845Z"
    }
   },
   "source": [
    "# Ejemplo de uso del sistema"
   ]
  },
  {
   "cell_type": "markdown",
   "metadata": {},
   "source": [
    "## Creando usuarios"
   ]
  },
  {
   "cell_type": "markdown",
   "metadata": {},
   "source": [
    "### Creando certificados"
   ]
  },
  {
   "cell_type": "code",
   "execution_count": 53,
   "metadata": {
    "ExecuteTime": {
     "end_time": "2022-04-19T19:50:04.489261Z",
     "start_time": "2022-04-19T19:50:03.830607Z"
    }
   },
   "outputs": [
    {
     "name": "stdout",
     "output_type": "stream",
     "text": [
      "Firmas generadas\n",
      "Guarde su llave privada en un lugar aparte\n",
      "-------------------\n",
      "\n",
      "Subiendo certificado a la base de datos\n",
      "Jairo Enrique ha sido añadido a la base de datos.\n",
      "Ramirez Sanchez ha sido añadido a la base de datos.\n"
     ]
    }
   ],
   "source": [
    "nombre_1 = \"Jairo Enrique\"\n",
    "nomina_1 = \"A01750443\"\n",
    "email_1 = \"A01750443@tec.mx\"\n",
    "\n",
    "nombre_2 = \"Ramirez Sanchez\"\n",
    "nomina_2 = \"A01752068\"\n",
    "email_2 = \"A01752068@tec.mx\"\n",
    "\n",
    "\n",
    "cert_gen(emailAddress=email_1,\n",
    "    commonName=\"tec.mx\",\n",
    "    countryName=\"MX\",\n",
    "    localityName=\"Monterrey\",\n",
    "    stateOrProvinceName=\"Nuevo León\",\n",
    "    organizationName=\"Tecnológico de Monterrey\",\n",
    "    organizationUnitName=\"organizationUnitName\",\n",
    "    serialNumber=0,\n",
    "    validityStartInSeconds = 0,\n",
    "    validityEndInSeconds = 1*365*24*60*60, #UN AÑO\n",
    "    KEY_FILE = \"Ejemplo/private\"+nomina_1.replace(\" \",\"_\")+\".key\",\n",
    "    CERT_FILE=\"Ejemplo/Certificado\"+nomina_1.replace(\" \",\"_\")+\".crt\")\n",
    "\n",
    "cert_gen(emailAddress=email_2,\n",
    "    commonName=\"tec.mx\",\n",
    "    countryName=\"MX\",\n",
    "    localityName=\"Monterrey\",\n",
    "    stateOrProvinceName=\"Nuevo León\",\n",
    "    organizationName=\"Tecnológico de Monterrey\",\n",
    "    organizationUnitName=\"organizationUnitName\",\n",
    "    serialNumber=0,\n",
    "    validityStartInSeconds = 0,\n",
    "    validityEndInSeconds = 1*365*24*60*60, #UN AÑO\n",
    "    KEY_FILE = \"Ejemplo/private\"+nomina_2.replace(\" \",\"_\")+\".key\",\n",
    "    CERT_FILE=\"Ejemplo/Certificado\"+nomina_2.replace(\" \",\"_\")+\".crt\")\n",
    "\n",
    "print(\"Firmas generadas\")\n",
    "print(\"Guarde su llave privada en un lugar aparte\")\n",
    "print(\"-------------------\\n\")\n",
    "print(\"Subiendo certificado a la base de datos\")\n",
    "\n",
    "database.insert_users(nomina = nomina_1,\n",
    "                nombre = nombre_1,\n",
    "                puesto = \"Estudiante\",\n",
    "                tags = \"IDM\",\n",
    "                certificado = f\"Ejemplo/Certificado{nomina_1}.crt\",\n",
    "                estatus = \"Activo\")\n",
    "\n",
    "database.insert_users(nomina = nomina_2,\n",
    "                nombre = nombre_2,\n",
    "                puesto = \"Estudiante\",\n",
    "                tags = \"IDM\",\n",
    "                certificado = f\"Ejemplo/Certificado{nomina_2}.crt\",\n",
    "                estatus = \"Activo\")\n"
   ]
  },
  {
   "cell_type": "markdown",
   "metadata": {
    "ExecuteTime": {
     "end_time": "2022-04-19T16:29:51.557969Z",
     "start_time": "2022-04-19T16:29:51.549403Z"
    }
   },
   "source": [
    "## Solicitar firma"
   ]
  },
  {
   "cell_type": "code",
   "execution_count": 54,
   "metadata": {
    "ExecuteTime": {
     "end_time": "2022-04-19T19:50:19.589908Z",
     "start_time": "2022-04-19T19:50:19.533099Z"
    }
   },
   "outputs": [
    {
     "name": "stdout",
     "output_type": "stream",
     "text": [
      "(1062, \"Duplicate entry '50df68716b0074ebd4e5f2ccb5b378d89a8a174128394a57654d4410d4a268e5' for key 'PRIMARY'\")\n"
     ]
    }
   ],
   "source": [
    "#Se sube el documento que se quiere firmar\n",
    "file = \"Ejemplo/Doc_1.pdf\"\n",
    "\n",
    "database.insert_documentos(Hash = Hash_document(file).hexdigest(), \n",
    "                           Tipo = \"Libro\", \n",
    "                           Nombre = \"Doc_1.pdf\", \n",
    "                           Descripcion = \"Justine o los infortunios de la virtud\",\n",
    "                           Tags = \"Marqués de Sade\",\n",
    "                           Estatus = \"Activo\")"
   ]
  },
  {
   "cell_type": "code",
   "execution_count": 55,
   "metadata": {
    "ExecuteTime": {
     "end_time": "2022-04-19T19:56:45.481610Z",
     "start_time": "2022-04-19T19:56:45.447384Z"
    }
   },
   "outputs": [
    {
     "name": "stdout",
     "output_type": "stream",
     "text": [
      "50df68716b0074ebd4e5f2ccb5b378d89a8a174128394a57654d4410d4a268e5 ha sido añadido a la base de datos.\n",
      "50df68716b0074ebd4e5f2ccb5b378d89a8a174128394a57654d4410d4a268e5 ha sido añadido a la base de datos.\n"
     ]
    }
   ],
   "source": [
    "#Se solicitan las firmas de los empleados\n",
    "database.insert_firma(Hash = Hash_document(file).hexdigest(),\n",
    "                Nomina = nomina_1)\n",
    "\n",
    "database.insert_firma(Hash = Hash_document(file).hexdigest(),\n",
    "                Nomina = nomina_2)\n"
   ]
  },
  {
   "cell_type": "markdown",
   "metadata": {},
   "source": [
    "## Generar el archivo firmado"
   ]
  },
  {
   "cell_type": "code",
   "execution_count": 56,
   "metadata": {
    "ExecuteTime": {
     "end_time": "2022-04-19T19:56:57.920148Z",
     "start_time": "2022-04-19T19:56:57.912141Z"
    }
   },
   "outputs": [],
   "source": [
    "import signVerify"
   ]
  },
  {
   "cell_type": "code",
   "execution_count": 28,
   "metadata": {
    "ExecuteTime": {
     "end_time": "2022-04-19T17:28:04.048171Z",
     "start_time": "2022-04-19T17:28:04.041247Z"
    }
   },
   "outputs": [],
   "source": [
    "#Falta verificar si la privada coincide y su certificado está vigente"
   ]
  },
  {
   "cell_type": "code",
   "execution_count": 66,
   "metadata": {
    "ExecuteTime": {
     "end_time": "2022-04-19T20:04:17.040530Z",
     "start_time": "2022-04-19T20:04:16.913182Z"
    }
   },
   "outputs": [
    {
     "name": "stdout",
     "output_type": "stream",
     "text": [
      "\n",
      "Archivo firmado en Ejemplo/Doc_1.pdf_A01750443_20220419_150416.sign\n",
      "\n",
      " Cargando la firma a la base de datos\n",
      "-------------------------------\n",
      "Archivo firmado en Ejemplo/Doc_1.pdf_A01752068_20220419_150417.sign\n",
      "\n",
      " Cargando la firma a la base de datos\n"
     ]
    }
   ],
   "source": [
    "# Va a firmar el primer empleado\n",
    "\n",
    "Certificado_1 = database.select(tabla = \"users\", \n",
    "                what = \"Certificado\", \n",
    "                where = \"Nomina\", \n",
    "                value = nomina_1)[0][0]\n",
    "private_key_1 = \"Ejemplo/privateA01750443.key\"\n",
    "\n",
    "Match = check_associate_cert_with_private_key(Certificado_1, private_key_1)\n",
    "print()\n",
    "\n",
    "if Match:\n",
    "    file_name = signVerify.gen_signature(private_key_1, bytes(Hash_document(file).hexdigest(), 'utf-8'), file, nomina_1)\n",
    "    print(f\"Archivo firmado en {file_name}\")\n",
    "\n",
    "    print(\"\\n Cargando la firma a la base de datos\")\n",
    "    database.cargar_firma(Doc_signed = file_name,\n",
    "                     Hash = Hash_document(file).hexdigest(),\n",
    "                     Nomina = nomina_1)\n",
    "else:\n",
    "    print(\"La llave privada no coincide con el certificado.\\nNo puede firmar este documento.\")\n",
    "\n",
    "print(\"\\n-------------------------------\\n\")\n",
    "\n",
    "Certificado_2 = database.select(tabla = \"users\", \n",
    "                what = \"Certificado\", \n",
    "                where = \"Nomina\", \n",
    "                value = nomina_2)[0][0]\n",
    "\n",
    "private_key_2 = \"Ejemplo/privateA01752068.key\"\n",
    "\n",
    "Match = check_associate_cert_with_private_key(Certificado_2, private_key_2)\n",
    "\n",
    "if Match:\n",
    "\n",
    "    file_name = signVerify.gen_signature(private_key_2, bytes(Hash_document(file).hexdigest(), 'utf-8'), file, nomina_2)\n",
    "    print(f\"Archivo firmado en {file_name}\")\n",
    "\n",
    "    print(\"\\n Cargando la firma a la base de datos\")\n",
    "    database.cargar_firma(Doc_signed = file_name,\n",
    "                     Hash = Hash_document(file).hexdigest(),\n",
    "                     Nomina = nomina_2)\n",
    "else:\n",
    "    print(\"La llave privada no coincide con el certificado.\\nNo puede firmar este documento.\")"
   ]
  },
  {
   "cell_type": "code",
   "execution_count": null,
   "metadata": {
    "ExecuteTime": {
     "end_time": "2022-04-19T19:36:01.682591Z",
     "start_time": "2022-04-19T19:36:01.667642Z"
    }
   },
   "outputs": [],
   "source": []
  },
  {
   "cell_type": "code",
   "execution_count": null,
   "metadata": {
    "ExecuteTime": {
     "end_time": "2022-04-19T19:36:07.213661Z",
     "start_time": "2022-04-19T19:36:07.189742Z"
    }
   },
   "outputs": [],
   "source": []
  },
  {
   "cell_type": "code",
   "execution_count": 59,
   "metadata": {
    "ExecuteTime": {
     "end_time": "2022-04-19T19:58:34.816045Z",
     "start_time": "2022-04-19T19:58:34.791142Z"
    }
   },
   "outputs": [
    {
     "name": "stdout",
     "output_type": "stream",
     "text": [
      "True\n"
     ]
    }
   ],
   "source": [
    "Certificado_1 = database.select(tabla = \"users\", \n",
    "                what = \"Certificado\", \n",
    "                where = \"Nomina\", \n",
    "                value = nomina_1)[0][0]\n",
    "private_key_1 = \"Ejemplo/privateA01750443.key\"\n",
    "\n",
    "print(check_associate_cert_with_private_key(Certificado_1, private_key_1))"
   ]
  },
  {
   "cell_type": "code",
   "execution_count": null,
   "metadata": {},
   "outputs": [],
   "source": []
  }
 ],
 "metadata": {
  "hide_input": false,
  "kernelspec": {
   "display_name": "Python 3",
   "language": "python",
   "name": "python3"
  },
  "language_info": {
   "codemirror_mode": {
    "name": "ipython",
    "version": 3
   },
   "file_extension": ".py",
   "mimetype": "text/x-python",
   "name": "python",
   "nbconvert_exporter": "python",
   "pygments_lexer": "ipython3",
   "version": "3.8.5"
  },
  "varInspector": {
   "cols": {
    "lenName": 16,
    "lenType": 16,
    "lenVar": 40
   },
   "kernels_config": {
    "python": {
     "delete_cmd_postfix": "",
     "delete_cmd_prefix": "del ",
     "library": "var_list.py",
     "varRefreshCmd": "print(var_dic_list())"
    },
    "r": {
     "delete_cmd_postfix": ") ",
     "delete_cmd_prefix": "rm(",
     "library": "var_list.r",
     "varRefreshCmd": "cat(var_dic_list()) "
    }
   },
   "types_to_exclude": [
    "module",
    "function",
    "builtin_function_or_method",
    "instance",
    "_Feature"
   ],
   "window_display": false
  }
 },
 "nbformat": 4,
 "nbformat_minor": 4
}
