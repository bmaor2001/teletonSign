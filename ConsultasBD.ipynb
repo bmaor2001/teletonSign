{
 "cells": [
  {
   "cell_type": "code",
   "execution_count": 2,
   "metadata": {
    "ExecuteTime": {
     "end_time": "2022-04-06T14:16:14.403026Z",
     "start_time": "2022-04-06T14:16:08.649223Z"
    }
   },
   "outputs": [
    {
     "name": "stdout",
     "output_type": "stream",
     "text": [
      "Collecting pymysql\n",
      "  Downloading PyMySQL-1.0.2-py3-none-any.whl (43 kB)\n",
      "Installing collected packages: pymysql\n",
      "Successfully installed pymysql-1.0.2\n"
     ]
    }
   ],
   "source": [
    "!pip install pymysql"
   ]
  },
  {
   "cell_type": "code",
   "execution_count": 1,
   "metadata": {
    "ExecuteTime": {
     "end_time": "2022-04-06T17:50:37.506505Z",
     "start_time": "2022-04-06T17:50:37.317466Z"
    }
   },
   "outputs": [],
   "source": [
    "import pymysql"
   ]
  },
  {
   "cell_type": "code",
   "execution_count": 52,
   "metadata": {
    "ExecuteTime": {
     "end_time": "2022-04-06T23:57:46.158622Z",
     "start_time": "2022-04-06T23:57:46.122116Z"
    }
   },
   "outputs": [
    {
     "name": "stdout",
     "output_type": "stream",
     "text": [
      "Conexión exitosa\n"
     ]
    }
   ],
   "source": [
    "class DataBase:\n",
    "    def __init__(self):\n",
    "        self.connection = pymysql.connect(\n",
    "            host = \"localhost\",\n",
    "            user = \"root\",\n",
    "            password = \"\",\n",
    "            db = \"teleton\"\n",
    "        )\n",
    "        self.cursor = self.connection.cursor()\n",
    "    \n",
    "        print(\"Conexión exitosa\")\n",
    "    \n",
    "    def insert(self, tabla, nomina, nombre, puesto, tags, certificado, estatus):\n",
    "            sql = f\"INSERT INTO {tabla} (`Nomina`, `Nombre`, `Puesto`, `Tags`, `Certificado`, `Estatus`) VALUES ('{nomina}', '{nombre}', '{puesto}', '{tags}', '{certificado}', '{estatus}')\"\n",
    "            print(sql)\n",
    "            try:\n",
    "                self.cursor.execute(sql)\n",
    "                print(f\"{nombre} ha sido añadido a la base de datos.\")\n",
    "            except Exception as e:\n",
    "                print(e)\n",
    "                \n",
    "    def select(self, tabla, what, _from, where, value):\n",
    "        if what == \"*\":\n",
    "            sql = f\"SELECT {what} FROM {_from}\"\n",
    "        else:\n",
    "            sql = f\"SELECT {what} FROM {_from} where {where} = '{value}'\"\n",
    "        print(sql)\n",
    "        self.cursor.execute(sql)\n",
    "        val = self.cursor.fetchall()\n",
    "        return val\n",
    "        \n",
    "    def update(self, tabla, what, value, where_col, where_val):\n",
    "        sql = f\"UPDATE {tabla} set {what} = '{value}' where {where_col} = '{where_val}'\"\n",
    "        self.cursor.execute(sql)\n",
    "        print(\"Actualización exitosa\")\n",
    "        \n",
    "    def delete(self, tabla, where, value):\n",
    "        sql = f\"DELETE FROM {tabla} where {where} = '{value}'\"\n",
    "        self.cursor.execute(sql)\n",
    "        print(\"Eliminación exitosa\")\n",
    "\n",
    "database = DataBase()"
   ]
  },
  {
   "cell_type": "code",
   "execution_count": 29,
   "metadata": {
    "ExecuteTime": {
     "end_time": "2022-04-06T18:04:08.422346Z",
     "start_time": "2022-04-06T18:04:08.406985Z"
    }
   },
   "outputs": [
    {
     "name": "stdout",
     "output_type": "stream",
     "text": [
      "INSERT INTO users (`Nomina`, `Nombre`, `Puesto`, `Tags`, `Certificado`, `Estatus`) VALUES ('A0175068', 'Jairo', 'Estudiante', 'IDM', 'pdjsnem', 'Activo')\n",
      "Jairo ha sido añadido a la base de datos.\n"
     ]
    }
   ],
   "source": [
    "database.insert(\"users\",\"A0175068\", \"Jairo\", \"Estudiante\", \"IDM\", \"pdjsnem\", \"Activo\")"
   ]
  },
  {
   "cell_type": "code",
   "execution_count": 56,
   "metadata": {
    "ExecuteTime": {
     "end_time": "2022-04-06T23:58:35.497828Z",
     "start_time": "2022-04-06T23:58:35.483025Z"
    }
   },
   "outputs": [
    {
     "name": "stdout",
     "output_type": "stream",
     "text": [
      "SELECT * FROM users\n"
     ]
    },
    {
     "data": {
      "text/plain": [
       "(('A0175043', 'enrique', 'Estudiante', 'IDM', 'gshdjhnbsjcjdnlksd', 'Activo'),\n",
       " ('A0175068', 'Jairo', 'Estudiante', 'IDM', 'pdjsnem', 'Activo'))"
      ]
     },
     "execution_count": 56,
     "metadata": {},
     "output_type": "execute_result"
    }
   ],
   "source": [
    "database.select(tabla=\"users\", what = \"*\", _from = \"users\", where = \"Nomina\", value = \"A0175043\")"
   ]
  },
  {
   "cell_type": "code",
   "execution_count": 55,
   "metadata": {
    "ExecuteTime": {
     "end_time": "2022-04-06T23:58:31.534171Z",
     "start_time": "2022-04-06T23:58:31.517320Z"
    }
   },
   "outputs": [
    {
     "name": "stdout",
     "output_type": "stream",
     "text": [
      "Actualización exitosa\n"
     ]
    }
   ],
   "source": [
    "database.update(tabla = \"users\", what = \"Nombre\", value=\"Juanito\", where_col = \"Nomina\", where_val = \"A01752068\")"
   ]
  },
  {
   "cell_type": "code",
   "execution_count": 53,
   "metadata": {
    "ExecuteTime": {
     "end_time": "2022-04-06T23:57:47.829089Z",
     "start_time": "2022-04-06T23:57:47.802358Z"
    }
   },
   "outputs": [
    {
     "name": "stdout",
     "output_type": "stream",
     "text": [
      "Eliminación exitosa\n"
     ]
    }
   ],
   "source": [
    "database.delete(tabla = \"users\", where = \"Nomina\", value=\"A01752068\")"
   ]
  },
  {
   "cell_type": "code",
   "execution_count": 80,
   "metadata": {
    "ExecuteTime": {
     "end_time": "2022-04-07T14:43:26.445247Z",
     "start_time": "2022-04-07T14:43:26.427071Z"
    }
   },
   "outputs": [],
   "source": [
    "from OpenSSL import crypto, SSL\n",
    "\n",
    "def cert_gen(\n",
    "    emailAddress=\"emailAddress\",\n",
    "    commonName=\"commonName\",\n",
    "    countryName=\"NT\",\n",
    "    localityName=\"localityName\",\n",
    "    stateOrProvinceName=\"stateOrProvinceName\",\n",
    "    organizationName=\"organizationName\",\n",
    "    organizationUnitName=\"organizationUnitName\",\n",
    "    serialNumber=0,\n",
    "    validityStartInSeconds=0,\n",
    "    validityEndInSeconds=10*365*24*60*60,\n",
    "    KEY_FILE = \"private.key\",\n",
    "    CERT_FILE=\"selfsigned.crt\"):\n",
    "    #can look at generated file using openssl:\n",
    "    #openssl x509 -inform pem -in selfsigned.crt -noout -text\n",
    "    # create a key pair\n",
    "    k = crypto.PKey()\n",
    "    k.generate_key(crypto.TYPE_RSA, 4096)\n",
    "    # create a self-signed cert\n",
    "    cert = crypto.X509()\n",
    "    cert.get_subject().C = countryName\n",
    "    cert.get_subject().ST = stateOrProvinceName\n",
    "    cert.get_subject().L = localityName\n",
    "    cert.get_subject().O = organizationName\n",
    "    cert.get_subject().OU = organizationUnitName\n",
    "    cert.get_subject().CN = commonName\n",
    "    cert.get_subject().emailAddress = emailAddress\n",
    "    cert.set_serial_number(serialNumber)\n",
    "    cert.gmtime_adj_notBefore(0)\n",
    "    cert.gmtime_adj_notAfter(validityEndInSeconds)\n",
    "    cert.set_issuer(cert.get_subject())\n",
    "    cert.set_pubkey(k)\n",
    "    cert.sign(k, 'sha512')\n",
    "    with open(CERT_FILE, \"wt\") as f:\n",
    "        f.write(crypto.dump_certificate(crypto.FILETYPE_PEM, cert).decode(\"utf-8\"))\n",
    "    with open(KEY_FILE, \"wt\") as f:\n",
    "        f.write(crypto.dump_privatekey(crypto.FILETYPE_PEM, k).decode(\"utf-8\"))"
   ]
  },
  {
   "cell_type": "code",
   "execution_count": 81,
   "metadata": {
    "ExecuteTime": {
     "end_time": "2022-04-07T14:43:29.177218Z",
     "start_time": "2022-04-07T14:43:28.180541Z"
    }
   },
   "outputs": [],
   "source": [
    "cert_gen(emailAddress=\"A01750443@tec.mx\",\n",
    "    commonName=\"tec.mx\",\n",
    "    countryName=\"MX\",\n",
    "    localityName=\"Monterrey\",\n",
    "    stateOrProvinceName=\"Nuevo León\",\n",
    "    organizationName=\"Tecnológico de Monterrey\",\n",
    "    organizationUnitName=\"organizationUnitName\",\n",
    "    serialNumber=0,\n",
    "    validityStartInSeconds = 0,\n",
    "    validityEndInSeconds = 1*365*24*60*60, #UN AÑO\n",
    "    KEY_FILE = \"privateJERS.key\",\n",
    "    CERT_FILE=\"CertificadoJERS.crt\")"
   ]
  },
  {
   "cell_type": "code",
   "execution_count": 62,
   "metadata": {
    "ExecuteTime": {
     "end_time": "2022-04-07T13:48:58.967777Z",
     "start_time": "2022-04-07T13:48:58.950395Z"
    }
   },
   "outputs": [
    {
     "data": {
      "text/plain": [
       "b'20220407134553Z'"
      ]
     },
     "execution_count": 62,
     "metadata": {},
     "output_type": "execute_result"
    }
   ],
   "source": [
    "import OpenSSL.crypto \n",
    "cert = OpenSSL.crypto.load_certificate(\n",
    "    OpenSSL.crypto.FILETYPE_PEM, \n",
    "    open('CertificadoJERS.crt').read()\n",
    ")\n",
    "cert.get_notBefore()"
   ]
  },
  {
   "cell_type": "code",
   "execution_count": 77,
   "metadata": {
    "ExecuteTime": {
     "end_time": "2022-04-07T13:53:51.439918Z",
     "start_time": "2022-04-07T13:53:51.430504Z"
    }
   },
   "outputs": [
    {
     "name": "stdout",
     "output_type": "stream",
     "text": [
      "b'sha512WithRSAEncryption'\n",
      "b'20230407134553Z'\n",
      "<OpenSSL.crypto.PKey object at 0x000002AE5FAF1760>\n",
      "<X509Name object '/C=MX/ST=Nuevo Le\\xC3\\xB3n/L=Monterrey/O=Tecnol\\xC3\\xB3gico de Monterrey/OU=organizationUnitName/CN=tec.mx/emailAddress=A01750443@tec.mx'>\n"
     ]
    }
   ],
   "source": [
    "print(cert.get_signature_algorithm()) #Con qué algoritmo fue firmado\n",
    "print(cert.get_notAfter()) #fecha de expiración\n",
    "print(cert.get_pubkey())\n",
    "print(cert.get_subject()) # Datos sobre el certificado"
   ]
  },
  {
   "cell_type": "code",
   "execution_count": null,
   "metadata": {},
   "outputs": [],
   "source": []
  }
 ],
 "metadata": {
  "hide_input": false,
  "kernelspec": {
   "display_name": "Python 3",
   "language": "python",
   "name": "python3"
  },
  "language_info": {
   "codemirror_mode": {
    "name": "ipython",
    "version": 3
   },
   "file_extension": ".py",
   "mimetype": "text/x-python",
   "name": "python",
   "nbconvert_exporter": "python",
   "pygments_lexer": "ipython3",
   "version": "3.8.5"
  },
  "varInspector": {
   "cols": {
    "lenName": 16,
    "lenType": 16,
    "lenVar": 40
   },
   "kernels_config": {
    "python": {
     "delete_cmd_postfix": "",
     "delete_cmd_prefix": "del ",
     "library": "var_list.py",
     "varRefreshCmd": "print(var_dic_list())"
    },
    "r": {
     "delete_cmd_postfix": ") ",
     "delete_cmd_prefix": "rm(",
     "library": "var_list.r",
     "varRefreshCmd": "cat(var_dic_list()) "
    }
   },
   "types_to_exclude": [
    "module",
    "function",
    "builtin_function_or_method",
    "instance",
    "_Feature"
   ],
   "window_display": false
  }
 },
 "nbformat": 4,
 "nbformat_minor": 4
}
