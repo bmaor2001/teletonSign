{
 "cells": [
  {
   "cell_type": "code",
   "execution_count": 2,
   "metadata": {
    "ExecuteTime": {
     "end_time": "2022-04-06T14:16:14.403026Z",
     "start_time": "2022-04-06T14:16:08.649223Z"
    }
   },
   "outputs": [
    {
     "name": "stdout",
     "output_type": "stream",
     "text": [
      "Collecting pymysql\n",
      "  Downloading PyMySQL-1.0.2-py3-none-any.whl (43 kB)\n",
      "Installing collected packages: pymysql\n",
      "Successfully installed pymysql-1.0.2\n"
     ]
    }
   ],
   "source": [
    "!pip install pymysql"
   ]
  },
  {
   "cell_type": "code",
   "execution_count": 3,
   "metadata": {
    "ExecuteTime": {
     "end_time": "2022-04-06T14:16:55.216061Z",
     "start_time": "2022-04-06T14:16:55.075127Z"
    }
   },
   "outputs": [],
   "source": [
    "import pymysql"
   ]
  },
  {
   "cell_type": "code",
   "execution_count": 47,
   "metadata": {
    "ExecuteTime": {
     "end_time": "2022-04-06T14:45:01.308806Z",
     "start_time": "2022-04-06T14:45:01.284856Z"
    }
   },
   "outputs": [
    {
     "name": "stdout",
     "output_type": "stream",
     "text": [
      "Conexión exitosa\n"
     ]
    }
   ],
   "source": [
    "class DataBase:\n",
    "    def __init__(self):\n",
    "        self.connection = pymysql.connect(\n",
    "            host = \"localhost\",\n",
    "            user = \"root\",\n",
    "            password = \"\",\n",
    "            db = \"teleton\"\n",
    "        )\n",
    "        self.cursor = self.connection.cursor()\n",
    "    \n",
    "        print(\"Conexión exitosa\")\n",
    "    \n",
    "    def insert(self, nomina, nombre, puesto, tags, certificado, estatus):\n",
    "            sql = \"INSERT INTO `users` (`Nomina`, `Nombre`, `Puesto`, `Tags`, `Certificado`, `Estatus`) VALUES (%s, %s, %s, %s, %s, %s)\"\n",
    "            try:\n",
    "                self.cursor.execute(sql, (nomina, nombre, puesto, tags, certificado, estatus))\n",
    "                print(f\"{nombre} ha sido añadido a la base de datos.\")\n",
    "            except Exception as e:\n",
    "                print(e)\n",
    "                \n",
    "    def select(self, what, _from, where, value):\n",
    "        if what == \"*\":\n",
    "            sql = f\"SELECT {what} FROM {_from}\"\n",
    "        else:\n",
    "            sql = f\"SELECT {what} FROM {_from} where {where} = '{value}'\"\n",
    "        print(sql)\n",
    "        self.cursor.execute(sql)\n",
    "        val = self.cursor.fetchall()\n",
    "        return val\n",
    "        \n",
    "        \n",
    "\n",
    "database = DataBase()\n",
    "    "
   ]
  },
  {
   "cell_type": "code",
   "execution_count": 45,
   "metadata": {
    "ExecuteTime": {
     "end_time": "2022-04-06T14:44:21.212625Z",
     "start_time": "2022-04-06T14:44:21.193624Z"
    }
   },
   "outputs": [
    {
     "name": "stdout",
     "output_type": "stream",
     "text": [
      "Jairo ha sido añadido a la base de datos.\n"
     ]
    }
   ],
   "source": [
    "database.insert(\"A01752068\", \"Jairo\", \"Estudiante\", \"IDM\", \"pdjsnem\", \"Activo\")"
   ]
  },
  {
   "cell_type": "code",
   "execution_count": 49,
   "metadata": {
    "ExecuteTime": {
     "end_time": "2022-04-06T14:45:11.738123Z",
     "start_time": "2022-04-06T14:45:11.720176Z"
    }
   },
   "outputs": [
    {
     "name": "stdout",
     "output_type": "stream",
     "text": [
      "SELECT Nombre FROM users where Nomina = 'A0175043'\n"
     ]
    },
    {
     "data": {
      "text/plain": [
       "(('enrique',),)"
      ]
     },
     "execution_count": 49,
     "metadata": {},
     "output_type": "execute_result"
    }
   ],
   "source": [
    "database.select(what = \"Nombre, \", _from = \"users\", where = \"Nomina\", value = \"A0175043\")"
   ]
  },
  {
   "cell_type": "code",
   "execution_count": null,
   "metadata": {},
   "outputs": [],
   "source": []
  }
 ],
 "metadata": {
  "hide_input": false,
  "kernelspec": {
   "display_name": "Python 3",
   "language": "python",
   "name": "python3"
  },
  "language_info": {
   "codemirror_mode": {
    "name": "ipython",
    "version": 3
   },
   "file_extension": ".py",
   "mimetype": "text/x-python",
   "name": "python",
   "nbconvert_exporter": "python",
   "pygments_lexer": "ipython3",
   "version": "3.8.5"
  },
  "varInspector": {
   "cols": {
    "lenName": 16,
    "lenType": 16,
    "lenVar": 40
   },
   "kernels_config": {
    "python": {
     "delete_cmd_postfix": "",
     "delete_cmd_prefix": "del ",
     "library": "var_list.py",
     "varRefreshCmd": "print(var_dic_list())"
    },
    "r": {
     "delete_cmd_postfix": ") ",
     "delete_cmd_prefix": "rm(",
     "library": "var_list.r",
     "varRefreshCmd": "cat(var_dic_list()) "
    }
   },
   "types_to_exclude": [
    "module",
    "function",
    "builtin_function_or_method",
    "instance",
    "_Feature"
   ],
   "window_display": false
  }
 },
 "nbformat": 4,
 "nbformat_minor": 4
}
