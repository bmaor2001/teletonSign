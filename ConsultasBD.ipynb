{
 "cells": [
  {
   "cell_type": "markdown",
   "metadata": {},
   "source": [
    "## Consultas a la base de datos"
   ]
  },
  {
   "cell_type": "code",
   "execution_count": 2,
   "metadata": {
    "ExecuteTime": {
     "end_time": "2022-04-06T14:16:14.403026Z",
     "start_time": "2022-04-06T14:16:08.649223Z"
    }
   },
   "outputs": [
    {
     "name": "stdout",
     "output_type": "stream",
     "text": [
      "Collecting pymysql\n",
      "  Downloading PyMySQL-1.0.2-py3-none-any.whl (43 kB)\n",
      "Installing collected packages: pymysql\n",
      "Successfully installed pymysql-1.0.2\n"
     ]
    }
   ],
   "source": [
    "!pip install pymysql"
   ]
  },
  {
   "cell_type": "code",
   "execution_count": 5,
   "metadata": {
    "ExecuteTime": {
     "end_time": "2022-04-19T04:19:47.968015Z",
     "start_time": "2022-04-19T04:19:47.799471Z"
    }
   },
   "outputs": [],
   "source": [
    "import pymysql"
   ]
  },
  {
   "cell_type": "code",
   "execution_count": 17,
   "metadata": {
    "ExecuteTime": {
     "end_time": "2022-04-19T04:37:27.416108Z",
     "start_time": "2022-04-19T04:37:27.397208Z"
    }
   },
   "outputs": [
    {
     "name": "stdout",
     "output_type": "stream",
     "text": [
      "Conexión exitosa\n"
     ]
    }
   ],
   "source": [
    "class DataBase:\n",
    "    def __init__(self):\n",
    "        self.connection = pymysql.connect(\n",
    "            host = \"localhost\",\n",
    "            user = \"root\",\n",
    "            password = \"\",\n",
    "            db = \"teleton\"\n",
    "        )\n",
    "        self.cursor = self.connection.cursor()\n",
    "    \n",
    "        print(\"Conexión exitosa\")\n",
    "    \n",
    "    def insert_users(self, nomina, nombre, puesto, tags, certificado, estatus):\n",
    "            sql = f\"INSERT INTO users (`Nomina`, `Nombre`, `Puesto`, `Tags`, `Certificado`, `Estatus`) VALUES ('{nomina}', '{nombre}', '{puesto}', '{tags}', '{certificado}', '{estatus}')\"\n",
    "            print(sql)\n",
    "            try:\n",
    "                self.cursor.execute(sql)\n",
    "                print(f\"{nombre} ha sido añadido a la base de datos.\")\n",
    "            except Exception as e:\n",
    "                print(e)\n",
    "                \n",
    "    def insert_documentos(self, Hash, Tipo, Nombre, Descripcion, Tags, TIME, Estatus):\n",
    "            sql = f\"INSERT INTO documentos (`Hash`, `Tipo`, `Nombre`, `Descripcion`, `Tags`, `TIME`, `Estatus`) VALUES ('{Hash}', '{Tipo}', '{Nombre}', '{Descripcion}', '{Tags}', '{TIME}', '{Estatus}')\"\n",
    "            print(sql)\n",
    "            try:\n",
    "                self.cursor.execute(sql)\n",
    "                print(f\"{Nombre} ha sido añadido a la base de datos.\")\n",
    "            except Exception as e:\n",
    "                print(e)\n",
    "                \n",
    "                \n",
    "    def insert_firma(self, Hash, Doc_signed, TIME, Nomina):\n",
    "            #sql = f\"INSERT INTO firmas (`Hash`, `Doc_signed`, `TIME`, `Nomina`) VALUES ('{Hash}', `{Doc_signed}`, '{TIME}', '{Nomina}')\"\n",
    "            sql = \"\"\" INSERT INTO firmas  (Hash, Doc_signed, TIME, Nomina) VALUES (%s,%s,%s,%s)\"\"\"\n",
    "            print(sql)\n",
    "            try:\n",
    "                self.cursor.execute(sql, (Hash, Doc_signed, TIME, Nomina))\n",
    "                print(f\"{Hash} ha sido añadido a la base de datos.\")\n",
    "            except Exception as e:\n",
    "                print(e)\n",
    "                \n",
    "    def select(self, tabla, what, where, value):\n",
    "        if what == \"*\":\n",
    "            sql = f\"SELECT {what} FROM {tabla}\"\n",
    "        else:\n",
    "            sql = f\"SELECT {what} FROM {tabla} where {where} = '{value}'\"\n",
    "        print(sql)\n",
    "        self.cursor.execute(sql)\n",
    "        val = self.cursor.fetchall()\n",
    "        return val\n",
    "        \n",
    "    def update(self, tabla, what, value, where_col, where_val):\n",
    "        sql = f\"UPDATE {tabla} set {what} = '{value}' where {where_col} = '{where_val}'\"\n",
    "        self.cursor.execute(sql)\n",
    "        print(\"Actualización exitosa\")\n",
    "        \n",
    "    def delete(self, tabla, where, value):\n",
    "        sql = f\"DELETE FROM {tabla} where {where} = '{value}'\"\n",
    "        self.cursor.execute(sql)\n",
    "        print(\"Eliminación exitosa\")\n",
    "\n",
    "database = DataBase()"
   ]
  },
  {
   "cell_type": "code",
   "execution_count": 9,
   "metadata": {
    "ExecuteTime": {
     "end_time": "2022-04-19T04:23:33.303959Z",
     "start_time": "2022-04-19T04:23:33.288002Z"
    }
   },
   "outputs": [
    {
     "name": "stdout",
     "output_type": "stream",
     "text": [
      "INSERT INTO users (`Nomina`, `Nombre`, `Puesto`, `Tags`, `Certificado`, `Estatus`) VALUES ('A01752069', 'Jairo', 'Estudiante', 'IDM', 'pdjsnem', 'Activo')\n",
      "Jairo ha sido añadido a la base de datos.\n"
     ]
    }
   ],
   "source": [
    "database.insert_users(nomina = \"A01752069\",\n",
    "                nombre = \"Jairo\",\n",
    "                puesto = \"Estudiante\",\n",
    "                tags = \"IDM\",\n",
    "                certificado = \"pdjsnem\",\n",
    "                estatus = \"Activo\")"
   ]
  },
  {
   "cell_type": "code",
   "execution_count": 15,
   "metadata": {
    "ExecuteTime": {
     "end_time": "2022-04-19T04:29:29.169152Z",
     "start_time": "2022-04-19T04:29:29.154649Z"
    }
   },
   "outputs": [],
   "source": [
    "def convertToBinaryData(filename):\n",
    "    # Convert digital data to binary format\n",
    "    with open(filename, 'rb') as file:\n",
    "        binaryData = file.read()\n",
    "    return binaryData"
   ]
  },
  {
   "cell_type": "code",
   "execution_count": 16,
   "metadata": {
    "ExecuteTime": {
     "end_time": "2022-04-19T04:29:29.466945Z",
     "start_time": "2022-04-19T04:29:29.450876Z"
    }
   },
   "outputs": [
    {
     "name": "stdout",
     "output_type": "stream",
     "text": [
      " INSERT INTO firmas  (Hash, Doc_signed, TIME, Nomina) VALUES (%s,%s,%s,%s)\n",
      "A01752068 ha sido añadido a la base de datos.\n"
     ]
    }
   ],
   "source": [
    "archivo = convertToBinaryData(\"nombreDoc_nomina_fecha20220418_103207.sign\")\n",
    "database.insert_firma(Hash = \"A01752068\",\n",
    "                Doc_signed = archivo,\n",
    "                TIME = \"Estudiante\",\n",
    "                Nomina = \"IDM\")"
   ]
  },
  {
   "cell_type": "code",
   "execution_count": 25,
   "metadata": {
    "ExecuteTime": {
     "end_time": "2022-04-18T15:30:23.710645Z",
     "start_time": "2022-04-18T15:30:23.693643Z"
    }
   },
   "outputs": [
    {
     "name": "stdout",
     "output_type": "stream",
     "text": [
      "INSERT INTO documentos (`Hash`, `Tipo`, `Nombre`, `Descripcion`, `Tags`, `TIME`, `Estatus`) VALUES ('jxajdljdljs', 'Certificado', 'Ventas.pdf', 'Documento que bla bla', 'Ventas', 'Ahorita', 'Activo')\n",
      "jxajdljdljs ha sido añadido a la base de datos.\n"
     ]
    }
   ],
   "source": [
    "database.insert_documentos(Hash = \"jxajdljdljs\", \n",
    "                           Tipo = \"Certificado\", \n",
    "                           Nombre = \"Ventas.pdf\", \n",
    "                           Descripcion = \"Documento que bla bla\",\n",
    "                           Tags = \"Ventas\", \n",
    "                           TIME = \"Ahorita\", \n",
    "                           Estatus = \"Activo\")"
   ]
  },
  {
   "cell_type": "code",
   "execution_count": 21,
   "metadata": {
    "ExecuteTime": {
     "end_time": "2022-04-19T04:40:33.770623Z",
     "start_time": "2022-04-19T04:40:33.748696Z"
    }
   },
   "outputs": [
    {
     "name": "stdout",
     "output_type": "stream",
     "text": [
      "SELECT Hash, Doc_signed FROM firmas where ID = '1'\n"
     ]
    },
    {
     "data": {
      "text/plain": [
       "(('kndlajdlajdlaj',\n",
       "  b'-----BEGIN CERTIFICATE-----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\\r\\n+gc=\\r\\n-----END CERTIFICATE-----\\r\\n'),)"
      ]
     },
     "execution_count": 21,
     "metadata": {},
     "output_type": "execute_result"
    }
   ],
   "source": [
    "database.select(tabla = \"firmas\", \n",
    "                what = \"Hash, Doc_signed\", \n",
    "                where = \"ID\", \n",
    "                value = \"1\")"
   ]
  },
  {
   "cell_type": "code",
   "execution_count": 72,
   "metadata": {
    "ExecuteTime": {
     "end_time": "2022-04-19T15:16:46.443235Z",
     "start_time": "2022-04-19T15:16:46.416340Z"
    }
   },
   "outputs": [
    {
     "data": {
      "text/plain": [
       "_io.BytesIO"
      ]
     },
     "execution_count": 72,
     "metadata": {},
     "output_type": "execute_result"
    }
   ],
   "source": [
    "from io import BytesIO\n",
    "file_like = BytesIO(b'this is a sample bytearray')\n",
    "type(file_like)"
   ]
  },
  {
   "cell_type": "code",
   "execution_count": 79,
   "metadata": {
    "ExecuteTime": {
     "end_time": "2022-04-19T15:18:37.284090Z",
     "start_time": "2022-04-19T15:18:37.265884Z"
    }
   },
   "outputs": [
    {
     "name": "stdout",
     "output_type": "stream",
     "text": [
      "SELECT Hash, Doc_signed FROM firmas where ID = '1'\n"
     ]
    }
   ],
   "source": [
    "F = database.select(tabla = \"firmas\", \n",
    "                what = \"Hash, Doc_signed\", \n",
    "                where = \"ID\", \n",
    "                value = \"1\")\n",
    "with open(\"Temp.sign\", 'wb') as file:\n",
    "        file.write(F[0][1])\n",
    "f = open(\"Temp.sign\", 'rb').read()"
   ]
  },
  {
   "cell_type": "code",
   "execution_count": 44,
   "metadata": {
    "ExecuteTime": {
     "end_time": "2022-04-19T14:58:06.969153Z",
     "start_time": "2022-04-19T14:58:06.962358Z"
    }
   },
   "outputs": [],
   "source": [
    "#with open(\"nombreDoc_nomina_fecha20220418_103207.sign\", 'rb') as file:\n",
    "f = open(\"nombreDoc_nomina_fecha20220418_103207.sign\", 'rb')\n",
    "sigfile = f.read()"
   ]
  },
  {
   "cell_type": "code",
   "execution_count": 80,
   "metadata": {
    "ExecuteTime": {
     "end_time": "2022-04-19T15:18:39.999626Z",
     "start_time": "2022-04-19T15:18:39.990772Z"
    }
   },
   "outputs": [
    {
     "data": {
      "text/plain": [
       "b'-----BEGIN CERTIFICATE-----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\\r\\n+gc=\\r\\n-----END CERTIFICATE-----\\r\\n'"
      ]
     },
     "execution_count": 80,
     "metadata": {},
     "output_type": "execute_result"
    }
   ],
   "source": [
    "f"
   ]
  },
  {
   "cell_type": "code",
   "execution_count": 55,
   "metadata": {
    "ExecuteTime": {
     "end_time": "2022-04-06T23:58:31.534171Z",
     "start_time": "2022-04-06T23:58:31.517320Z"
    }
   },
   "outputs": [
    {
     "name": "stdout",
     "output_type": "stream",
     "text": [
      "Actualización exitosa\n"
     ]
    }
   ],
   "source": [
    "database.update(tabla = \"users\", \n",
    "                what = \"Nombre\", \n",
    "                value=\"Juanito\", \n",
    "                where_col = \"Nomina\", \n",
    "                where_val = \"A01752068\")"
   ]
  },
  {
   "cell_type": "code",
   "execution_count": 13,
   "metadata": {
    "ExecuteTime": {
     "end_time": "2022-04-18T15:12:47.856020Z",
     "start_time": "2022-04-18T15:12:47.836007Z"
    }
   },
   "outputs": [
    {
     "name": "stdout",
     "output_type": "stream",
     "text": [
      "Eliminación exitosa\n"
     ]
    }
   ],
   "source": [
    "database.delete(tabla = \"users\", \n",
    "                where = \"Nomina\", \n",
    "                value=\"A0175068\")"
   ]
  },
  {
   "cell_type": "markdown",
   "metadata": {},
   "source": [
    "## Generación del certificado digital y llave privada"
   ]
  },
  {
   "cell_type": "code",
   "execution_count": 8,
   "metadata": {
    "ExecuteTime": {
     "end_time": "2022-04-18T13:51:44.994148Z",
     "start_time": "2022-04-18T13:51:44.951699Z"
    }
   },
   "outputs": [],
   "source": [
    "from OpenSSL import crypto, SSL\n",
    "\n",
    "def cert_gen(\n",
    "    emailAddress=\"emailAddress\",\n",
    "    commonName=\"commonName\",\n",
    "    countryName=\"NT\",\n",
    "    localityName=\"localityName\",\n",
    "    stateOrProvinceName=\"stateOrProvinceName\",\n",
    "    organizationName=\"organizationName\",\n",
    "    organizationUnitName=\"organizationUnitName\",\n",
    "    serialNumber=0,\n",
    "    validityStartInSeconds=0,\n",
    "    validityEndInSeconds=10*365*24*60*60,\n",
    "    KEY_FILE = \"private.key\",\n",
    "    CERT_FILE=\"selfsigned.crt\"):\n",
    "    #can look at generated file using openssl:\n",
    "    #openssl x509 -inform pem -in selfsigned.crt -noout -text\n",
    "    # create a key pair\n",
    "    k = crypto.PKey()\n",
    "    k.generate_key(crypto.TYPE_RSA, 4096)\n",
    "    # create a self-signed cert\n",
    "    cert = crypto.X509()\n",
    "    cert.get_subject().C = countryName\n",
    "    cert.get_subject().ST = stateOrProvinceName\n",
    "    cert.get_subject().L = localityName\n",
    "    cert.get_subject().O = organizationName\n",
    "    cert.get_subject().OU = organizationUnitName\n",
    "    cert.get_subject().CN = commonName\n",
    "    cert.get_subject().emailAddress = emailAddress\n",
    "    cert.set_serial_number(serialNumber)\n",
    "    cert.gmtime_adj_notBefore(0)\n",
    "    cert.gmtime_adj_notAfter(validityEndInSeconds)\n",
    "    cert.set_issuer(cert.get_subject())\n",
    "    cert.set_pubkey(k)\n",
    "    cert.sign(k, 'sha256')\n",
    "    with open(CERT_FILE, \"wt\") as f:\n",
    "        f.write(crypto.dump_certificate(crypto.FILETYPE_PEM, cert).decode(\"utf-8\"))\n",
    "    with open(KEY_FILE, \"wt\") as f:\n",
    "        f.write(crypto.dump_privatekey(crypto.FILETYPE_PEM, k).decode(\"utf-8\"))"
   ]
  },
  {
   "cell_type": "code",
   "execution_count": 9,
   "metadata": {
    "ExecuteTime": {
     "end_time": "2022-04-18T13:51:49.451765Z",
     "start_time": "2022-04-18T13:51:48.400140Z"
    }
   },
   "outputs": [],
   "source": [
    "cert_gen(emailAddress=\"A01750443@tec.mx\",\n",
    "    commonName=\"tec.mx\",\n",
    "    countryName=\"MX\",\n",
    "    localityName=\"Monterrey\",\n",
    "    stateOrProvinceName=\"Nuevo León\",\n",
    "    organizationName=\"Tecnológico de Monterrey\",\n",
    "    organizationUnitName=\"organizationUnitName\",\n",
    "    serialNumber=0,\n",
    "    validityStartInSeconds = 0,\n",
    "    validityEndInSeconds = 1*365*24*60*60, #UN AÑO\n",
    "    KEY_FILE = \"privateJERS_2.key\",\n",
    "    CERT_FILE=\"CertificadoJERS_2.crt\")"
   ]
  },
  {
   "cell_type": "markdown",
   "metadata": {},
   "source": [
    "## Cargar el certificado"
   ]
  },
  {
   "cell_type": "code",
   "execution_count": 30,
   "metadata": {
    "ExecuteTime": {
     "end_time": "2022-04-19T14:55:11.294986Z",
     "start_time": "2022-04-19T14:55:11.136071Z"
    }
   },
   "outputs": [
    {
     "data": {
      "text/plain": [
       "b'20220418135149Z'"
      ]
     },
     "execution_count": 30,
     "metadata": {},
     "output_type": "execute_result"
    }
   ],
   "source": [
    "import OpenSSL.crypto \n",
    "cert = OpenSSL.crypto.load_certificate(\n",
    "    OpenSSL.crypto.FILETYPE_PEM, \n",
    "    open('CertificadoJERS_2.crt').read()\n",
    ")\n",
    "cert.get_notBefore()"
   ]
  },
  {
   "cell_type": "markdown",
   "metadata": {},
   "source": [
    "### Obteniendo valores del certificado"
   ]
  },
  {
   "cell_type": "code",
   "execution_count": 31,
   "metadata": {
    "ExecuteTime": {
     "end_time": "2022-04-19T14:55:13.593460Z",
     "start_time": "2022-04-19T14:55:13.575073Z"
    }
   },
   "outputs": [
    {
     "name": "stdout",
     "output_type": "stream",
     "text": [
      "b'sha256WithRSAEncryption'\n",
      "b'20230418135149Z'\n",
      "<OpenSSL.crypto.PKey object at 0x000001E04C764EB0>\n",
      "<X509Name object '/C=MX/ST=Nuevo Le\\xC3\\xB3n/L=Monterrey/O=Tecnol\\xC3\\xB3gico de Monterrey/OU=organizationUnitName/CN=tec.mx/emailAddress=A01750443@tec.mx'>\n"
     ]
    }
   ],
   "source": [
    "print(cert.get_signature_algorithm()) #Con qué algoritmo fue firmado\n",
    "print(cert.get_notAfter()) #fecha de expiración\n",
    "print(cert.get_pubkey())\n",
    "print(cert.get_subject()) # Datos sobre el certificado"
   ]
  },
  {
   "cell_type": "markdown",
   "metadata": {},
   "source": [
    "## Revisar si un certificado coincide con la llave privada"
   ]
  },
  {
   "cell_type": "code",
   "execution_count": 33,
   "metadata": {
    "ExecuteTime": {
     "end_time": "2022-04-19T14:55:20.904600Z",
     "start_time": "2022-04-19T14:55:20.895518Z"
    }
   },
   "outputs": [],
   "source": [
    "def check_associate_cert_with_private_key(cert, private_key):\n",
    "    \"\"\"\n",
    "    :type cert: str\n",
    "    :type private_key: str\n",
    "    :rtype: bool\n",
    "    \"\"\"\n",
    "    try:\n",
    "        private_key_obj = OpenSSL.crypto.load_privatekey(OpenSSL.crypto.FILETYPE_PEM, open(private_key).read())\n",
    "    except OpenSSL.crypto.Error:\n",
    "        raise Exception('private key is not correct: %s' % private_key)\n",
    "\n",
    "    try:\n",
    "        cert_obj = OpenSSL.crypto.load_certificate(OpenSSL.crypto.FILETYPE_PEM, open(cert).read())\n",
    "    except OpenSSL.crypto.Error:\n",
    "        raise Exception('certificate is not correct: %s' % cert)\n",
    "\n",
    "    context = OpenSSL.SSL.Context(OpenSSL.SSL.TLSv1_METHOD)\n",
    "    context.use_privatekey(private_key_obj)\n",
    "    context.use_certificate(cert_obj)\n",
    "    try:\n",
    "        context.check_privatekey()\n",
    "        return True\n",
    "    except OpenSSL.SSL.Error:\n",
    "        return False"
   ]
  },
  {
   "cell_type": "code",
   "execution_count": 35,
   "metadata": {
    "ExecuteTime": {
     "end_time": "2022-04-19T14:55:24.535988Z",
     "start_time": "2022-04-19T14:55:24.499992Z"
    }
   },
   "outputs": [
    {
     "data": {
      "text/plain": [
       "True"
      ]
     },
     "execution_count": 35,
     "metadata": {},
     "output_type": "execute_result"
    }
   ],
   "source": [
    "check_associate_cert_with_private_key(\"CertificadoJERS.crt\", \"privateJERS.key\")"
   ]
  },
  {
   "cell_type": "markdown",
   "metadata": {},
   "source": [
    "## Hash de cualquier documento"
   ]
  },
  {
   "cell_type": "code",
   "execution_count": 36,
   "metadata": {
    "ExecuteTime": {
     "end_time": "2022-04-19T14:55:25.902302Z",
     "start_time": "2022-04-19T14:55:25.850122Z"
    }
   },
   "outputs": [
    {
     "name": "stdout",
     "output_type": "stream",
     "text": [
      "MD5: d7a4be0864d8b40a1fe18c6139b4807a\n",
      "SHA1: 7f042c1c98d9beb8ad45d803cfdce6dc25882eced8820ed91b19194b7e19e55e\n"
     ]
    }
   ],
   "source": [
    "import sys\n",
    "import hashlib\n",
    "\n",
    "# BUF_SIZE is totally arbitrary, change for your app!\n",
    "BUF_SIZE = 65536  # lets read stuff in 64kb chunks!\n",
    "\n",
    "md5 = hashlib.md5()\n",
    "sha1 = hashlib.sha256()\n",
    "#hashlib.sha512\n",
    "\n",
    "with open(\"../LSMLatinxAI_1.pdf\", 'rb') as f:\n",
    "    while True:\n",
    "        data = f.read(BUF_SIZE)\n",
    "        if not data:\n",
    "            break\n",
    "        md5.update(data)\n",
    "        sha1.update(data)\n",
    "\n",
    "print(\"MD5: {0}\".format(md5.hexdigest()))\n",
    "print(\"SHA1: {0}\".format(sha1.hexdigest()))"
   ]
  },
  {
   "cell_type": "markdown",
   "metadata": {
    "ExecuteTime": {
     "end_time": "2022-04-19T04:14:39.367887Z",
     "start_time": "2022-04-19T04:14:39.348972Z"
    }
   },
   "source": [
    "## Generando y verificando un certificado"
   ]
  },
  {
   "cell_type": "code",
   "execution_count": 82,
   "metadata": {
    "ExecuteTime": {
     "end_time": "2022-04-19T15:22:46.069507Z",
     "start_time": "2022-04-19T15:22:45.975050Z"
    }
   },
   "outputs": [
    {
     "data": {
      "text/plain": [
       "<_io.BufferedWriter name='nombreDoc_nomina_fecha20220419_102246.sign'>"
      ]
     },
     "execution_count": 82,
     "metadata": {},
     "output_type": "execute_result"
    }
   ],
   "source": [
    "import signVerify\n",
    "\n",
    "signVerify.gen_signature(\"privateJERS.key\", bytes(sha1.hexdigest(), 'utf-8'))"
   ]
  },
  {
   "cell_type": "code",
   "execution_count": 86,
   "metadata": {
    "ExecuteTime": {
     "end_time": "2022-04-19T15:23:45.960299Z",
     "start_time": "2022-04-19T15:23:45.932201Z"
    }
   },
   "outputs": [
    {
     "name": "stdout",
     "output_type": "stream",
     "text": [
      "Verification successful\n"
     ]
    }
   ],
   "source": [
    "signVerify.verify(\"certificadoJERS.crt\", bytes(sha1.hexdigest(), 'utf-8'), 'nombreDoc_nomina_fecha20220419_102246.sign')"
   ]
  },
  {
   "cell_type": "code",
   "execution_count": 87,
   "metadata": {
    "ExecuteTime": {
     "end_time": "2022-04-19T15:24:07.760300Z",
     "start_time": "2022-04-19T15:24:07.742480Z"
    }
   },
   "outputs": [
    {
     "name": "stdout",
     "output_type": "stream",
     "text": [
      "Verification failed\n"
     ]
    }
   ],
   "source": [
    "signVerify.verify(\"certificadoJERS_2.crt\", bytes(sha1.hexdigest(), 'utf-8'), 'nombreDoc_nomina_fecha20220419_102246.sign')"
   ]
  },
  {
   "cell_type": "code",
   "execution_count": null,
   "metadata": {},
   "outputs": [],
   "source": []
  }
 ],
 "metadata": {
  "hide_input": false,
  "kernelspec": {
   "display_name": "Python 3",
   "language": "python",
   "name": "python3"
  },
  "language_info": {
   "codemirror_mode": {
    "name": "ipython",
    "version": 3
   },
   "file_extension": ".py",
   "mimetype": "text/x-python",
   "name": "python",
   "nbconvert_exporter": "python",
   "pygments_lexer": "ipython3",
   "version": "3.8.5"
  },
  "varInspector": {
   "cols": {
    "lenName": 16,
    "lenType": 16,
    "lenVar": 40
   },
   "kernels_config": {
    "python": {
     "delete_cmd_postfix": "",
     "delete_cmd_prefix": "del ",
     "library": "var_list.py",
     "varRefreshCmd": "print(var_dic_list())"
    },
    "r": {
     "delete_cmd_postfix": ") ",
     "delete_cmd_prefix": "rm(",
     "library": "var_list.r",
     "varRefreshCmd": "cat(var_dic_list()) "
    }
   },
   "types_to_exclude": [
    "module",
    "function",
    "builtin_function_or_method",
    "instance",
    "_Feature"
   ],
   "window_display": false
  }
 },
 "nbformat": 4,
 "nbformat_minor": 4
}
