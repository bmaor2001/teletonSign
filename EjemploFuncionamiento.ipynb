{
 "cells": [
  {
   "cell_type": "code",
   "execution_count": 34,
   "metadata": {
    "ExecuteTime": {
     "end_time": "2022-04-28T02:52:06.694952Z",
     "start_time": "2022-04-28T02:52:06.686013Z"
    }
   },
   "outputs": [],
   "source": [
    "import signVerify\n",
    "import hashlib\n",
    "import DataBaseConection\n",
    "from CertificateFunctions import cert_gen, check_associate_cert_with_private_key, VerificarVigencia, Hash_document, VerificarPassword"
   ]
  },
  {
   "cell_type": "code",
   "execution_count": 35,
   "metadata": {
    "ExecuteTime": {
     "end_time": "2022-04-28T02:52:07.088109Z",
     "start_time": "2022-04-28T02:52:07.066192Z"
    }
   },
   "outputs": [
    {
     "name": "stdout",
     "output_type": "stream",
     "text": [
      "Conexión exitosa\n"
     ]
    }
   ],
   "source": [
    "database = DataBaseConection.DataBase(user = \"root\", password = \"\", db = \"teleton\")"
   ]
  },
  {
   "cell_type": "markdown",
   "metadata": {
    "ExecuteTime": {
     "end_time": "2022-04-19T16:02:09.185902Z",
     "start_time": "2022-04-19T16:02:09.168845Z"
    }
   },
   "source": [
    "# Ejemplo de uso del sistema"
   ]
  },
  {
   "cell_type": "markdown",
   "metadata": {},
   "source": [
    "## Creando usuarios"
   ]
  },
  {
   "cell_type": "markdown",
   "metadata": {},
   "source": [
    "### Creando certificados"
   ]
  },
  {
   "cell_type": "code",
   "execution_count": 36,
   "metadata": {
    "ExecuteTime": {
     "end_time": "2022-04-28T02:52:09.501847Z",
     "start_time": "2022-04-28T02:52:08.708523Z"
    }
   },
   "outputs": [
    {
     "name": "stdout",
     "output_type": "stream",
     "text": [
      "Firmas generadas\n",
      "Guarde su llave privada en un lugar aparte\n",
      "-------------------\n",
      "\n",
      "Subiendo certificado a la base de datos\n",
      "Jairo Enrique R ha sido añadido a la base de datos.\n",
      "Ramirez Sanchez R ha sido añadido a la base de datos.\n"
     ]
    }
   ],
   "source": [
    "nombre_1 = \"Jairo Enrique R\"\n",
    "password_1 = \"prueba\"\n",
    "nomina_1 = \"A01750442\"\n",
    "email_1 = \"A01750442@tec.mx\"\n",
    "\n",
    "nombre_2 = \"Ramirez Sanchez R\"\n",
    "nomina_2 = \"A01752067\"\n",
    "password_2 = \"prueba2\"\n",
    "email_2 = \"A01752067@tec.mx\"\n",
    "\n",
    "\n",
    "cert_gen(emailAddress=email_1,\n",
    "    commonName=nomina_1,\n",
    "    countryName=\"MX\",\n",
    "    localityName=\"Monterrey\",\n",
    "    stateOrProvinceName=\"Nuevo León\",\n",
    "    organizationName=\"Tecnológico de Monterrey\",\n",
    "    organizationUnitName=\"organizationUnitName\",\n",
    "    serialNumber=0,\n",
    "    validityStartInSeconds = 0,\n",
    "    validityEndInSeconds = 1*365*24*60*60, #UN AÑO\n",
    "    KEY_FILE = \"Ejemplo/private\"+nomina_1.replace(\" \",\"_\")+\".key\",\n",
    "    CERT_FILE=\"Ejemplo/Certificado\"+nomina_1.replace(\" \",\"_\")+\".crt\")\n",
    "\n",
    "cert_gen(emailAddress=email_2,\n",
    "    commonName=nomina_2,\n",
    "    countryName=\"MX\",\n",
    "    localityName=\"Monterrey\",\n",
    "    stateOrProvinceName=\"Nuevo León\",\n",
    "    organizationName=\"Tecnológico de Monterrey\",\n",
    "    organizationUnitName=\"organizationUnitName\",\n",
    "    serialNumber=0,\n",
    "    validityStartInSeconds = 0,\n",
    "    validityEndInSeconds = 1*365*24*60*60, #UN AÑO\n",
    "    KEY_FILE = \"Ejemplo/private\"+nomina_2.replace(\" \",\"_\")+\".key\",\n",
    "    CERT_FILE=\"Ejemplo/Certificado\"+nomina_2.replace(\" \",\"_\")+\".crt\")\n",
    "\n",
    "print(\"Firmas generadas\")\n",
    "print(\"Guarde su llave privada en un lugar aparte\")\n",
    "print(\"-------------------\\n\")\n",
    "print(\"Subiendo certificado a la base de datos\")\n",
    "\n",
    "database.insert_users(nomina = nomina_1,\n",
    "                password=hashlib.sha256(bytes(password_1, encoding=\"utf-8\")).hexdigest(),\n",
    "                nombre = nombre_1,\n",
    "                puesto = \"Estudiante\",\n",
    "                tags = \"IDM\",\n",
    "                certificado = f\"Ejemplo/Certificado{nomina_1}.crt\",\n",
    "                estatus = \"Activo\")\n",
    "\n",
    "database.insert_users(nomina = nomina_2,\n",
    "                password = hashlib.sha256(bytes(password_2, encoding=\"utf-8\")).hexdigest(),\n",
    "                nombre = nombre_2,\n",
    "                puesto = \"Estudiante\",\n",
    "                tags = \"IDM\",\n",
    "                certificado = f\"Ejemplo/Certificado{nomina_2}.crt\",\n",
    "                estatus = \"Activo\")"
   ]
  },
  {
   "cell_type": "markdown",
   "metadata": {
    "ExecuteTime": {
     "end_time": "2022-04-19T16:29:51.557969Z",
     "start_time": "2022-04-19T16:29:51.549403Z"
    }
   },
   "source": [
    "## Solicitar firma"
   ]
  },
  {
   "cell_type": "code",
   "execution_count": 27,
   "metadata": {
    "ExecuteTime": {
     "end_time": "2022-04-28T02:30:07.539339Z",
     "start_time": "2022-04-28T02:30:07.528373Z"
    }
   },
   "outputs": [
    {
     "name": "stdout",
     "output_type": "stream",
     "text": [
      "Doc_1.pdf ha sido añadido a la base de datos.\n"
     ]
    }
   ],
   "source": [
    "#Primero se sube el documento que se quiere firmar con todos los datos de indentificación\n",
    "file_1 = \"Ejemplo/Doc_2.pdf\"\n",
    "\n",
    "database.insert_documentos(Hash = Hash_document(file_1).hexdigest(), \n",
    "                           Tipo = \"Libro\", \n",
    "                           Nombre = \"Doc_1.pdf\", \n",
    "                           Descripcion = \"Justine o los infortunios de la virtud\",\n",
    "                           Tags = f\"{nomina_1};{nomina_2}\",\n",
    "                           Estatus = \"Activo\")\n"
   ]
  },
  {
   "cell_type": "code",
   "execution_count": 69,
   "metadata": {
    "ExecuteTime": {
     "end_time": "2022-04-28T14:49:44.275335Z",
     "start_time": "2022-04-28T14:49:44.250364Z"
    }
   },
   "outputs": [
    {
     "data": {
      "text/plain": [
       "'50df68716b0074ebd4e5f2ccb5b378d89a8a174128394a57654d4410d4a268e5'"
      ]
     },
     "execution_count": 69,
     "metadata": {},
     "output_type": "execute_result"
    }
   ],
   "source": [
    "file_1 = \"Ejemplo/Doc_1.pdf\"\n",
    "Hash_document(file_1).hexdigest()"
   ]
  },
  {
   "cell_type": "code",
   "execution_count": 94,
   "metadata": {
    "ExecuteTime": {
     "end_time": "2022-04-28T20:53:24.166035Z",
     "start_time": "2022-04-28T20:53:24.144049Z"
    }
   },
   "outputs": [
    {
     "data": {
      "text/plain": [
       "()"
      ]
     },
     "execution_count": 94,
     "metadata": {},
     "output_type": "execute_result"
    }
   ],
   "source": [
    "users = database.select(tabla = \"documentos\", \n",
    "                what = \"Tags\", \n",
    "                where = \"hash\", \n",
    "                value = \"e3b0c44298fc1c149afbf4c8996fb92427ae41e4\")\n",
    "\n",
    "nomina = \"A01750442\"\n",
    "#nomina in \n",
    "users#[0][0].split(\";\")"
   ]
  },
  {
   "cell_type": "markdown",
   "metadata": {},
   "source": [
    "## Generar el archivo firmado"
   ]
  },
  {
   "cell_type": "code",
   "execution_count": 31,
   "metadata": {
    "ExecuteTime": {
     "end_time": "2022-04-28T02:42:31.083421Z",
     "start_time": "2022-04-28T02:42:30.832645Z"
    }
   },
   "outputs": [
    {
     "name": "stdout",
     "output_type": "stream",
     "text": [
      "Certificado vigente\n",
      "\n",
      "Archivo firmado en Ejemplo/Doc_1.pdf_A01750442_20220427_214230.sign\n",
      "\n",
      " Cargando la firma a la base de datos\n",
      "50df68716b0074ebd4e5f2ccb5b378d89a8a174128394a57654d4410d4a268e5 ha sido añadido a la base de datos.\n",
      "\n",
      "-------------------------------\n",
      "\n",
      "Certificado vigente\n",
      "Archivo firmado en Ejemplo/Doc_1.pdf_A01752067_20220427_214231.sign\n",
      "\n",
      " Cargando la firma a la base de datos\n"
     ]
    }
   ],
   "source": [
    "# Obtiene el certificado de la base de datos del usuario tomando su nómina\n",
    "file_1 = \"Ejemplo/Doc_1.pdf\"\n",
    "Certificado_1 = database.select(tabla = \"users\", \n",
    "                what = \"Certificado\", \n",
    "                where = \"Nomina\", \n",
    "                value = nomina_1)[0][0]\n",
    "\n",
    "# Se carga la llave privada del usuario\n",
    "\n",
    "private_key_1 = \"Ejemplo/privateA01750442.key\"\n",
    "\n",
    "#Se verifica la vigencia para saber si es posible firmar el documento\n",
    "\n",
    "VerificarVigencia(Certificado_1)\n",
    "\n",
    "#Se valida si la llave privada coincide con el certificado almacenado, es decir, que quien quiera firmar sea quien dice ser.\n",
    "\n",
    "Match = check_associate_cert_with_private_key(Certificado_1, private_key_1)\n",
    "print()\n",
    "\n",
    "if Match:\n",
    "    # se generar el archivo de firma digital\n",
    "    file_name = signVerify.gen_signature(private_key_1, bytes(Hash_document(file_1).hexdigest(), 'utf-8'), file_1, nomina_1)\n",
    "    print(f\"Archivo firmado en {file_name}\")\n",
    "\n",
    "    print(\"\\n Cargando la firma a la base de datos\")\n",
    "    database.cargar_firma(Doc_signed = file_name,\n",
    "                     Hash = Hash_document(file_1).hexdigest(),\n",
    "                     Nomina = nomina_1)\n",
    "    database.insert_firma(Doc_signed = file_name,\n",
    "                             Hash = Hash_document(file_1).hexdigest(),\n",
    "                             Nomina = nomina_1)\n",
    "else:\n",
    "    print(\"La llave privada no coincide con el certificado.\\nNo puede firmar este documento.\")\n",
    "\n",
    "print(\"\\n-------------------------------\\n\")\n",
    "\n",
    "Certificado_2 = database.select(tabla = \"users\", \n",
    "                what = \"Certificado\", \n",
    "                where = \"Nomina\", \n",
    "                value = nomina_2)[0][0]\n",
    "\n",
    "private_key_2 = \"Ejemplo/privateA01752067.key\"\n",
    "\n",
    "VerificarVigencia(Certificado_2)\n",
    "\n",
    "Match = check_associate_cert_with_private_key(Certificado_2, private_key_2)\n",
    "\n",
    "if Match:\n",
    "\n",
    "    file_name = signVerify.gen_signature(private_key_2, bytes(Hash_document(file_1).hexdigest(), 'utf-8'), file_1, nomina_2)\n",
    "    print(f\"Archivo firmado en {file_name}\")\n",
    "\n",
    "    print(\"\\n Cargando la firma a la base de datos\")\n",
    "    database.cargar_firma(Doc_signed = file_name,\n",
    "                     Hash = Hash_document(file_1).hexdigest(),\n",
    "                     Nomina = nomina_2)\n",
    "else:\n",
    "    print(\"La llave privada no coincide con el certificado.\\nNo puede firmar este documento.\")"
   ]
  },
  {
   "cell_type": "code",
   "execution_count": 29,
   "metadata": {
    "ExecuteTime": {
     "end_time": "2022-04-28T02:41:44.490531Z",
     "start_time": "2022-04-28T02:41:44.469562Z"
    }
   },
   "outputs": [
    {
     "data": {
      "text/plain": [
       "'A01750442'"
      ]
     },
     "execution_count": 29,
     "metadata": {},
     "output_type": "execute_result"
    }
   ],
   "source": [
    "from OpenSSL import crypto  \n",
    "crtObj = crypto.load_certificate(crypto.FILETYPE_PEM, open(\"Ejemplo/CertificadoA01750442.crt\").read())\n",
    "type(crtObj.get_subject())\n",
    "crtObj.get_subject().commonName"
   ]
  },
  {
   "cell_type": "markdown",
   "metadata": {
    "ExecuteTime": {
     "end_time": "2022-04-20T03:15:36.156304Z",
     "start_time": "2022-04-20T03:15:36.140648Z"
    }
   },
   "source": [
    "## Verificar firma"
   ]
  },
  {
   "cell_type": "code",
   "execution_count": 32,
   "metadata": {
    "ExecuteTime": {
     "end_time": "2022-04-28T02:42:34.042529Z",
     "start_time": "2022-04-28T02:42:34.019524Z"
    }
   },
   "outputs": [
    {
     "name": "stdout",
     "output_type": "stream",
     "text": [
      "Verificación exitosa. \n",
      "El archivo fue firmado correctamente por A01750442\n"
     ]
    }
   ],
   "source": [
    "from OpenSSL import crypto  \n",
    "# Es cargado el documento a verificar\n",
    "file_1 = \"Ejemplo/Doc_1.pdf\"\n",
    "file_2 = \"Ejemplo/Doc_2.pdf\"\n",
    "\n",
    "#Se emula que se suben los certificados\n",
    "\n",
    "#Se cargan los certificados de las personas que se quieren validar\n",
    "Certificado_1 = \"Ejemplo/CertificadoA01750442.crt\"\n",
    "\n",
    "nomina_1 = crypto.load_certificate(crypto.FILETYPE_PEM, open(Certificado_1).read()).get_subject().commonName\n",
    "\n",
    "\n",
    "# Se extraé de la base de datos el archivo firmado que coincida con el hash del documento y la nómina\n",
    "f = database.select(tabla = \"firmas\", \n",
    "                what = \"Doc_signed\", \n",
    "                where = \"Hash\", \n",
    "                value = Hash_document(file_1).hexdigest(),\n",
    "                where_2 = \"Nomina\",\n",
    "                value_2 = nomina_1)[0][0]\n",
    "\n",
    "if f != None:\n",
    "    # Si el archvio existe, se valida la firma\n",
    "    open(\"Ejemplo/temp.sign\", \"wb\").write(f)\n",
    "\n",
    "    result = signVerify.verify(Certificado_1, bytes(Hash_document(file_1).hexdigest(), 'utf-8'), \"Ejemplo/temp.sign\", load = True)\n",
    "    if result:\n",
    "        print(f\"Verificación exitosa. \\nEl archivo fue firmado correctamente por {nomina_1}\")\n",
    "    else:\n",
    "        print(f\"Verificación fallida. \\nEl archivo no firmado por {nomina_1}\")\n",
    "\n",
    "else:\n",
    "    # Si el archivo aún no existe, tiene pendiente la firma\n",
    "    print(f\"El archivo aún no cuenta con la firma de {nomina_1}\")\n"
   ]
  },
  {
   "cell_type": "code",
   "execution_count": 56,
   "metadata": {
    "ExecuteTime": {
     "end_time": "2022-04-28T13:44:02.663466Z",
     "start_time": "2022-04-28T13:44:02.640560Z"
    }
   },
   "outputs": [
    {
     "data": {
      "text/plain": [
       "True"
      ]
     },
     "execution_count": 56,
     "metadata": {},
     "output_type": "execute_result"
    }
   ],
   "source": [
    "VerificarPassword(\"A01750442\", \"prueba\", database)"
   ]
  },
  {
   "cell_type": "code",
   "execution_count": 8,
   "metadata": {
    "ExecuteTime": {
     "end_time": "2022-04-21T21:25:23.033416Z",
     "start_time": "2022-04-21T21:25:22.328129Z"
    }
   },
   "outputs": [],
   "source": [
    "import matplotlib.pyplot as plt"
   ]
  },
  {
   "cell_type": "code",
   "execution_count": 31,
   "metadata": {
    "ExecuteTime": {
     "end_time": "2022-04-21T21:30:50.272169Z",
     "start_time": "2022-04-21T21:30:50.094165Z"
    }
   },
   "outputs": [
    {
     "data": {
      "image/png": "[encoded data removed]",
      "text/plain": [
       "<Figure size 432x288 with 1 Axes>"
      ]
     },
     "metadata": {
      "needs_background": "light"
     },
     "output_type": "display_data"
    }
   ],
   "source": [
    "plt.plot([144, 387], [0.015, 0.019], marker=\"o\")\n",
    "plt.grid()\n",
    "plt.xlabel(r\"UFC/mL (millones)\")\n",
    "plt.ylabel(\"Absorbancia\")\n",
    "plt.title(\"\")\n",
    "plt.xlim([100, 450])\n",
    "plt.ylim([0.0135, 0.02])\n",
    "plt.show()\n"
   ]
  },
  {
   "cell_type": "markdown",
   "metadata": {},
   "source": [
    "## Pruebas de rendimiento"
   ]
  },
  {
   "cell_type": "code",
   "execution_count": 30,
   "metadata": {
    "ExecuteTime": {
     "end_time": "2022-04-25T12:53:36.672865Z",
     "start_time": "2022-04-25T12:53:36.645917Z"
    }
   },
   "outputs": [],
   "source": [
    "from cryptography.hazmat.primitives import hashes\n",
    "\n",
    "from OpenSSL import crypto, SSL\n",
    "from datetime import datetime\n",
    "import OpenSSL.crypto \n",
    "import sys\n",
    "import hashlib\n",
    "\n",
    "from cryptography.hazmat.primitives import serialization\n",
    "from cryptography.hazmat.primitives import hashes\n",
    "from cryptography.hazmat.primitives.asymmetric import padding\n",
    "from OpenSSL import crypto  \n",
    "\n",
    "\n",
    "def gen_signature(priv_key, document, nombreDoc, nomina,hsh):\n",
    "    \"\"\"\n",
    "    :type priv_key: str (dirección del documento)\n",
    "    :type document: bytes (El hash pasarlo a str y eso a bytes)\n",
    "    :type nombreDoc: str (nombre del archivo a firmar, solo como referencia)\n",
    "    :type nomina: str (nomina de quien firma)\n",
    "    :rtype: str (nombre del archivo firmado)\n",
    "    \"\"\"\n",
    "    '''Receives the HASH of the documentPDF and the private key,\n",
    "    returns a binary file with the signature.\n",
    "    This will be uploaded to the logs section FIRMAS'''\n",
    "\n",
    "    #Read private_key from other file\n",
    "    with open(priv_key, \"rb\") as key_file:\n",
    "        private_key = serialization.load_pem_private_key(\n",
    "            key_file.read(),\n",
    "            password=None,\n",
    "        )\n",
    "    signature = private_key.sign(\n",
    "        document,\n",
    "        padding.PSS(\n",
    "            mgf=padding.MGF1(hsh),     \n",
    "            salt_length=padding.PSS.MAX_LENGTH\n",
    "        ),\n",
    "        hsh\n",
    "    )   \n",
    "\n",
    "    #Format: aaaammdd_hhmmss\n",
    "    date = str(datetime.now()).replace('-', '').replace(':', '').replace(' ', '_')[:-7]\n",
    "\n",
    "    #write the binary signature file\n",
    "    name = f\"{nombreDoc}_{nomina}_{date}.sign\"\n",
    "    f = open(name, \"wb\")\n",
    "    f.write(signature)\n",
    "    f.close()\n",
    "\n",
    "    #Returns the sign binary file, will be uploaded to DB\n",
    "    return name\n",
    "\n",
    "\n",
    "## Verifying Algorithm\n",
    "def verify(cert, document, sigfile, hsh, load = True):\n",
    "    \"\"\"\n",
    "    :type cert: str (dirección del documento)\n",
    "    :type document: bytes (El hash pasarlo a str y eso a bytes)\n",
    "    :type sigfile: str (Dirección del archivo firmado)\n",
    "    :type load: bool (Saber si lo tiene que leer del disco [True] o se le pasará un archivo en bytes)\n",
    "    :rtype: str (nombre del archivo firmado)\n",
    "    \"\"\"\n",
    "    '''Receives the certificate with public key, the\n",
    "    document and the signaturefile to see if said signatures\n",
    "    corresponds to that document. And its hasn't been \n",
    "    altered or something else was signed. '''\n",
    "\n",
    "    #Get public_key from certificate\n",
    "    \n",
    "    \n",
    "    if load:\n",
    "        f = open(sigfile, 'rb')\n",
    "        sigfile = f.read()\n",
    "        crtObj = crypto.load_certificate(crypto.FILETYPE_PEM, open(cert).read())\n",
    "    else:\n",
    "        crtObj = crypto.load_certificate(crypto.FILETYPE_PEM, cert)\n",
    "        \n",
    "    pub_key = crtObj.get_pubkey()\n",
    "    pub_key = pub_key.to_cryptography_key()\n",
    "\n",
    "    try: \n",
    "        pub_key.verify(\n",
    "        sigfile,\n",
    "        document,\n",
    "        padding.PSS(\n",
    "            mgf=padding.MGF1(hsh),\n",
    "            salt_length=padding.PSS.MAX_LENGTH\n",
    "        ),\n",
    "        hsh\n",
    "        )\n",
    "        return True\n",
    "\n",
    "    except: \n",
    "        return False\n",
    "\n",
    "def cert_gen(\n",
    "    emailAddress=\"emailAddress\",\n",
    "    commonName=\"commonName\",\n",
    "    countryName=\"NT\",\n",
    "    localityName=\"localityName\",\n",
    "    stateOrProvinceName=\"stateOrProvinceName\",\n",
    "    organizationName=\"organizationName\",\n",
    "    organizationUnitName=\"organizationUnitName\",\n",
    "    serialNumber=0,\n",
    "    validityStartInSeconds=0,\n",
    "    validityEndInSeconds=10*365*24*60*60,\n",
    "    KEY_FILE = \"private.key\",\n",
    "    CERT_FILE=\"selfsigned.crt\",\n",
    "    hsh = \"sha256\"):\n",
    "    #can look at generated file using openssl:\n",
    "    #openssl x509 -inform pem -in selfsigned.crt -noout -text\n",
    "    # create a key pair\n",
    "    k = crypto.PKey()\n",
    "    k.generate_key(crypto.TYPE_RSA, 4096)\n",
    "    # create a self-signed cert\n",
    "    cert = crypto.X509()\n",
    "    cert.get_subject().C = countryName\n",
    "    cert.get_subject().ST = stateOrProvinceName\n",
    "    cert.get_subject().L = localityName\n",
    "    cert.get_subject().O = organizationName\n",
    "    cert.get_subject().OU = organizationUnitName\n",
    "    cert.get_subject().CN = commonName\n",
    "    cert.get_subject().emailAddress = emailAddress\n",
    "    cert.set_serial_number(serialNumber)\n",
    "    cert.gmtime_adj_notBefore(0)\n",
    "    cert.gmtime_adj_notAfter(validityEndInSeconds)\n",
    "    cert.set_issuer(cert.get_subject())\n",
    "    cert.set_pubkey(k)\n",
    "    cert.sign(k, hsh)\n",
    "    with open(CERT_FILE, \"wt\") as f:\n",
    "        f.write(crypto.dump_certificate(crypto.FILETYPE_PEM, cert).decode(\"utf-8\"))\n",
    "    with open(KEY_FILE, \"wt\") as f:\n",
    "        f.write(crypto.dump_privatekey(crypto.FILETYPE_PEM, k).decode(\"utf-8\"))\n",
    "        \n",
    "def Hash_document(file, sha1):\n",
    "    \"\"\"\n",
    "    :type file: str (dirección del archivo)\n",
    "    :rtype: _hashlib.HASH\n",
    "    Utilice Hash_document(file).hexdigest() para obtener la representación del SHA en string.\n",
    "    \"\"\"\n",
    "    # BUF_SIZE is totally arbitrary, change for your app!\n",
    "    BUF_SIZE = 65536  # lets read stuff in 64kb chunks!\n",
    "    #hashlib.sha512\n",
    "\n",
    "    with open(file, 'rb') as f:\n",
    "        while True:\n",
    "            data = f.read(BUF_SIZE)\n",
    "            if not data:\n",
    "                break\n",
    "            sha1.update(data)\n",
    "\n",
    "    return sha1"
   ]
  },
  {
   "cell_type": "code",
   "execution_count": 20,
   "metadata": {
    "ExecuteTime": {
     "end_time": "2022-04-25T12:48:41.311127Z",
     "start_time": "2022-04-25T12:48:40.431401Z"
    }
   },
   "outputs": [],
   "source": []
  },
  {
   "cell_type": "code",
   "execution_count": null,
   "metadata": {},
   "outputs": [],
   "source": []
  },
  {
   "cell_type": "code",
   "execution_count": 75,
   "metadata": {
    "ExecuteTime": {
     "end_time": "2022-04-25T13:27:41.992061Z",
     "start_time": "2022-04-25T13:23:13.258441Z"
    }
   },
   "outputs": [
    {
     "name": "stderr",
     "output_type": "stream",
     "text": [
      "100% (100 of 100) |######################| Elapsed Time: 0:04:28 Time:  0:04:28\n"
     ]
    }
   ],
   "source": [
    "import time\n",
    "import progressbar\n",
    "\n",
    "file = \"PruebasRendimiento/Doc1.pdf\"\n",
    "P = [[hashes.SHA1(), hashlib.sha1(),\"sha1\"], \n",
    "         [hashes.SHA224(), hashlib.sha224(), \"sha224\"], \n",
    "         [hashes.SHA256(), hashlib.sha256(), \"sha256\"], \n",
    "         [hashes.SHA512(), hashlib.sha512(), \"sha512\"],\n",
    "         [hashes.SHA384(), hashlib.sha384(), \"sha384\"],\n",
    "        ]\n",
    "\n",
    "Resultados = {i[2]:{\"cert\":0, \"gen\":0, \"ver\":0} for i in P}\n",
    "for _ in progressbar.progressbar(range(100)):\n",
    "    for h, j, k in P:\n",
    "        #print(\"---------------------------------------------------\")\n",
    "        #print(f\"{k}\")\n",
    "        start_time = time.time()\n",
    "\n",
    "        cert_gen(emailAddress=\"email_1\",\n",
    "            commonName=\"tec.mx\",\n",
    "            countryName=\"MX\",\n",
    "            localityName=\"Monterrey\",\n",
    "            stateOrProvinceName=\"Nuevo León\",\n",
    "            organizationName=\"Tecnológico de Monterrey\",\n",
    "            organizationUnitName=\"organizationUnitName\",\n",
    "            serialNumber=0,\n",
    "            validityStartInSeconds = 0,\n",
    "            validityEndInSeconds = 1*365*24*60*60, #UN AÑO\n",
    "            KEY_FILE = \"PruebasRendimiento/private.key\",\n",
    "            CERT_FILE=\"PruebasRendimiento/Certificado.crt\",\n",
    "            hsh = k)\n",
    "        #print(f\"Tiempo en generar claves: {(time.time() - start_time)}\")\n",
    "\n",
    "        Resultados[k][\"cert\"] = Resultados[k][\"cert\"]+(time.time() - start_time)\n",
    "\n",
    "        start_time = time.time()\n",
    "        d = gen_signature(\"PruebasRendimiento/private.key\", \n",
    "                      bytes(Hash_document(file, j).hexdigest(), 'utf-8'), file, \"a01750443\", h)\n",
    "        #print(f\"Tiempo en generar firma: {(time.time() - start_time)}\")\n",
    "        Resultados[k][\"gen\"] = Resultados[k][\"gen\"]+(time.time() - start_time)\n",
    "\n",
    "        start_time = time.time()\n",
    "        verify(\"PruebasRendimiento/Certificado.crt\", bytes(Hash_document(file, j).hexdigest(), 'utf-8'), d, h, load = True)\n",
    "        #print(f\"Tiempo en verificar firma: {(time.time() - start_time)}\")\n",
    "        Resultados[k][\"ver\"] = Resultados[k][\"ver\"]+(time.time() - start_time)\n",
    "        #print(\"---------------------------------------------------\")\n",
    "        #print()"
   ]
  },
  {
   "cell_type": "code",
   "execution_count": 97,
   "metadata": {
    "ExecuteTime": {
     "end_time": "2022-04-25T13:34:55.894602Z",
     "start_time": "2022-04-25T13:34:55.866483Z"
    }
   },
   "outputs": [
    {
     "data": {
      "text/html": [
       "<div>\n",
       "<style scoped>\n",
       "    .dataframe tbody tr th:only-of-type {\n",
       "        vertical-align: middle;\n",
       "    }\n",
       "\n",
       "    .dataframe tbody tr th {\n",
       "        vertical-align: top;\n",
       "    }\n",
       "\n",
       "    .dataframe thead th {\n",
       "        text-align: right;\n",
       "    }\n",
       "</style>\n",
       "<table border=\"1\" class=\"dataframe\">\n",
       "  <thead>\n",
       "    <tr style=\"text-align: right;\">\n",
       "      <th></th>\n",
       "      <th>cert</th>\n",
       "      <th>gen</th>\n",
       "      <th>ver</th>\n",
       "    </tr>\n",
       "  </thead>\n",
       "  <tbody>\n",
       "    <tr>\n",
       "      <th>sha1</th>\n",
       "      <td>0.468356</td>\n",
       "      <td>0.035875</td>\n",
       "      <td>0.011331</td>\n",
       "    </tr>\n",
       "    <tr>\n",
       "      <th>sha224</th>\n",
       "      <td>0.481957</td>\n",
       "      <td>0.036545</td>\n",
       "      <td>0.012520</td>\n",
       "    </tr>\n",
       "    <tr>\n",
       "      <th>sha256</th>\n",
       "      <td>0.544446</td>\n",
       "      <td>0.036292</td>\n",
       "      <td>0.011000</td>\n",
       "    </tr>\n",
       "    <tr>\n",
       "      <th>sha384</th>\n",
       "      <td>0.416953</td>\n",
       "      <td>0.037163</td>\n",
       "      <td>0.012743</td>\n",
       "    </tr>\n",
       "    <tr>\n",
       "      <th>sha512</th>\n",
       "      <td>0.530393</td>\n",
       "      <td>0.036398</td>\n",
       "      <td>0.013491</td>\n",
       "    </tr>\n",
       "  </tbody>\n",
       "</table>\n",
       "</div>"
      ],
      "text/plain": [
       "            cert       gen       ver\n",
       "sha1    0.468356  0.035875  0.011331\n",
       "sha224  0.481957  0.036545  0.012520\n",
       "sha256  0.544446  0.036292  0.011000\n",
       "sha384  0.416953  0.037163  0.012743\n",
       "sha512  0.530393  0.036398  0.013491"
      ]
     },
     "execution_count": 97,
     "metadata": {},
     "output_type": "execute_result"
    }
   ],
   "source": [
    "import pandas as pd\n",
    "Data = pd.DataFrame.from_dict(Resultados)\n",
    "Data = (Data / 100)[[\"sha1\", \"sha224\",\"sha256\",\"sha384\",\"sha512\"]].T\n",
    "Data"
   ]
  },
  {
   "cell_type": "code",
   "execution_count": 83,
   "metadata": {
    "ExecuteTime": {
     "end_time": "2022-04-25T13:29:31.351021Z",
     "start_time": "2022-04-25T13:29:30.829202Z"
    }
   },
   "outputs": [],
   "source": [
    "import matplotlib.pyplot as plt"
   ]
  },
  {
   "cell_type": "code",
   "execution_count": 100,
   "metadata": {
    "ExecuteTime": {
     "end_time": "2022-04-25T13:36:34.208726Z",
     "start_time": "2022-04-25T13:36:33.881367Z"
    }
   },
   "outputs": [
    {
     "data": {
      "image/png": "[encoded data removed]",
      "text/plain": [
       "<Figure size 432x288 with 1 Axes>"
      ]
     },
     "metadata": {
      "needs_background": "light"
     },
     "output_type": "display_data"
    },
    {
     "data": {
      "image/png": "[encoded data removed]",
      "text/plain": [
       "<Figure size 432x288 with 1 Axes>"
      ]
     },
     "metadata": {
      "needs_background": "light"
     },
     "output_type": "display_data"
    },
    {
     "data": {
      "image/png": "[encoded data removed]",
      "text/plain": [
       "<Figure size 432x288 with 1 Axes>"
      ]
     },
     "metadata": {
      "needs_background": "light"
     },
     "output_type": "display_data"
    }
   ],
   "source": [
    "#plt.plot(Data.cert, marker=\"x\")\n",
    "plt.plot(Data.gen, marker=\"x\")\n",
    "plt.grid()\n",
    "plt.title(\"Tiempo en generar claves\")\n",
    "plt.xlabel(\"Algoritmo\")\n",
    "plt.ylabel(\"Tiempo [s]\")\n",
    "plt.show()\n",
    "\n",
    "plt.plot(Data.gen, marker=\"o\")\n",
    "plt.grid()\n",
    "plt.title(\"Tiempo en firmar un documento\")\n",
    "plt.xlabel(\"Algoritmo\")\n",
    "plt.ylabel(\"Tiempo [s]\")\n",
    "plt.show()\n",
    "\n",
    "plt.plot(Data.ver, marker=\"*\")\n",
    "plt.grid()\n",
    "plt.title(\"Tiempo en verificar la firma\")\n",
    "plt.xlabel(\"Algoritmo\")\n",
    "plt.ylabel(\"Tiempo [s]\")\n",
    "plt.show()"
   ]
  },
  {
   "cell_type": "code",
   "execution_count": 149,
   "metadata": {
    "ExecuteTime": {
     "end_time": "2022-04-25T16:56:19.016111Z",
     "start_time": "2022-04-25T16:56:18.997536Z"
    }
   },
   "outputs": [],
   "source": [
    "import numpy as np"
   ]
  },
  {
   "cell_type": "code",
   "execution_count": 217,
   "metadata": {
    "ExecuteTime": {
     "end_time": "2022-04-25T17:22:48.784756Z",
     "start_time": "2022-04-25T17:22:47.783933Z"
    }
   },
   "outputs": [
    {
     "name": "stdout",
     "output_type": "stream",
     "text": [
      "Para 1\n",
      "\n",
      "1 - 1\n",
      "2 - 1\n",
      "3 - 1\n",
      "4 - 1\n",
      "5 - 1\n",
      "6 - 1\n",
      "7 - 1\n",
      "8 - 1\n",
      "9 - 1\n",
      "10 - 1\n",
      "11 - 1\n",
      "12 - 1\n",
      "13 - 1\n",
      "14 - 1\n",
      "15 - 1\n",
      "16 - 1\n",
      "17 - 1\n",
      "18 - 1\n",
      "19 - 1\n",
      "------------\n",
      "Para 3\n",
      "\n",
      "1 - 1\n",
      "2 - 2\n",
      "3 - 2\n",
      "4 - 4\n",
      "5 - 8\n",
      "6 - 16\n",
      "7 - 32\n",
      "8 - 64\n",
      "9 - 128\n",
      "10 - 256\n",
      "11 - 512\n",
      "12 - 1000\n",
      "13 - 1000\n",
      "14 - 1000\n",
      "15 - 1000\n",
      "16 - 1000\n",
      "17 - 1000\n",
      "18 - 1000\n",
      "19 - 1000\n",
      "------------\n",
      "Para 5\n",
      "\n",
      "1 - 1\n",
      "2 - 1\n",
      "3 - 2\n",
      "4 - 4\n",
      "5 - 8\n",
      "6 - 16\n",
      "7 - 32\n",
      "8 - 64\n",
      "9 - 128\n",
      "10 - 256\n",
      "11 - 512\n",
      "12 - 1000\n",
      "13 - 1000\n",
      "14 - 1000\n",
      "15 - 1000\n",
      "16 - 1000\n",
      "17 - 1000\n",
      "18 - 1000\n",
      "19 - 1000\n",
      "------------\n",
      "Para 7\n",
      "\n",
      "1 - 1\n",
      "2 - 2\n",
      "3 - 2\n",
      "4 - 2\n",
      "5 - 4\n",
      "6 - 8\n",
      "7 - 16\n",
      "8 - 32\n",
      "9 - 64\n",
      "10 - 128\n",
      "11 - 256\n",
      "12 - 512\n",
      "13 - 1000\n",
      "14 - 1000\n",
      "15 - 1000\n",
      "16 - 1000\n",
      "17 - 1000\n",
      "18 - 1000\n",
      "19 - 1000\n",
      "------------\n",
      "Para 9\n",
      "\n",
      "1 - 1\n",
      "2 - 1\n",
      "3 - 1\n",
      "4 - 2\n",
      "5 - 4\n",
      "6 - 8\n",
      "7 - 16\n",
      "8 - 32\n",
      "9 - 64\n",
      "10 - 128\n",
      "11 - 256\n",
      "12 - 512\n",
      "13 - 1000\n",
      "14 - 1000\n",
      "15 - 1000\n",
      "16 - 1000\n",
      "17 - 1000\n",
      "18 - 1000\n",
      "19 - 1000\n",
      "------------\n",
      "Para 11\n",
      "\n",
      "1 - 1\n",
      "2 - 2\n",
      "3 - 2\n",
      "4 - 4\n",
      "5 - 8\n",
      "6 - 16\n",
      "7 - 32\n",
      "8 - 64\n",
      "9 - 128\n",
      "10 - 256\n",
      "11 - 512\n",
      "12 - 1000\n",
      "13 - 1000\n",
      "14 - 1000\n",
      "15 - 1000\n",
      "16 - 1000\n",
      "17 - 1000\n",
      "18 - 1000\n",
      "19 - 1000\n",
      "------------\n",
      "Para 13\n",
      "\n",
      "1 - 1\n",
      "2 - 1\n",
      "3 - 2\n",
      "4 - 4\n",
      "5 - 8\n",
      "6 - 16\n",
      "7 - 32\n",
      "8 - 64\n",
      "9 - 128\n",
      "10 - 256\n",
      "11 - 512\n",
      "12 - 1000\n",
      "13 - 1000\n",
      "14 - 1000\n",
      "15 - 1000\n",
      "16 - 1000\n",
      "17 - 1000\n",
      "18 - 1000\n",
      "19 - 1000\n",
      "------------\n",
      "Para 15\n",
      "\n",
      "1 - 1\n",
      "2 - 2\n",
      "3 - 2\n",
      "4 - 2\n",
      "5 - 2\n",
      "6 - 4\n",
      "7 - 8\n",
      "8 - 16\n",
      "9 - 32\n",
      "10 - 64\n",
      "11 - 128\n",
      "12 - 256\n",
      "13 - 512\n",
      "14 - 1000\n",
      "15 - 1000\n",
      "16 - 1000\n",
      "17 - 1000\n",
      "18 - 1000\n",
      "19 - 1000\n",
      "------------\n",
      "Para 17\n",
      "\n",
      "1 - 1\n",
      "2 - 1\n",
      "3 - 1\n",
      "4 - 1\n",
      "5 - 2\n",
      "6 - 4\n",
      "7 - 8\n",
      "8 - 16\n",
      "9 - 32\n",
      "10 - 64\n",
      "11 - 128\n",
      "12 - 256\n",
      "13 - 512\n",
      "14 - 1000\n",
      "15 - 1000\n",
      "16 - 1000\n",
      "17 - 1000\n",
      "18 - 1000\n",
      "19 - 1000\n",
      "------------\n"
     ]
    }
   ],
   "source": [
    "for n in [1,3,5,7,9,11,13,15,17]:\n",
    "    print(f\"Para {n}\")\n",
    "    print()\n",
    "    for k in range(1,20):\n",
    "        mod = 2**k\n",
    "        #print(f\"Para 2^{k}\")\n",
    "        g = []\n",
    "        for i in range(1000):\n",
    "            #print((n**i)%mod)\n",
    "            g.append((n**i)%mod)\n",
    "        print(k,\"-\",np.unique(g).shape[0])\n",
    "    print(\"------------\")"
   ]
  },
  {
   "cell_type": "code",
   "execution_count": 223,
   "metadata": {
    "ExecuteTime": {
     "end_time": "2022-04-25T20:37:32.003771Z",
     "start_time": "2022-04-25T20:37:31.994769Z"
    }
   },
   "outputs": [
    {
     "data": {
      "text/plain": [
       "1"
      ]
     },
     "execution_count": 223,
     "metadata": {},
     "output_type": "execute_result"
    }
   ],
   "source": [
    "49%16"
   ]
  },
  {
   "cell_type": "code",
   "execution_count": 220,
   "metadata": {
    "ExecuteTime": {
     "end_time": "2022-04-25T20:33:40.929976Z",
     "start_time": "2022-04-25T20:33:40.914980Z"
    }
   },
   "outputs": [
    {
     "data": {
      "text/plain": [
       "0"
      ]
     },
     "execution_count": 220,
     "metadata": {},
     "output_type": "execute_result"
    }
   ],
   "source": [
    "(50287374%2)%2"
   ]
  },
  {
   "cell_type": "code",
   "execution_count": 221,
   "metadata": {
    "ExecuteTime": {
     "end_time": "2022-04-25T20:33:45.293817Z",
     "start_time": "2022-04-25T20:33:45.274855Z"
    }
   },
   "outputs": [
    {
     "data": {
      "text/plain": [
       "2"
      ]
     },
     "execution_count": 221,
     "metadata": {},
     "output_type": "execute_result"
    }
   ],
   "source": [
    "50287374%4"
   ]
  },
  {
   "cell_type": "code",
   "execution_count": 233,
   "metadata": {
    "ExecuteTime": {
     "end_time": "2022-04-25T23:01:32.578948Z",
     "start_time": "2022-04-25T23:01:32.550947Z"
    }
   },
   "outputs": [
    {
     "name": "stdout",
     "output_type": "stream",
     "text": [
      "127\n",
      "254\n",
      "508\n"
     ]
    }
   ],
   "source": [
    "for n in range(1,100000):\n",
    "    if 512%n == 4:\n",
    "        print(n)"
   ]
  },
  {
   "cell_type": "code",
   "execution_count": 232,
   "metadata": {
    "ExecuteTime": {
     "end_time": "2022-04-25T23:01:12.884742Z",
     "start_time": "2022-04-25T23:01:12.872723Z"
    }
   },
   "outputs": [
    {
     "data": {
      "text/plain": [
       "63.5"
      ]
     },
     "execution_count": 232,
     "metadata": {},
     "output_type": "execute_result"
    }
   ],
   "source": [
    "508/8"
   ]
  },
  {
   "cell_type": "code",
   "execution_count": 243,
   "metadata": {
    "ExecuteTime": {
     "end_time": "2022-04-25T23:11:54.050781Z",
     "start_time": "2022-04-25T23:11:54.033850Z"
    }
   },
   "outputs": [
    {
     "data": {
      "text/plain": [
       "1"
      ]
     },
     "execution_count": 243,
     "metadata": {},
     "output_type": "execute_result"
    }
   ],
   "source": [
    "n = 10282\n",
    "k = 1\n",
    "((n - k)**2) % n"
   ]
  },
  {
   "cell_type": "code",
   "execution_count": 48,
   "metadata": {
    "ExecuteTime": {
     "end_time": "2022-04-28T04:00:41.712678Z",
     "start_time": "2022-04-28T04:00:41.704709Z"
    }
   },
   "outputs": [
    {
     "data": {
      "text/plain": [
       "7"
      ]
     },
     "execution_count": 48,
     "metadata": {},
     "output_type": "execute_result"
    }
   ],
   "source": [
    "(9**5)%16"
   ]
  },
  {
   "cell_type": "code",
   "execution_count": 74,
   "metadata": {
    "ExecuteTime": {
     "end_time": "2022-04-28T15:12:27.904718Z",
     "start_time": "2022-04-28T15:12:27.895749Z"
    }
   },
   "outputs": [],
   "source": [
    "g = ['drtyui', 'ghj', 'A01752067']\n",
    "k = \"\"\n",
    "for h in g:\n",
    "    k+=h+\";\""
   ]
  },
  {
   "cell_type": "code",
   "execution_count": 78,
   "metadata": {
    "ExecuteTime": {
     "end_time": "2022-04-28T15:12:54.890087Z",
     "start_time": "2022-04-28T15:12:54.885102Z"
    }
   },
   "outputs": [
    {
     "data": {
      "text/plain": [
       "'drtyui;ghj;A01752067'"
      ]
     },
     "execution_count": 78,
     "metadata": {},
     "output_type": "execute_result"
    }
   ],
   "source": [
    "k[:-1]"
   ]
  },
  {
   "cell_type": "code",
   "execution_count": 79,
   "metadata": {
    "ExecuteTime": {
     "end_time": "2022-04-28T20:18:32.225938Z",
     "start_time": "2022-04-28T20:18:32.160151Z"
    }
   },
   "outputs": [],
   "source": [
    "f =()"
   ]
  },
  {
   "cell_type": "code",
   "execution_count": 82,
   "metadata": {
    "ExecuteTime": {
     "end_time": "2022-04-28T20:18:50.290903Z",
     "start_time": "2022-04-28T20:18:50.277946Z"
    }
   },
   "outputs": [
    {
     "data": {
      "text/plain": [
       "True"
      ]
     },
     "execution_count": 82,
     "metadata": {},
     "output_type": "execute_result"
    }
   ],
   "source": [
    "f == ()"
   ]
  },
  {
   "cell_type": "code",
   "execution_count": null,
   "metadata": {},
   "outputs": [],
   "source": []
  }
 ],
 "metadata": {
  "hide_input": false,
  "kernelspec": {
   "display_name": "Python 3",
   "language": "python",
   "name": "python3"
  },
  "language_info": {
   "codemirror_mode": {
    "name": "ipython",
    "version": 3
   },
   "file_extension": ".py",
   "mimetype": "text/x-python",
   "name": "python",
   "nbconvert_exporter": "python",
   "pygments_lexer": "ipython3",
   "version": "3.8.5"
  },
  "varInspector": {
   "cols": {
    "lenName": 16,
    "lenType": 16,
    "lenVar": 40
   },
   "kernels_config": {
    "python": {
     "delete_cmd_postfix": "",
     "delete_cmd_prefix": "del ",
     "library": "var_list.py",
     "varRefreshCmd": "print(var_dic_list())"
    },
    "r": {
     "delete_cmd_postfix": ") ",
     "delete_cmd_prefix": "rm(",
     "library": "var_list.r",
     "varRefreshCmd": "cat(var_dic_list()) "
    }
   },
   "types_to_exclude": [
    "module",
    "function",
    "builtin_function_or_method",
    "instance",
    "_Feature"
   ],
   "window_display": false
  }
 },
 "nbformat": 4,
 "nbformat_minor": 4
}
