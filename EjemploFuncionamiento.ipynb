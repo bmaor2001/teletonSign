{
 "cells": [
  {
   "cell_type": "code",
   "execution_count": 1,
   "metadata": {
    "ExecuteTime": {
     "end_time": "2022-04-22T00:18:10.337344Z",
     "start_time": "2022-04-22T00:18:10.235088Z"
    }
   },
   "outputs": [],
   "source": [
    "import signVerify\n",
    "import hashlib\n",
    "import DataBaseConection\n",
    "from CertificateFunctions import cert_gen, check_associate_cert_with_private_key, VerificarVigencia, Hash_document, VerificarPassword"
   ]
  },
  {
   "cell_type": "code",
   "execution_count": 2,
   "metadata": {
    "ExecuteTime": {
     "end_time": "2022-04-22T00:18:10.727236Z",
     "start_time": "2022-04-22T00:18:10.719242Z"
    }
   },
   "outputs": [
    {
     "name": "stdout",
     "output_type": "stream",
     "text": [
      "Conexión exitosa\n"
     ]
    }
   ],
   "source": [
    "database = DataBaseConection.DataBase(user = \"root\", password = \"\", db = \"teleton\")"
   ]
  },
  {
   "cell_type": "markdown",
   "metadata": {
    "ExecuteTime": {
     "end_time": "2022-04-19T16:02:09.185902Z",
     "start_time": "2022-04-19T16:02:09.168845Z"
    }
   },
   "source": [
    "# Ejemplo de uso del sistema"
   ]
  },
  {
   "cell_type": "markdown",
   "metadata": {},
   "source": [
    "## Creando usuarios"
   ]
  },
  {
   "cell_type": "markdown",
   "metadata": {},
   "source": [
    "### Creando certificados"
   ]
  },
  {
   "cell_type": "code",
   "execution_count": 3,
   "metadata": {
    "ExecuteTime": {
     "end_time": "2022-04-22T00:18:14.343232Z",
     "start_time": "2022-04-22T00:18:13.924234Z"
    }
   },
   "outputs": [
    {
     "name": "stdout",
     "output_type": "stream",
     "text": [
      "Firmas generadas\n",
      "Guarde su llave privada en un lugar aparte\n",
      "-------------------\n",
      "\n",
      "Subiendo certificado a la base de datos\n",
      "Jairo Enrique R ha sido añadido a la base de datos.\n",
      "Ramirez Sanchez R ha sido añadido a la base de datos.\n"
     ]
    }
   ],
   "source": [
    "nombre_1 = \"Jairo Enrique R\"\n",
    "password_1 = \"prueba\"\n",
    "nomina_1 = \"A01750442\"\n",
    "email_1 = \"A01750442@tec.mx\"\n",
    "\n",
    "nombre_2 = \"Ramirez Sanchez R\"\n",
    "nomina_2 = \"A01752067\"\n",
    "password_2 = \"prueba2\"\n",
    "email_2 = \"A01752067@tec.mx\"\n",
    "\n",
    "\n",
    "cert_gen(emailAddress=email_1,\n",
    "    commonName=\"tec.mx\",\n",
    "    countryName=\"MX\",\n",
    "    localityName=\"Monterrey\",\n",
    "    stateOrProvinceName=\"Nuevo León\",\n",
    "    organizationName=\"Tecnológico de Monterrey\",\n",
    "    organizationUnitName=\"organizationUnitName\",\n",
    "    serialNumber=0,\n",
    "    validityStartInSeconds = 0,\n",
    "    validityEndInSeconds = 1*365*24*60*60, #UN AÑO\n",
    "    KEY_FILE = \"Ejemplo/private\"+nomina_1.replace(\" \",\"_\")+\".key\",\n",
    "    CERT_FILE=\"Ejemplo/Certificado\"+nomina_1.replace(\" \",\"_\")+\".crt\")\n",
    "\n",
    "cert_gen(emailAddress=email_2,\n",
    "    commonName=\"tec.mx\",\n",
    "    countryName=\"MX\",\n",
    "    localityName=\"Monterrey\",\n",
    "    stateOrProvinceName=\"Nuevo León\",\n",
    "    organizationName=\"Tecnológico de Monterrey\",\n",
    "    organizationUnitName=\"organizationUnitName\",\n",
    "    serialNumber=0,\n",
    "    validityStartInSeconds = 0,\n",
    "    validityEndInSeconds = 1*365*24*60*60, #UN AÑO\n",
    "    KEY_FILE = \"Ejemplo/private\"+nomina_2.replace(\" \",\"_\")+\".key\",\n",
    "    CERT_FILE=\"Ejemplo/Certificado\"+nomina_2.replace(\" \",\"_\")+\".crt\")\n",
    "\n",
    "print(\"Firmas generadas\")\n",
    "print(\"Guarde su llave privada en un lugar aparte\")\n",
    "print(\"-------------------\\n\")\n",
    "print(\"Subiendo certificado a la base de datos\")\n",
    "\n",
    "database.insert_users(nomina = nomina_1,\n",
    "                password=hashlib.sha256(bytes(password_1, encoding=\"utf-8\")).hexdigest(),\n",
    "                nombre = nombre_1,\n",
    "                puesto = \"Estudiante\",\n",
    "                tags = \"IDM\",\n",
    "                certificado = f\"Ejemplo/Certificado{nomina_1}.crt\",\n",
    "                estatus = \"Activo\")\n",
    "\n",
    "database.insert_users(nomina = nomina_2,\n",
    "                password = hashlib.sha256(bytes(password_2, encoding=\"utf-8\")).hexdigest(),\n",
    "                nombre = nombre_2,\n",
    "                puesto = \"Estudiante\",\n",
    "                tags = \"IDM\",\n",
    "                certificado = f\"Ejemplo/Certificado{nomina_2}.crt\",\n",
    "                estatus = \"Activo\")"
   ]
  },
  {
   "cell_type": "markdown",
   "metadata": {
    "ExecuteTime": {
     "end_time": "2022-04-19T16:29:51.557969Z",
     "start_time": "2022-04-19T16:29:51.549403Z"
    }
   },
   "source": [
    "## Solicitar firma"
   ]
  },
  {
   "cell_type": "code",
   "execution_count": 4,
   "metadata": {
    "ExecuteTime": {
     "end_time": "2022-04-21T15:57:04.108393Z",
     "start_time": "2022-04-21T15:57:04.084399Z"
    }
   },
   "outputs": [
    {
     "name": "stdout",
     "output_type": "stream",
     "text": [
      "Doc_1.pdf ha sido añadido a la base de datos.\n",
      "Doc_2.pdf ha sido añadido a la base de datos.\n"
     ]
    }
   ],
   "source": [
    "#Primero se sube el documento que se quiere firmar con todos los datos de indentificación\n",
    "file_1 = \"Ejemplo/Doc_1.pdf\"\n",
    "\n",
    "database.insert_documentos(Hash = Hash_document(file_1).hexdigest(), \n",
    "                           Tipo = \"Libro\", \n",
    "                           Nombre = \"Doc_1.pdf\", \n",
    "                           Descripcion = \"Justine o los infortunios de la virtud\",\n",
    "                           Tags = \"Marqués de Sade\",\n",
    "                           Estatus = \"Activo\")\n",
    "\n",
    "file_2 = \"Ejemplo/Doc_2.pdf\"\n",
    "\n",
    "database.insert_documentos(Hash = Hash_document(file_2).hexdigest(), \n",
    "                           Tipo = \"Libro\", \n",
    "                           Nombre = \"Doc_2.pdf\", \n",
    "                           Descripcion = \"Suenio de una noche de verano\",\n",
    "                           Tags = \"Shakespeare\",\n",
    "                           Estatus = \"Activo\")"
   ]
  },
  {
   "cell_type": "code",
   "execution_count": 5,
   "metadata": {
    "ExecuteTime": {
     "end_time": "2022-04-21T15:57:06.397756Z",
     "start_time": "2022-04-21T15:57:06.371750Z"
    }
   },
   "outputs": [
    {
     "name": "stdout",
     "output_type": "stream",
     "text": [
      "50df68716b0074ebd4e5f2ccb5b378d89a8a174128394a57654d4410d4a268e5 ha sido añadido a la base de datos.\n",
      "50df68716b0074ebd4e5f2ccb5b378d89a8a174128394a57654d4410d4a268e5 ha sido añadido a la base de datos.\n",
      "529408553f25564439f509c3554f3ad705848bff071f5342825f20a051c29264 ha sido añadido a la base de datos.\n"
     ]
    }
   ],
   "source": [
    "# Se solicitan las firmas de los empleados. \n",
    "# Se carga a la base de datos el hash del documento y la nómina de quien lo firmará, se deja vacío por default \n",
    "# espacio para el archivo de firma.\n",
    "database.insert_firma(Hash = Hash_document(file_1).hexdigest(),\n",
    "                Nomina = nomina_1)\n",
    "\n",
    "database.insert_firma(Hash = Hash_document(file_1).hexdigest(),\n",
    "                Nomina = nomina_2)\n",
    "\n",
    "database.insert_firma(Hash = Hash_document(file_2).hexdigest(),\n",
    "                Nomina = nomina_1)"
   ]
  },
  {
   "cell_type": "markdown",
   "metadata": {},
   "source": [
    "## Generar el archivo firmado"
   ]
  },
  {
   "cell_type": "code",
   "execution_count": 6,
   "metadata": {
    "ExecuteTime": {
     "end_time": "2022-04-21T15:57:11.324618Z",
     "start_time": "2022-04-21T15:57:11.165365Z"
    }
   },
   "outputs": [
    {
     "name": "stdout",
     "output_type": "stream",
     "text": [
      "Certificado vigente\n",
      "\n",
      "Archivo firmado en Ejemplo/Doc_1.pdf_A01750442_20220421_105711.sign\n",
      "\n",
      " Cargando la firma a la base de datos\n",
      "\n",
      "-------------------------------\n",
      "\n",
      "Certificado vigente\n",
      "Archivo firmado en Ejemplo/Doc_1.pdf_A01752067_20220421_105711.sign\n",
      "\n",
      " Cargando la firma a la base de datos\n"
     ]
    }
   ],
   "source": [
    "# Obtiene el certificado de la base de datos del usuario tomando su nómina\n",
    "file_1 = \"Ejemplo/Doc_1.pdf\"\n",
    "Certificado_1 = database.select(tabla = \"users\", \n",
    "                what = \"Certificado\", \n",
    "                where = \"Nomina\", \n",
    "                value = nomina_1)[0][0]\n",
    "\n",
    "# Se carga la llave privada del usuario\n",
    "\n",
    "private_key_1 = \"Ejemplo/privateA01750442.key\"\n",
    "\n",
    "#Se verifica la vigencia para saber si es posible firmar el documento\n",
    "\n",
    "VerificarVigencia(Certificado_1)\n",
    "\n",
    "#Se valida si la llave privada coincide con el certificado almacenado, es decir, que quien quiera firmar sea quien dice ser.\n",
    "\n",
    "Match = check_associate_cert_with_private_key(Certificado_1, private_key_1)\n",
    "print()\n",
    "\n",
    "if Match:\n",
    "    # se generar el archivo de firma digital\n",
    "    file_name = signVerify.gen_signature(private_key_1, bytes(Hash_document(file_1).hexdigest(), 'utf-8'), file_1, nomina_1)\n",
    "    print(f\"Archivo firmado en {file_name}\")\n",
    "\n",
    "    print(\"\\n Cargando la firma a la base de datos\")\n",
    "    database.cargar_firma(Doc_signed = file_name,\n",
    "                     Hash = Hash_document(file_1).hexdigest(),\n",
    "                     Nomina = nomina_1)\n",
    "else:\n",
    "    print(\"La llave privada no coincide con el certificado.\\nNo puede firmar este documento.\")\n",
    "\n",
    "print(\"\\n-------------------------------\\n\")\n",
    "\n",
    "Certificado_2 = database.select(tabla = \"users\", \n",
    "                what = \"Certificado\", \n",
    "                where = \"Nomina\", \n",
    "                value = nomina_2)[0][0]\n",
    "\n",
    "private_key_2 = \"Ejemplo/privateA01752067.key\"\n",
    "\n",
    "VerificarVigencia(Certificado_2)\n",
    "\n",
    "Match = check_associate_cert_with_private_key(Certificado_2, private_key_2)\n",
    "\n",
    "if Match:\n",
    "\n",
    "    file_name = signVerify.gen_signature(private_key_2, bytes(Hash_document(file_1).hexdigest(), 'utf-8'), file_1, nomina_2)\n",
    "    print(f\"Archivo firmado en {file_name}\")\n",
    "\n",
    "    print(\"\\n Cargando la firma a la base de datos\")\n",
    "    database.cargar_firma(Doc_signed = file_name,\n",
    "                     Hash = Hash_document(file_1).hexdigest(),\n",
    "                     Nomina = nomina_2)\n",
    "else:\n",
    "    print(\"La llave privada no coincide con el certificado.\\nNo puede firmar este documento.\")"
   ]
  },
  {
   "cell_type": "markdown",
   "metadata": {
    "ExecuteTime": {
     "end_time": "2022-04-20T03:15:36.156304Z",
     "start_time": "2022-04-20T03:15:36.140648Z"
    }
   },
   "source": [
    "## Verificar firma"
   ]
  },
  {
   "cell_type": "code",
   "execution_count": 7,
   "metadata": {
    "ExecuteTime": {
     "end_time": "2022-04-21T15:57:16.938741Z",
     "start_time": "2022-04-21T15:57:16.916736Z"
    }
   },
   "outputs": [
    {
     "name": "stdout",
     "output_type": "stream",
     "text": [
      "Verificación exitosa. \n",
      "El archivo fue firmado correctamente por A01750442\n"
     ]
    }
   ],
   "source": [
    "# Es cargado el documento a verificar\n",
    "file_1 = \"Ejemplo/Doc_1.pdf\"\n",
    "file_2 = \"Ejemplo/Doc_2.pdf\"\n",
    "\n",
    "#Se emula que se suben los certificados\n",
    "\n",
    "#Se cargan los certificados de las personas que se quieren validar\n",
    "Certificado_1 = \"Ejemplo/CertificadoA01750442.crt\"\n",
    "nomina_1 = \"A01750442\"\n",
    "Certificado_2 = \"Ejemplo/CertificadoA01752067.crt\"\n",
    "\n",
    "# Se extraé de la base de datos el archivo firmado que coincida con el hash del documento y la nómina\n",
    "f = database.select(tabla = \"firmas\", \n",
    "                what = \"Doc_signed\", \n",
    "                where = \"Hash\", \n",
    "                value = Hash_document(file_1).hexdigest(),\n",
    "                where_2 = \"Nomina\",\n",
    "                value_2 = nomina_1)[0][0]\n",
    "\n",
    "if f != None:\n",
    "    # Si el archvio existe, se valida la firma\n",
    "    open(\"Ejemplo/temp.sign\", \"wb\").write(f)\n",
    "\n",
    "    result = signVerify.verify(Certificado_1, bytes(Hash_document(file_1).hexdigest(), 'utf-8'), \"Ejemplo/temp.sign\", load = True)\n",
    "    if result:\n",
    "        print(f\"Verificación exitosa. \\nEl archivo fue firmado correctamente por {nomina_1}\")\n",
    "    else:\n",
    "        print(f\"Verificación fallida. \\nEl archivo no firmado por {nomina_1}\")\n",
    "\n",
    "else:\n",
    "    # Si el archivo aún no existe, tiene pendiente la firma\n",
    "    print(f\"El archivo aún no cuenta con la firma de {nomina_1}\")\n"
   ]
  },
  {
   "cell_type": "code",
   "execution_count": 7,
   "metadata": {
    "ExecuteTime": {
     "end_time": "2022-04-21T21:22:42.268631Z",
     "start_time": "2022-04-21T21:22:42.262633Z"
    }
   },
   "outputs": [
    {
     "data": {
      "text/plain": [
       "True"
      ]
     },
     "execution_count": 7,
     "metadata": {},
     "output_type": "execute_result"
    }
   ],
   "source": [
    "VerificarPassword(\"A01750442\", \"prueba\", database)"
   ]
  },
  {
   "cell_type": "code",
   "execution_count": 8,
   "metadata": {
    "ExecuteTime": {
     "end_time": "2022-04-21T21:25:23.033416Z",
     "start_time": "2022-04-21T21:25:22.328129Z"
    }
   },
   "outputs": [],
   "source": [
    "import matplotlib.pyplot as plt"
   ]
  },
  {
   "cell_type": "code",
   "execution_count": 31,
   "metadata": {
    "ExecuteTime": {
     "end_time": "2022-04-21T21:30:50.272169Z",
     "start_time": "2022-04-21T21:30:50.094165Z"
    }
   },
   "outputs": [
    {
     "data": {
      "image/png": "[encoded data removed]",
      "text/plain": [
       "<Figure size 432x288 with 1 Axes>"
      ]
     },
     "metadata": {
      "needs_background": "light"
     },
     "output_type": "display_data"
    }
   ],
   "source": [
    "plt.plot([144, 387], [0.015, 0.019], marker=\"o\")\n",
    "plt.grid()\n",
    "plt.xlabel(r\"UFC/mL (millones)\")\n",
    "plt.ylabel(\"Absorbancia\")\n",
    "plt.title(\"\")\n",
    "plt.xlim([100, 450])\n",
    "plt.ylim([0.0135, 0.02])\n",
    "plt.show()\n"
   ]
  },
  {
   "cell_type": "code",
   "execution_count": null,
   "metadata": {},
   "outputs": [],
   "source": []
  }
 ],
 "metadata": {
  "hide_input": false,
  "kernelspec": {
   "display_name": "Python 3",
   "language": "python",
   "name": "python3"
  },
  "language_info": {
   "codemirror_mode": {
    "name": "ipython",
    "version": 3
   },
   "file_extension": ".py",
   "mimetype": "text/x-python",
   "name": "python",
   "nbconvert_exporter": "python",
   "pygments_lexer": "ipython3",
   "version": "3.8.5"
  },
  "varInspector": {
   "cols": {
    "lenName": 16,
    "lenType": 16,
    "lenVar": 40
   },
   "kernels_config": {
    "python": {
     "delete_cmd_postfix": "",
     "delete_cmd_prefix": "del ",
     "library": "var_list.py",
     "varRefreshCmd": "print(var_dic_list())"
    },
    "r": {
     "delete_cmd_postfix": ") ",
     "delete_cmd_prefix": "rm(",
     "library": "var_list.r",
     "varRefreshCmd": "cat(var_dic_list()) "
    }
   },
   "types_to_exclude": [
    "module",
    "function",
    "builtin_function_or_method",
    "instance",
    "_Feature"
   ],
   "window_display": false
  }
 },
 "nbformat": 4,
 "nbformat_minor": 4
}
