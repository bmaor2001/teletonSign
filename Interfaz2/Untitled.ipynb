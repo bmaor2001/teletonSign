{
 "cells": [
  {
   "cell_type": "code",
   "execution_count": 2,
   "metadata": {
    "ExecuteTime": {
     "end_time": "2022-04-28T12:45:16.600869Z",
     "start_time": "2022-04-28T12:45:16.587175Z"
    }
   },
   "outputs": [],
   "source": [
    "import streamlit as st\n",
    "import numpy as np\n",
    "from streamlit.report_thread import add_report_ctx\n",
    "\n",
    "st.set_page_config(\n",
    "     page_title=\"Biosensor para la detección de microplásticos en el agua\",\n",
    "     layout=\"wide\",\n",
    "     page_icon = \"🔬\",\n",
    "     initial_sidebar_state=\"expanded\"\n",
    " )\n",
    "\n",
    "st.sidebar.header(\"Menú\")\n",
    "page = st.sidebar.selectbox(\"Página:\", [\"Introducción\", \"Aplicación\",\"Pruebas\"])\n",
    "\n",
    "\n",
    "if page == \"Introducción\":\n",
    "    st.markdown(\"<h1 style='text-align: center; color: black; font-family: verdana;'>Biosensor para la detección de microplásticos en el agua</h1>\", unsafe_allow_html=True)\n",
    "    st.markdown(\"\"\"<pre><p style='text-align: center; color: black; font-family: verdana;'>Aquí irá el texto que describa el funcionamiento y de los por menores del uso, montaje del circuito y \n",
    "                todo lo referente al sistema.</p></pre>\n",
    "                \"\"\", unsafe_allow_html = True)\n",
    "    col1, col2, col3 = st.beta_columns([0.3,0.3, 0.3])\n",
    "    with col1:    \n",
    "        #st.image(\"07_07_21_1.jpeg\")\n",
    "        st.markdown(\"\"\"<pre><p style='text-align: center; color: black; font-family: verdana; font-size:12px;'>Fig 1. Descripción 1</p></pre>\"\"\", unsafe_allow_html = True)\n",
    "    with col2:    \n",
    "        #st.image(\"07_07_21_2.jpeg\")\n",
    "        st.markdown(\"\"\"<pre><p style='text-align: center; color: black; font-family: verdana; font-size:12px;'>Fig 2. Descripción 2</p></pre>\"\"\", unsafe_allow_html = True)\n"
   ]
  },
  {
   "cell_type": "code",
   "execution_count": null,
   "metadata": {},
   "outputs": [],
   "source": []
  }
 ],
 "metadata": {
  "hide_input": false,
  "kernelspec": {
   "display_name": "Python 3",
   "language": "python",
   "name": "python3"
  },
  "language_info": {
   "codemirror_mode": {
    "name": "ipython",
    "version": 3
   },
   "file_extension": ".py",
   "mimetype": "text/x-python",
   "name": "python",
   "nbconvert_exporter": "python",
   "pygments_lexer": "ipython3",
   "version": "3.8.5"
  },
  "varInspector": {
   "cols": {
    "lenName": 16,
    "lenType": 16,
    "lenVar": 40
   },
   "kernels_config": {
    "python": {
     "delete_cmd_postfix": "",
     "delete_cmd_prefix": "del ",
     "library": "var_list.py",
     "varRefreshCmd": "print(var_dic_list())"
    },
    "r": {
     "delete_cmd_postfix": ") ",
     "delete_cmd_prefix": "rm(",
     "library": "var_list.r",
     "varRefreshCmd": "cat(var_dic_list()) "
    }
   },
   "types_to_exclude": [
    "module",
    "function",
    "builtin_function_or_method",
    "instance",
    "_Feature"
   ],
   "window_display": false
  }
 },
 "nbformat": 4,
 "nbformat_minor": 4
}
