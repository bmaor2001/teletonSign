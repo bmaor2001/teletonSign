{
 "cells": [
  {
   "cell_type": "markdown",
   "metadata": {},
   "source": [
    "# Manual del programador\n",
    "\n",
    "Este documento tiene la finalidad de explicar el funcionamiento de los distintos paquetes de funciones que se crearon para llevar a cabo la solución de la problemática planteada por Fundación Teletón.\n",
    "\n",
    "El documento se dividirá en 3 apartados: Una breve introducción y explicación de la solución general planteada, explicación de las funciones y un ejemplo del funcionamiento."
   ]
  },
  {
   "cell_type": "markdown",
   "metadata": {},
   "source": [
    "### Explicación general de la solución planteada\n",
    "\n",
    "El archivo **`login.py`** sería el código principal. Éste contiene la interfaz del usuario y manda a llamar a los archivos **`DataBaseConection.py`** y **`CertificateFunctions.py`** para poder utilizar las funciones que estos dos archivos contienen. Existen funciones que deben ser manejadas exclusivamente por un administrador, por ejemplo: la creación de certificados e insertar usuarios nuevos a la base de datos. Por ello, estos códigos fueron brindados de manera separada a la solución y deberán ser ejecutados con una persona con el permiso de hacerlo (administrador).\n",
    "\n",
    "Al utilizar este código, se asume que, tanto el servidor (en este caso fue creado localmente) como la base de datos fueron debidamente inicializados y se cuenta con al menos un usuario dentro de la misma. Una vez que se tiene al servidor, se pueden ejecutar el siguiente código para crear la base de datos y conectarla (o sólo conectarla) con la aplicación proporcionada:"
   ]
  },
  {
   "cell_type": "code",
   "execution_count": 1,
   "metadata": {
    "ExecuteTime": {
     "end_time": "2022-04-28T02:31:42.149595Z",
     "start_time": "2022-04-28T02:31:41.643509Z"
    }
   },
   "outputs": [
    {
     "ename": "OperationalError",
     "evalue": "(1045, \"Access denied for user 'Usuario'@'localhost' (using password: YES)\")",
     "output_type": "error",
     "traceback": [
      "\u001b[1;31m---------------------------------------------------------------------------\u001b[0m",
      "\u001b[1;31mOperationalError\u001b[0m                          Traceback (most recent call last)",
      "\u001b[1;32m~\\Desktop\\teletonSign\\DataBaseConection.py\u001b[0m in \u001b[0;36m__init__\u001b[1;34m(self, user, password, db)\u001b[0m\n\u001b[0;32m      6\u001b[0m         \u001b[1;32mtry\u001b[0m\u001b[1;33m:\u001b[0m\u001b[1;33m\u001b[0m\u001b[1;33m\u001b[0m\u001b[0m\n\u001b[1;32m----> 7\u001b[1;33m             self.connection = pymysql.connect(\n\u001b[0m\u001b[0;32m      8\u001b[0m                 \u001b[0mhost\u001b[0m \u001b[1;33m=\u001b[0m \u001b[1;34m\"localhost\"\u001b[0m\u001b[1;33m,\u001b[0m\u001b[1;33m\u001b[0m\u001b[1;33m\u001b[0m\u001b[0m\n",
      "\u001b[1;32m~\\.conda\\envs\\DataScience\\lib\\site-packages\\pymysql\\connections.py\u001b[0m in \u001b[0;36m__init__\u001b[1;34m(self, user, password, host, database, unix_socket, port, charset, sql_mode, read_default_file, conv, use_unicode, client_flag, cursorclass, init_command, connect_timeout, read_default_group, autocommit, local_infile, max_allowed_packet, defer_connect, auth_plugin_map, read_timeout, write_timeout, bind_address, binary_prefix, program_name, server_public_key, ssl, ssl_ca, ssl_cert, ssl_disabled, ssl_key, ssl_verify_cert, ssl_verify_identity, compress, named_pipe, passwd, db)\u001b[0m\n\u001b[0;32m    352\u001b[0m         \u001b[1;32melse\u001b[0m\u001b[1;33m:\u001b[0m\u001b[1;33m\u001b[0m\u001b[1;33m\u001b[0m\u001b[0m\n\u001b[1;32m--> 353\u001b[1;33m             \u001b[0mself\u001b[0m\u001b[1;33m.\u001b[0m\u001b[0mconnect\u001b[0m\u001b[1;33m(\u001b[0m\u001b[1;33m)\u001b[0m\u001b[1;33m\u001b[0m\u001b[1;33m\u001b[0m\u001b[0m\n\u001b[0m\u001b[0;32m    354\u001b[0m \u001b[1;33m\u001b[0m\u001b[0m\n",
      "\u001b[1;32m~\\.conda\\envs\\DataScience\\lib\\site-packages\\pymysql\\connections.py\u001b[0m in \u001b[0;36mconnect\u001b[1;34m(self, sock)\u001b[0m\n\u001b[0;32m    632\u001b[0m             \u001b[0mself\u001b[0m\u001b[1;33m.\u001b[0m\u001b[0m_get_server_information\u001b[0m\u001b[1;33m(\u001b[0m\u001b[1;33m)\u001b[0m\u001b[1;33m\u001b[0m\u001b[1;33m\u001b[0m\u001b[0m\n\u001b[1;32m--> 633\u001b[1;33m             \u001b[0mself\u001b[0m\u001b[1;33m.\u001b[0m\u001b[0m_request_authentication\u001b[0m\u001b[1;33m(\u001b[0m\u001b[1;33m)\u001b[0m\u001b[1;33m\u001b[0m\u001b[1;33m\u001b[0m\u001b[0m\n\u001b[0m\u001b[0;32m    634\u001b[0m \u001b[1;33m\u001b[0m\u001b[0m\n",
      "\u001b[1;32m~\\.conda\\envs\\DataScience\\lib\\site-packages\\pymysql\\connections.py\u001b[0m in \u001b[0;36m_request_authentication\u001b[1;34m(self)\u001b[0m\n\u001b[0;32m    906\u001b[0m         \u001b[0mself\u001b[0m\u001b[1;33m.\u001b[0m\u001b[0mwrite_packet\u001b[0m\u001b[1;33m(\u001b[0m\u001b[0mdata\u001b[0m\u001b[1;33m)\u001b[0m\u001b[1;33m\u001b[0m\u001b[1;33m\u001b[0m\u001b[0m\n\u001b[1;32m--> 907\u001b[1;33m         \u001b[0mauth_packet\u001b[0m \u001b[1;33m=\u001b[0m \u001b[0mself\u001b[0m\u001b[1;33m.\u001b[0m\u001b[0m_read_packet\u001b[0m\u001b[1;33m(\u001b[0m\u001b[1;33m)\u001b[0m\u001b[1;33m\u001b[0m\u001b[1;33m\u001b[0m\u001b[0m\n\u001b[0m\u001b[0;32m    908\u001b[0m \u001b[1;33m\u001b[0m\u001b[0m\n",
      "\u001b[1;32m~\\.conda\\envs\\DataScience\\lib\\site-packages\\pymysql\\connections.py\u001b[0m in \u001b[0;36m_read_packet\u001b[1;34m(self, packet_type)\u001b[0m\n\u001b[0;32m    724\u001b[0m                 \u001b[0mself\u001b[0m\u001b[1;33m.\u001b[0m\u001b[0m_result\u001b[0m\u001b[1;33m.\u001b[0m\u001b[0munbuffered_active\u001b[0m \u001b[1;33m=\u001b[0m \u001b[1;32mFalse\u001b[0m\u001b[1;33m\u001b[0m\u001b[1;33m\u001b[0m\u001b[0m\n\u001b[1;32m--> 725\u001b[1;33m             \u001b[0mpacket\u001b[0m\u001b[1;33m.\u001b[0m\u001b[0mraise_for_error\u001b[0m\u001b[1;33m(\u001b[0m\u001b[1;33m)\u001b[0m\u001b[1;33m\u001b[0m\u001b[1;33m\u001b[0m\u001b[0m\n\u001b[0m\u001b[0;32m    726\u001b[0m         \u001b[1;32mreturn\u001b[0m \u001b[0mpacket\u001b[0m\u001b[1;33m\u001b[0m\u001b[1;33m\u001b[0m\u001b[0m\n",
      "\u001b[1;32m~\\.conda\\envs\\DataScience\\lib\\site-packages\\pymysql\\protocol.py\u001b[0m in \u001b[0;36mraise_for_error\u001b[1;34m(self)\u001b[0m\n\u001b[0;32m    220\u001b[0m             \u001b[0mprint\u001b[0m\u001b[1;33m(\u001b[0m\u001b[1;34m\"errno =\"\u001b[0m\u001b[1;33m,\u001b[0m \u001b[0merrno\u001b[0m\u001b[1;33m)\u001b[0m\u001b[1;33m\u001b[0m\u001b[1;33m\u001b[0m\u001b[0m\n\u001b[1;32m--> 221\u001b[1;33m         \u001b[0merr\u001b[0m\u001b[1;33m.\u001b[0m\u001b[0mraise_mysql_exception\u001b[0m\u001b[1;33m(\u001b[0m\u001b[0mself\u001b[0m\u001b[1;33m.\u001b[0m\u001b[0m_data\u001b[0m\u001b[1;33m)\u001b[0m\u001b[1;33m\u001b[0m\u001b[1;33m\u001b[0m\u001b[0m\n\u001b[0m\u001b[0;32m    222\u001b[0m \u001b[1;33m\u001b[0m\u001b[0m\n",
      "\u001b[1;32m~\\.conda\\envs\\DataScience\\lib\\site-packages\\pymysql\\err.py\u001b[0m in \u001b[0;36mraise_mysql_exception\u001b[1;34m(data)\u001b[0m\n\u001b[0;32m    142\u001b[0m         \u001b[0merrorclass\u001b[0m \u001b[1;33m=\u001b[0m \u001b[0mInternalError\u001b[0m \u001b[1;32mif\u001b[0m \u001b[0merrno\u001b[0m \u001b[1;33m<\u001b[0m \u001b[1;36m1000\u001b[0m \u001b[1;32melse\u001b[0m \u001b[0mOperationalError\u001b[0m\u001b[1;33m\u001b[0m\u001b[1;33m\u001b[0m\u001b[0m\n\u001b[1;32m--> 143\u001b[1;33m     \u001b[1;32mraise\u001b[0m \u001b[0merrorclass\u001b[0m\u001b[1;33m(\u001b[0m\u001b[0merrno\u001b[0m\u001b[1;33m,\u001b[0m \u001b[0merrval\u001b[0m\u001b[1;33m)\u001b[0m\u001b[1;33m\u001b[0m\u001b[1;33m\u001b[0m\u001b[0m\n\u001b[0m",
      "\u001b[1;31mOperationalError\u001b[0m: (1045, \"Access denied for user 'Usuario'@'localhost' (using password: YES)\")",
      "\nDuring handling of the above exception, another exception occurred:\n",
      "\u001b[1;31mOperationalError\u001b[0m                          Traceback (most recent call last)",
      "\u001b[1;32m<ipython-input-1-dbf7ba0288a7>\u001b[0m in \u001b[0;36m<module>\u001b[1;34m\u001b[0m\n\u001b[0;32m      4\u001b[0m \u001b[1;32mfrom\u001b[0m \u001b[0mCertificateFunctions\u001b[0m \u001b[1;32mimport\u001b[0m \u001b[0mcert_gen\u001b[0m\u001b[1;33m,\u001b[0m \u001b[0mcheck_associate_cert_with_private_key\u001b[0m\u001b[1;33m,\u001b[0m \u001b[0mVerificarVigencia\u001b[0m\u001b[1;33m,\u001b[0m \u001b[0mHash_document\u001b[0m\u001b[1;33m,\u001b[0m \u001b[0mVerificarPassword\u001b[0m\u001b[1;33m\u001b[0m\u001b[1;33m\u001b[0m\u001b[0m\n\u001b[0;32m      5\u001b[0m \u001b[1;33m\u001b[0m\u001b[0m\n\u001b[1;32m----> 6\u001b[1;33m \u001b[0mdatabase\u001b[0m \u001b[1;33m=\u001b[0m \u001b[0mDataBaseConection\u001b[0m\u001b[1;33m.\u001b[0m\u001b[0mDataBase\u001b[0m\u001b[1;33m(\u001b[0m\u001b[0muser\u001b[0m \u001b[1;33m=\u001b[0m \u001b[1;34m\"Usuario\"\u001b[0m\u001b[1;33m,\u001b[0m \u001b[0mpassword\u001b[0m \u001b[1;33m=\u001b[0m \u001b[1;34m\"Contraseña\"\u001b[0m\u001b[1;33m,\u001b[0m \u001b[0mdb\u001b[0m \u001b[1;33m=\u001b[0m \u001b[1;34m\"Nombre de la base de datos\"\u001b[0m\u001b[1;33m)\u001b[0m\u001b[1;33m\u001b[0m\u001b[1;33m\u001b[0m\u001b[0m\n\u001b[0m",
      "\u001b[1;32m~\\Desktop\\teletonSign\\DataBaseConection.py\u001b[0m in \u001b[0;36m__init__\u001b[1;34m(self, user, password, db)\u001b[0m\n\u001b[0;32m     16\u001b[0m             \u001b[0mprint\u001b[0m\u001b[1;33m(\u001b[0m\u001b[1;34m\"Conexión exitosa\"\u001b[0m\u001b[1;33m)\u001b[0m\u001b[1;33m\u001b[0m\u001b[1;33m\u001b[0m\u001b[0m\n\u001b[0;32m     17\u001b[0m         \u001b[1;32mexcept\u001b[0m\u001b[1;33m:\u001b[0m\u001b[1;33m\u001b[0m\u001b[1;33m\u001b[0m\u001b[0m\n\u001b[1;32m---> 18\u001b[1;33m             \u001b[0mself\u001b[0m\u001b[1;33m.\u001b[0m\u001b[0mcreate\u001b[0m\u001b[1;33m(\u001b[0m\u001b[0muser\u001b[0m\u001b[1;33m,\u001b[0m \u001b[0mpassword\u001b[0m\u001b[1;33m,\u001b[0m \u001b[1;34m\"teleton\"\u001b[0m\u001b[1;33m)\u001b[0m\u001b[1;33m\u001b[0m\u001b[1;33m\u001b[0m\u001b[0m\n\u001b[0m\u001b[0;32m     19\u001b[0m \u001b[1;33m\u001b[0m\u001b[0m\n\u001b[0;32m     20\u001b[0m \u001b[1;33m\u001b[0m\u001b[0m\n",
      "\u001b[1;32m~\\Desktop\\teletonSign\\DataBaseConection.py\u001b[0m in \u001b[0;36mcreate\u001b[1;34m(self, user, password, database)\u001b[0m\n\u001b[0;32m     76\u001b[0m                 \u001b[0mDocumentos_table\u001b[0m \u001b[1;33m=\u001b[0m \u001b[1;34m\"CREATE TABLE `documentos` (`Hash` varchar(80) NOT NULL,`Tipo` varchar(100) NOT NULL,`Nombre` varchar(100) NOT NULL,`Descripcion` text NOT NULL,`Tags` varchar(100) NOT NULL,`Estatus` varchar(10) NOT NULL,`TIME` timestamp NOT NULL DEFAULT CURRENT_TIMESTAMP,PRIMARY KEY (`Hash`))\"\u001b[0m\u001b[1;33m\u001b[0m\u001b[1;33m\u001b[0m\u001b[0m\n\u001b[0;32m     77\u001b[0m                 \u001b[0mFirmas_table\u001b[0m \u001b[1;33m=\u001b[0m \u001b[1;34m\"CREATE TABLE `firmas` (`ID` int(11) NOT NULL AUTO_INCREMENT,`Hash` varchar(100) NOT NULL,`Doc_signed` blob,`Nomina` varchar(50) NOT NULL,`TIME` timestamp NOT NULL DEFAULT CURRENT_TIMESTAMP, PRIMARY KEY (`ID`))\"\u001b[0m\u001b[1;33m\u001b[0m\u001b[1;33m\u001b[0m\u001b[0m\n\u001b[1;32m---> 78\u001b[1;33m                 connection = pymysql.connect(\n\u001b[0m\u001b[0;32m     79\u001b[0m                         \u001b[0mhost\u001b[0m \u001b[1;33m=\u001b[0m \u001b[1;34m\"localhost\"\u001b[0m\u001b[1;33m,\u001b[0m\u001b[1;33m\u001b[0m\u001b[1;33m\u001b[0m\u001b[0m\n\u001b[0;32m     80\u001b[0m                         \u001b[0muser\u001b[0m \u001b[1;33m=\u001b[0m \u001b[0muser\u001b[0m\u001b[1;33m,\u001b[0m\u001b[1;33m\u001b[0m\u001b[1;33m\u001b[0m\u001b[0m\n",
      "\u001b[1;32m~\\.conda\\envs\\DataScience\\lib\\site-packages\\pymysql\\connections.py\u001b[0m in \u001b[0;36m__init__\u001b[1;34m(self, user, password, host, database, unix_socket, port, charset, sql_mode, read_default_file, conv, use_unicode, client_flag, cursorclass, init_command, connect_timeout, read_default_group, autocommit, local_infile, max_allowed_packet, defer_connect, auth_plugin_map, read_timeout, write_timeout, bind_address, binary_prefix, program_name, server_public_key, ssl, ssl_ca, ssl_cert, ssl_disabled, ssl_key, ssl_verify_cert, ssl_verify_identity, compress, named_pipe, passwd, db)\u001b[0m\n\u001b[0;32m    351\u001b[0m             \u001b[0mself\u001b[0m\u001b[1;33m.\u001b[0m\u001b[0m_sock\u001b[0m \u001b[1;33m=\u001b[0m \u001b[1;32mNone\u001b[0m\u001b[1;33m\u001b[0m\u001b[1;33m\u001b[0m\u001b[0m\n\u001b[0;32m    352\u001b[0m         \u001b[1;32melse\u001b[0m\u001b[1;33m:\u001b[0m\u001b[1;33m\u001b[0m\u001b[1;33m\u001b[0m\u001b[0m\n\u001b[1;32m--> 353\u001b[1;33m             \u001b[0mself\u001b[0m\u001b[1;33m.\u001b[0m\u001b[0mconnect\u001b[0m\u001b[1;33m(\u001b[0m\u001b[1;33m)\u001b[0m\u001b[1;33m\u001b[0m\u001b[1;33m\u001b[0m\u001b[0m\n\u001b[0m\u001b[0;32m    354\u001b[0m \u001b[1;33m\u001b[0m\u001b[0m\n\u001b[0;32m    355\u001b[0m     \u001b[1;32mdef\u001b[0m \u001b[0m__enter__\u001b[0m\u001b[1;33m(\u001b[0m\u001b[0mself\u001b[0m\u001b[1;33m)\u001b[0m\u001b[1;33m:\u001b[0m\u001b[1;33m\u001b[0m\u001b[1;33m\u001b[0m\u001b[0m\n",
      "\u001b[1;32m~\\.conda\\envs\\DataScience\\lib\\site-packages\\pymysql\\connections.py\u001b[0m in \u001b[0;36mconnect\u001b[1;34m(self, sock)\u001b[0m\n\u001b[0;32m    631\u001b[0m \u001b[1;33m\u001b[0m\u001b[0m\n\u001b[0;32m    632\u001b[0m             \u001b[0mself\u001b[0m\u001b[1;33m.\u001b[0m\u001b[0m_get_server_information\u001b[0m\u001b[1;33m(\u001b[0m\u001b[1;33m)\u001b[0m\u001b[1;33m\u001b[0m\u001b[1;33m\u001b[0m\u001b[0m\n\u001b[1;32m--> 633\u001b[1;33m             \u001b[0mself\u001b[0m\u001b[1;33m.\u001b[0m\u001b[0m_request_authentication\u001b[0m\u001b[1;33m(\u001b[0m\u001b[1;33m)\u001b[0m\u001b[1;33m\u001b[0m\u001b[1;33m\u001b[0m\u001b[0m\n\u001b[0m\u001b[0;32m    634\u001b[0m \u001b[1;33m\u001b[0m\u001b[0m\n\u001b[0;32m    635\u001b[0m             \u001b[1;32mif\u001b[0m \u001b[0mself\u001b[0m\u001b[1;33m.\u001b[0m\u001b[0msql_mode\u001b[0m \u001b[1;32mis\u001b[0m \u001b[1;32mnot\u001b[0m \u001b[1;32mNone\u001b[0m\u001b[1;33m:\u001b[0m\u001b[1;33m\u001b[0m\u001b[1;33m\u001b[0m\u001b[0m\n",
      "\u001b[1;32m~\\.conda\\envs\\DataScience\\lib\\site-packages\\pymysql\\connections.py\u001b[0m in \u001b[0;36m_request_authentication\u001b[1;34m(self)\u001b[0m\n\u001b[0;32m    905\u001b[0m \u001b[1;33m\u001b[0m\u001b[0m\n\u001b[0;32m    906\u001b[0m         \u001b[0mself\u001b[0m\u001b[1;33m.\u001b[0m\u001b[0mwrite_packet\u001b[0m\u001b[1;33m(\u001b[0m\u001b[0mdata\u001b[0m\u001b[1;33m)\u001b[0m\u001b[1;33m\u001b[0m\u001b[1;33m\u001b[0m\u001b[0m\n\u001b[1;32m--> 907\u001b[1;33m         \u001b[0mauth_packet\u001b[0m \u001b[1;33m=\u001b[0m \u001b[0mself\u001b[0m\u001b[1;33m.\u001b[0m\u001b[0m_read_packet\u001b[0m\u001b[1;33m(\u001b[0m\u001b[1;33m)\u001b[0m\u001b[1;33m\u001b[0m\u001b[1;33m\u001b[0m\u001b[0m\n\u001b[0m\u001b[0;32m    908\u001b[0m \u001b[1;33m\u001b[0m\u001b[0m\n\u001b[0;32m    909\u001b[0m         \u001b[1;31m# if authentication method isn't accepted the first byte\u001b[0m\u001b[1;33m\u001b[0m\u001b[1;33m\u001b[0m\u001b[1;33m\u001b[0m\u001b[0m\n",
      "\u001b[1;32m~\\.conda\\envs\\DataScience\\lib\\site-packages\\pymysql\\connections.py\u001b[0m in \u001b[0;36m_read_packet\u001b[1;34m(self, packet_type)\u001b[0m\n\u001b[0;32m    723\u001b[0m             \u001b[1;32mif\u001b[0m \u001b[0mself\u001b[0m\u001b[1;33m.\u001b[0m\u001b[0m_result\u001b[0m \u001b[1;32mis\u001b[0m \u001b[1;32mnot\u001b[0m \u001b[1;32mNone\u001b[0m \u001b[1;32mand\u001b[0m \u001b[0mself\u001b[0m\u001b[1;33m.\u001b[0m\u001b[0m_result\u001b[0m\u001b[1;33m.\u001b[0m\u001b[0munbuffered_active\u001b[0m \u001b[1;32mis\u001b[0m \u001b[1;32mTrue\u001b[0m\u001b[1;33m:\u001b[0m\u001b[1;33m\u001b[0m\u001b[1;33m\u001b[0m\u001b[0m\n\u001b[0;32m    724\u001b[0m                 \u001b[0mself\u001b[0m\u001b[1;33m.\u001b[0m\u001b[0m_result\u001b[0m\u001b[1;33m.\u001b[0m\u001b[0munbuffered_active\u001b[0m \u001b[1;33m=\u001b[0m \u001b[1;32mFalse\u001b[0m\u001b[1;33m\u001b[0m\u001b[1;33m\u001b[0m\u001b[0m\n\u001b[1;32m--> 725\u001b[1;33m             \u001b[0mpacket\u001b[0m\u001b[1;33m.\u001b[0m\u001b[0mraise_for_error\u001b[0m\u001b[1;33m(\u001b[0m\u001b[1;33m)\u001b[0m\u001b[1;33m\u001b[0m\u001b[1;33m\u001b[0m\u001b[0m\n\u001b[0m\u001b[0;32m    726\u001b[0m         \u001b[1;32mreturn\u001b[0m \u001b[0mpacket\u001b[0m\u001b[1;33m\u001b[0m\u001b[1;33m\u001b[0m\u001b[0m\n\u001b[0;32m    727\u001b[0m \u001b[1;33m\u001b[0m\u001b[0m\n",
      "\u001b[1;32m~\\.conda\\envs\\DataScience\\lib\\site-packages\\pymysql\\protocol.py\u001b[0m in \u001b[0;36mraise_for_error\u001b[1;34m(self)\u001b[0m\n\u001b[0;32m    219\u001b[0m         \u001b[1;32mif\u001b[0m \u001b[0mDEBUG\u001b[0m\u001b[1;33m:\u001b[0m\u001b[1;33m\u001b[0m\u001b[1;33m\u001b[0m\u001b[0m\n\u001b[0;32m    220\u001b[0m             \u001b[0mprint\u001b[0m\u001b[1;33m(\u001b[0m\u001b[1;34m\"errno =\"\u001b[0m\u001b[1;33m,\u001b[0m \u001b[0merrno\u001b[0m\u001b[1;33m)\u001b[0m\u001b[1;33m\u001b[0m\u001b[1;33m\u001b[0m\u001b[0m\n\u001b[1;32m--> 221\u001b[1;33m         \u001b[0merr\u001b[0m\u001b[1;33m.\u001b[0m\u001b[0mraise_mysql_exception\u001b[0m\u001b[1;33m(\u001b[0m\u001b[0mself\u001b[0m\u001b[1;33m.\u001b[0m\u001b[0m_data\u001b[0m\u001b[1;33m)\u001b[0m\u001b[1;33m\u001b[0m\u001b[1;33m\u001b[0m\u001b[0m\n\u001b[0m\u001b[0;32m    222\u001b[0m \u001b[1;33m\u001b[0m\u001b[0m\n\u001b[0;32m    223\u001b[0m     \u001b[1;32mdef\u001b[0m \u001b[0mdump\u001b[0m\u001b[1;33m(\u001b[0m\u001b[0mself\u001b[0m\u001b[1;33m)\u001b[0m\u001b[1;33m:\u001b[0m\u001b[1;33m\u001b[0m\u001b[1;33m\u001b[0m\u001b[0m\n",
      "\u001b[1;32m~\\.conda\\envs\\DataScience\\lib\\site-packages\\pymysql\\err.py\u001b[0m in \u001b[0;36mraise_mysql_exception\u001b[1;34m(data)\u001b[0m\n\u001b[0;32m    141\u001b[0m     \u001b[1;32mif\u001b[0m \u001b[0merrorclass\u001b[0m \u001b[1;32mis\u001b[0m \u001b[1;32mNone\u001b[0m\u001b[1;33m:\u001b[0m\u001b[1;33m\u001b[0m\u001b[1;33m\u001b[0m\u001b[0m\n\u001b[0;32m    142\u001b[0m         \u001b[0merrorclass\u001b[0m \u001b[1;33m=\u001b[0m \u001b[0mInternalError\u001b[0m \u001b[1;32mif\u001b[0m \u001b[0merrno\u001b[0m \u001b[1;33m<\u001b[0m \u001b[1;36m1000\u001b[0m \u001b[1;32melse\u001b[0m \u001b[0mOperationalError\u001b[0m\u001b[1;33m\u001b[0m\u001b[1;33m\u001b[0m\u001b[0m\n\u001b[1;32m--> 143\u001b[1;33m     \u001b[1;32mraise\u001b[0m \u001b[0merrorclass\u001b[0m\u001b[1;33m(\u001b[0m\u001b[0merrno\u001b[0m\u001b[1;33m,\u001b[0m \u001b[0merrval\u001b[0m\u001b[1;33m)\u001b[0m\u001b[1;33m\u001b[0m\u001b[1;33m\u001b[0m\u001b[0m\n\u001b[0m",
      "\u001b[1;31mOperationalError\u001b[0m: (1045, \"Access denied for user 'Usuario'@'localhost' (using password: YES)\")"
     ]
    }
   ],
   "source": [
    "# Se cargan las librerías necesarias\n",
    "import hashlib\n",
    "import DataBaseConection\n",
    "from CertificateFunctions import cert_gen, check_associate_cert_with_private_key, VerificarVigencia, Hash_document, VerificarPassword\n",
    "\n",
    "database = DataBaseConection.DataBase(user = \"Usuario\", password = \"Contraseña\", db = \"Nombre de la base de datos\")"
   ]
  },
  {
   "cell_type": "markdown",
   "metadata": {},
   "source": [
    "En caso de que no se cuente con algún usuario activo en la base de datos se puede correr las siguientes líneas de código para introducir un nuevo usuario:"
   ]
  },
  {
   "cell_type": "code",
   "execution_count": null,
   "metadata": {},
   "outputs": [],
   "source": [
    "nombre_1 = \"Nombre1\"\n",
    "password_1 = \"Contrasena1\"\n",
    "nomina_1 = \"ID\"\n",
    "email_1 = \"Correo electronico1\"\n",
    "\n",
    "cert_gen(emailAddress=email_1,\n",
    "    commonName=nomina_1,\n",
    "    countryName=\"MX\",\n",
    "    localityName=\"Municipio donde se expide\",\n",
    "    stateOrProvinceName=\"Estado donde se expide\",\n",
    "    organizationName=\"Nombre de la organizacion\",\n",
    "    organizationUnitName=\"Nombre unitario de la organizacion\",\n",
    "    serialNumber= 0,\n",
    "    validityStartInSeconds = 0,\n",
    "    validityEndInSeconds = 1*365*24*60*60, #UN AÑO\n",
    "    KEY_FILE = 'Nombre del archivo de la clave privada.key'\n",
    "                #Sugerido: \"Ejemplo/private\"+nomina_1.replace(\" \",\"_\")+\".key\",\n",
    "    CERT_FILE='Nombre del archivo del certificado.crt'\n",
    "                #Sugerido: \"Ejemplo/Certificado\"+nomina_1.replace(\" \",\"_\")+\".crt\")\n",
    "\n",
    "print(\"Firma generada\")\n",
    "print(\"Guarde su llave privada en un lugar aparte\")\n",
    "print(\"-------------------\\n\")\n",
    "print(\"Subiendo certificado a la base de datos\")\n",
    "\n",
    "database.insert_users(nomina = nomina_1,\n",
    "                #Contraseña se subirá encriptada\n",
    "                password=hashlib.sha256(bytes(password_1, encoding=\"utf-8\")).hexdigest(),\n",
    "                nombre = nombre_1,\n",
    "                puesto = \"Puesto\",\n",
    "                tags = \"Informacion relevante (ejemplo: Becario)\",\n",
    "                certificado = 'Nombre del archivo certificado.crt'\n",
    "                            #Sugerido: f\"Ejemplo/Certificado{nomina_1}.crt\",\n",
    "                estatus = \"Activo\")"
   ]
  },
  {
   "cell_type": "markdown",
   "metadata": {},
   "source": [
    "### Explicación de las funciones\n",
    "\n",
    "#### Documento **`DataBaseConection.py`** \n",
    "\n",
    "| Funciones  |  Entradas  |  Salidas |  Descripción  |  \n",
    "|---|---|---|---|\n",
    "| __init__  | - Usuario de la base de datos. <br> - Contraseña <br> - Nombre de la base de datos| - Mensaje | Función de inicialización de la clase. Se conecta o crea la base de datos con los parámetros proporcionados |\n",
    "| insert_users  | - ID de la persona <br> - Constraseña creada por la persona <br> - Nombre completo de la persona <br> - Puesto de la persona <br> - Tags: información adicional de la persona <br> -Archivo certificado de la persona <br> - Estatus: Activo/Inactivo  |- Mensaje | Función para insertar usuarios nuevos a la base de datos en la tabla llamada 'users'. Debe ser manejada por administrador  |   \n",
    "|  insert_documentos | - Hash del documento a firmar <br> - Tipo de documento <br> - Nombre del archivo <br> - Descripción <br> - IDs de las personas que firmarán (puede ser más de una, separados por un punto-coma ';') <br> - Estatus: Activo/Inactivo  | - Mensaje  | Función para insertar documentos nuevos a la base de datos en la tabla llamada 'dcumentos'. Se manda a llamar por la aplicación cuando se selecciona la opción de 'Solicitar firma' |  \n",
    "| insert_firma  |  - Documento de firma de documento <br> - Hash del documento que se firmó <br> - ID de la persona que firma |  | Función que sube a la tabla 'firmas' el archivo con la firma digital para el documento identificado con su hash, quién lo firma y la fecha y hora de cuando esto ocurre. Se tiene la intención que esta tabla sirva como *logs* para saber y llevar un control de las firmas. <br> Esta función se llama cuando se escoge la opción de 'Firmar' en la aplicación. |   \n",
    "\n",
    "A continuación se presentan funciones de comandos típicos de una base de datos MySQL:\n",
    "\n",
    "| Funciones  |  Entradas  |  Salidas |  Descripción  |  \n",
    "|---|---|---|---|\n",
    "| select  |  - Nombre de la tabla <br> - La variable a regresar <br> - Variable independiente <br> - Valor de la variable independiente <br> *Opcional:* <br> - Segunda variable independiente <br> - Valor de la segunda variable independiente | - *list*: Todos los valores de la variable dependiente donde se cumple las condiciones de las variables independientes.  |  Función regresa todos los valores de una variable (columna) donde se cumple las condiciones impuestas por las variables independientes. |   \n",
    "| update  |  - Nombre de la tabla <br> - La variable a actualizar <br> - Valor de la variable a actualizar <br> - Variable independiente <br> - Valor de la variable independiente |  - Mensaje | Función que actualiza un valor de una variable dentro de la base de datos. Esta actualización está sujeta a las condiciones de la variable independiente y su valor. |  \n",
    "|  delete | - Nombre de la tabla <br> - La variable independiente <br> - Valor de la variable independiente  | - Mensaje  |  Función que elimina toda una fila donde se cumple la condición impuesta. <br> Esta función debe ser manejada por un administrador. | \n",
    "| create  | - Nombre de usuario para la base de datos <br> - Contraseña para acceder a la base de datos <br> - Nombre de la base de datos |   | Función que crea la base de datos considerando los parámetros ingresados. <br> La función debe ser ejecutada por un administrador. |\n",
    "\n",
    "#### Documento **`CertificateFunctions.py`** \n",
    "\n",
    "| Funciones  |  Entradas  |  Salidas |  Descripción  |  \n",
    "|---|---|---|---|\n",
    "| cert_gen  |  - Correo electrónico del empleado <br> - Nombre completo del empleado <br> - País donde se expide <br> - Municipio donde se expide <br> - Nombre de la organización que expide el certificado <br> - Nombre unitario de la organización <br> - Nombre de serie <br> - Nombre unitario de la organización <br> - Tiempo de vigencia (*default:* un año) <br> - Ubicación y nombre del archivo donde se creará la clave privada <br> - Ubicación y nombre del archivo donde se creará el certificado |   |  Función que crea los certificados para los empleados o los futuros usuarios de la aplicación de firmas. <br> Deberá ser usada por un administrador. |   \n",
    "| check_associate_cert_with_private_key  |  - Certificado <br> - Archivo de la clave privada  |  - Mensaje | Esta función verifica si la clave privada ingresada está asociada al certificado ingresado. |  \n",
    "| Hash_document | - Dirección del archivo  | - Hash del documento ingresado  |  Función que genera el *hash* del documento ingresado.| \n",
    "| VerificarVigencia  | - Archivo del certificado | - Mensaje <br> - True/False| Función que verifica si el certificado es aún vigente |\n",
    "| VerificarPassword  | - ID del empleado <br> - Contraseña del empleado <br> - Objeto de la clase DataBase   | - True/False| Función que verifica si la contrasela ingresada corresponde a la contraseña del usuario. Se aplica para permitirle (o no) el acceso a alguien a la plataforma. |\n",
    "\n",
    "#### Documento **`signVerify.py`** \n",
    "\n",
    "| Funciones  |  Entradas  |  Salidas |  Descripción  |  \n",
    "|---|---|---|---|\n",
    "| gen_signature  |  - Clave privada de la persona que firma <br> - Hash del documento <br> - Nombre del documento a firmar <br> - ID de la persona que firma | - Archivo binario con la firma <br>  |  Esta función sirve para generar la firma del documento que se necesite. Se usa la función hash SHA-512. |   \n",
    "| verify  |  - Certificado <br> - Hash del documento que se quiera verificar <br> - Archivo binario que contiene la firma digital del documento <br> - ``` load = True``` (Saber si lo tiene que leer del disco)  |  - True/False | Esta función verifica si la firma ingresada corresponde a una firma para el documento ingresado. | \n",
    "\n",
    "#### Documento **`login.py`** \n",
    "\n",
    "| Funciones  |  Entradas  |  Salidas |  Descripción  |  \n",
    "|---|---|---|---|\n",
    "| main_to_options <br> potions_to_main <br> options_to_sign <br> options_to_verify <br> options_to_request_signature <br> sign_to_options <br> verify_to_options <br> request_signature_to_options  |  |   |  Funciones que sirven para cerrar ventanas emergentes de la aplicación. Sirve para no cerrarlas manualmente. Se usan dentro del código de la interfaz.|   \n",
    "| main_window  |  |   | Función que contiene a la ventana principal de la aplicación (Ventana de ingreso a la plataforma). |  \n",
    "| validateLogin | - Nombre de usuario ingresado <br> - Contraseña ingresada| - Mensaje  |  Función que verifica si el usuario y la contraseña corresponden a algún usuario en la base de datos. <br> \n",
    "Esta función se encuentra dentro de la función de main_window() y usa a la función VerificaPassword().| \n",
    "| options_window  |  |  | Contiene el código de la ventana de la interfaz relacionada con las opciones de 'Solicitar firma', 'Firmar' y 'Verificar'. |\n",
    "| sign_window  |   | | Función que contiene lo relacionado a la opción de 'Firmar'. |\n",
    "| select_file <br> select_privateKey <br> select_publicKey |  | - Mensaje  |  Funciones que permiten seleccionar un archivo del dispositivo local. |   \n",
    "| sign_file |  | - Mensaje  | Función que toma la clave privada y el documento a firmar. Verifica si la clave privada corresponde al certificado del usuario conectado y verifica la vigencia de este certificado. Si no hubo error, se ejecuta la función ```signVerify.gen_signature()```. |  \n",
    "| check_permit |  | - Mensaje  |  Función que verifica si la persona que intenta firmmar tiene permiso para hacer; es decir, si su ID se encuentra en los *tags* de ese documento.| \n",
    "| verify_window  |  |  | Función que contiene el código relacionado a la opción de 'Verificar'. |\n",
    "| verify_file  |   | | Función que toma el certificado (se extrae la clave pública), el archivo con la firma digital y el documento a verificar. Verifica si el archivo de la firma digital corresponde a el documento ingresado, se usa la función  ```signVerify.verify()```.|\n",
    "| request_signature_window |  |  |  Función que contiene el código relacionado a la opción de 'Solicitar firma'.| \n",
    "| nominas | - IDs de los empleados que se solicita que firmen <br> - Tipo de documento <br> - Descripción |  | Función que usa la función ```DataBase.insert_documentos()``` para cargar a la base de datos un nuevo documento con sus variables. |\n"
   ]
  },
  {
   "cell_type": "markdown",
   "metadata": {},
   "source": [
    "### Ejemplo de aplicación"
   ]
  },
  {
   "cell_type": "code",
   "execution_count": 1,
   "metadata": {
    "ExecuteTime": {
     "end_time": "2022-04-22T00:18:10.337344Z",
     "start_time": "2022-04-22T00:18:10.235088Z"
    }
   },
   "outputs": [],
   "source": [
    "import signVerify\n",
    "import hashlib\n",
    "import DataBaseConection\n",
    "from CertificateFunctions import cert_gen, check_associate_cert_with_private_key, VerificarVigencia, Hash_document, VerificarPassword"
   ]
  },
  {
   "cell_type": "code",
   "execution_count": 2,
   "metadata": {
    "ExecuteTime": {
     "end_time": "2022-04-22T00:18:10.727236Z",
     "start_time": "2022-04-22T00:18:10.719242Z"
    }
   },
   "outputs": [
    {
     "name": "stdout",
     "output_type": "stream",
     "text": [
      "Conexión exitosa\n"
     ]
    }
   ],
   "source": [
    "database = DataBaseConection.DataBase(user = \"root\", password = \"\", db = \"teleton\")"
   ]
  },
  {
   "cell_type": "markdown",
   "metadata": {},
   "source": [
    "#### Creando usuarios"
   ]
  },
  {
   "cell_type": "markdown",
   "metadata": {},
   "source": [
    "##### Creando certificados"
   ]
  },
  {
   "cell_type": "code",
   "execution_count": 3,
   "metadata": {
    "ExecuteTime": {
     "end_time": "2022-04-22T00:18:14.343232Z",
     "start_time": "2022-04-22T00:18:13.924234Z"
    }
   },
   "outputs": [
    {
     "name": "stdout",
     "output_type": "stream",
     "text": [
      "Firmas generadas\n",
      "Guarde su llave privada en un lugar aparte\n",
      "-------------------\n",
      "\n",
      "Subiendo certificado a la base de datos\n",
      "Jairo Enrique R ha sido añadido a la base de datos.\n",
      "Ramirez Sanchez R ha sido añadido a la base de datos.\n"
     ]
    }
   ],
   "source": [
    "nombre_1 = \"Jairo Enrique R\"\n",
    "password_1 = \"prueba\"\n",
    "nomina_1 = \"A01750442\"\n",
    "email_1 = \"A01750442@tec.mx\"\n",
    "\n",
    "nombre_2 = \"Ramirez Sanchez R\"\n",
    "nomina_2 = \"A01752067\"\n",
    "password_2 = \"prueba2\"\n",
    "email_2 = \"A01752067@tec.mx\"\n",
    "\n",
    "\n",
    "cert_gen(emailAddress=email_1,\n",
    "    commonName=\"tec.mx\",\n",
    "    countryName=\"MX\",\n",
    "    localityName=\"Monterrey\",\n",
    "    stateOrProvinceName=\"Nuevo León\",\n",
    "    organizationName=\"Tecnológico de Monterrey\",\n",
    "    organizationUnitName=\"organizationUnitName\",\n",
    "    serialNumber=0,\n",
    "    validityStartInSeconds = 0,\n",
    "    validityEndInSeconds = 1*365*24*60*60, #UN AÑO\n",
    "    KEY_FILE = \"Ejemplo/private\"+nomina_1.replace(\" \",\"_\")+\".key\",\n",
    "    CERT_FILE=\"Ejemplo/Certificado\"+nomina_1.replace(\" \",\"_\")+\".crt\")\n",
    "\n",
    "cert_gen(emailAddress=email_2,\n",
    "    commonName=\"tec.mx\",\n",
    "    countryName=\"MX\",\n",
    "    localityName=\"Monterrey\",\n",
    "    stateOrProvinceName=\"Nuevo León\",\n",
    "    organizationName=\"Tecnológico de Monterrey\",\n",
    "    organizationUnitName=\"organizationUnitName\",\n",
    "    serialNumber=0,\n",
    "    validityStartInSeconds = 0,\n",
    "    validityEndInSeconds = 1*365*24*60*60, #UN AÑO\n",
    "    KEY_FILE = \"Ejemplo/private\"+nomina_2.replace(\" \",\"_\")+\".key\",\n",
    "    CERT_FILE=\"Ejemplo/Certificado\"+nomina_2.replace(\" \",\"_\")+\".crt\")\n",
    "\n",
    "print(\"Firmas generadas\")\n",
    "print(\"Guarde su llave privada en un lugar aparte\")\n",
    "print(\"-------------------\\n\")\n",
    "print(\"Subiendo certificado a la base de datos\")\n",
    "\n",
    "database.insert_users(nomina = nomina_1,\n",
    "                password=hashlib.sha256(bytes(password_1, encoding=\"utf-8\")).hexdigest(),\n",
    "                nombre = nombre_1,\n",
    "                puesto = \"Estudiante\",\n",
    "                tags = \"IDM\",\n",
    "                certificado = f\"Ejemplo/Certificado{nomina_1}.crt\",\n",
    "                estatus = \"Activo\")\n",
    "\n",
    "database.insert_users(nomina = nomina_2,\n",
    "                password = hashlib.sha256(bytes(password_2, encoding=\"utf-8\")).hexdigest(),\n",
    "                nombre = nombre_2,\n",
    "                puesto = \"Estudiante\",\n",
    "                tags = \"IDM\",\n",
    "                certificado = f\"Ejemplo/Certificado{nomina_2}.crt\",\n",
    "                estatus = \"Activo\")"
   ]
  },
  {
   "cell_type": "markdown",
   "metadata": {
    "ExecuteTime": {
     "end_time": "2022-04-19T16:29:51.557969Z",
     "start_time": "2022-04-19T16:29:51.549403Z"
    }
   },
   "source": [
    "## Solicitar firma"
   ]
  },
  {
   "cell_type": "code",
   "execution_count": 4,
   "metadata": {
    "ExecuteTime": {
     "end_time": "2022-04-21T15:57:04.108393Z",
     "start_time": "2022-04-21T15:57:04.084399Z"
    }
   },
   "outputs": [
    {
     "name": "stdout",
     "output_type": "stream",
     "text": [
      "Doc_1.pdf ha sido añadido a la base de datos.\n",
      "Doc_2.pdf ha sido añadido a la base de datos.\n"
     ]
    }
   ],
   "source": [
    "#Primero se sube el documento que se quiere firmar con todos los datos de indentificación\n",
    "file_1 = \"Ejemplo/Doc_1.pdf\"\n",
    "\n",
    "database.insert_documentos(Hash = Hash_document(file_1).hexdigest(), \n",
    "                           Tipo = \"Libro\", \n",
    "                           Nombre = \"Doc_1.pdf\", \n",
    "                           Descripcion = \"Justine o los infortunios de la virtud\",\n",
    "                           Tags = \"Marqués de Sade\",\n",
    "                           Estatus = \"Activo\")\n",
    "\n",
    "file_2 = \"Ejemplo/Doc_2.pdf\"\n",
    "\n",
    "database.insert_documentos(Hash = Hash_document(file_2).hexdigest(), \n",
    "                           Tipo = \"Libro\", \n",
    "                           Nombre = \"Doc_2.pdf\", \n",
    "                           Descripcion = \"Suenio de una noche de verano\",\n",
    "                           Tags = \"Shakespeare\",\n",
    "                           Estatus = \"Activo\")"
   ]
  },
  {
   "cell_type": "code",
   "execution_count": 5,
   "metadata": {
    "ExecuteTime": {
     "end_time": "2022-04-21T15:57:06.397756Z",
     "start_time": "2022-04-21T15:57:06.371750Z"
    }
   },
   "outputs": [
    {
     "name": "stdout",
     "output_type": "stream",
     "text": [
      "50df68716b0074ebd4e5f2ccb5b378d89a8a174128394a57654d4410d4a268e5 ha sido añadido a la base de datos.\n",
      "50df68716b0074ebd4e5f2ccb5b378d89a8a174128394a57654d4410d4a268e5 ha sido añadido a la base de datos.\n",
      "529408553f25564439f509c3554f3ad705848bff071f5342825f20a051c29264 ha sido añadido a la base de datos.\n"
     ]
    }
   ],
   "source": [
    "# Se solicitan las firmas de los empleados. \n",
    "# Se carga a la base de datos el hash del documento y la nómina de quien lo firmará, se deja vacío por default \n",
    "# espacio para el archivo de firma.\n",
    "database.insert_firma(Hash = Hash_document(file_1).hexdigest(),\n",
    "                Nomina = nomina_1)\n",
    "\n",
    "database.insert_firma(Hash = Hash_document(file_1).hexdigest(),\n",
    "                Nomina = nomina_2)\n",
    "\n",
    "database.insert_firma(Hash = Hash_document(file_2).hexdigest(),\n",
    "                Nomina = nomina_1)"
   ]
  },
  {
   "cell_type": "markdown",
   "metadata": {},
   "source": [
    "## Generar el archivo firmado"
   ]
  },
  {
   "cell_type": "code",
   "execution_count": 6,
   "metadata": {
    "ExecuteTime": {
     "end_time": "2022-04-21T15:57:11.324618Z",
     "start_time": "2022-04-21T15:57:11.165365Z"
    }
   },
   "outputs": [
    {
     "name": "stdout",
     "output_type": "stream",
     "text": [
      "Certificado vigente\n",
      "\n",
      "Archivo firmado en Ejemplo/Doc_1.pdf_A01750442_20220421_105711.sign\n",
      "\n",
      " Cargando la firma a la base de datos\n",
      "\n",
      "-------------------------------\n",
      "\n",
      "Certificado vigente\n",
      "Archivo firmado en Ejemplo/Doc_1.pdf_A01752067_20220421_105711.sign\n",
      "\n",
      " Cargando la firma a la base de datos\n"
     ]
    }
   ],
   "source": [
    "# Obtiene el certificado de la base de datos del usuario tomando su nómina\n",
    "file_1 = \"Ejemplo/Doc_1.pdf\"\n",
    "Certificado_1 = database.select(tabla = \"users\", \n",
    "                what = \"Certificado\", \n",
    "                where = \"Nomina\", \n",
    "                value = nomina_1)[0][0]\n",
    "\n",
    "# Se carga la llave privada del usuario\n",
    "\n",
    "private_key_1 = \"Ejemplo/privateA01750442.key\"\n",
    "\n",
    "#Se verifica la vigencia para saber si es posible firmar el documento\n",
    "\n",
    "VerificarVigencia(Certificado_1)\n",
    "\n",
    "#Se valida si la llave privada coincide con el certificado almacenado, es decir, que quien quiera firmar sea quien dice ser.\n",
    "\n",
    "Match = check_associate_cert_with_private_key(Certificado_1, private_key_1)\n",
    "print()\n",
    "\n",
    "if Match:\n",
    "    # se generar el archivo de firma digital\n",
    "    file_name = signVerify.gen_signature(private_key_1, bytes(Hash_document(file_1).hexdigest(), 'utf-8'), file_1, nomina_1)\n",
    "    print(f\"Archivo firmado en {file_name}\")\n",
    "\n",
    "    print(\"\\n Cargando la firma a la base de datos\")\n",
    "    database.cargar_firma(Doc_signed = file_name,\n",
    "                     Hash = Hash_document(file_1).hexdigest(),\n",
    "                     Nomina = nomina_1)\n",
    "else:\n",
    "    print(\"La llave privada no coincide con el certificado.\\nNo puede firmar este documento.\")\n",
    "\n",
    "print(\"\\n-------------------------------\\n\")\n",
    "\n",
    "Certificado_2 = database.select(tabla = \"users\", \n",
    "                what = \"Certificado\", \n",
    "                where = \"Nomina\", \n",
    "                value = nomina_2)[0][0]\n",
    "\n",
    "private_key_2 = \"Ejemplo/privateA01752067.key\"\n",
    "\n",
    "VerificarVigencia(Certificado_2)\n",
    "\n",
    "Match = check_associate_cert_with_private_key(Certificado_2, private_key_2)\n",
    "\n",
    "if Match:\n",
    "\n",
    "    file_name = signVerify.gen_signature(private_key_2, bytes(Hash_document(file_1).hexdigest(), 'utf-8'), file_1, nomina_2)\n",
    "    print(f\"Archivo firmado en {file_name}\")\n",
    "\n",
    "    print(\"\\n Cargando la firma a la base de datos\")\n",
    "    database.cargar_firma(Doc_signed = file_name,\n",
    "                     Hash = Hash_document(file_1).hexdigest(),\n",
    "                     Nomina = nomina_2)\n",
    "else:\n",
    "    print(\"La llave privada no coincide con el certificado.\\nNo puede firmar este documento.\")"
   ]
  },
  {
   "cell_type": "markdown",
   "metadata": {
    "ExecuteTime": {
     "end_time": "2022-04-20T03:15:36.156304Z",
     "start_time": "2022-04-20T03:15:36.140648Z"
    }
   },
   "source": [
    "## Verificar firma"
   ]
  },
  {
   "cell_type": "code",
   "execution_count": 7,
   "metadata": {
    "ExecuteTime": {
     "end_time": "2022-04-21T15:57:16.938741Z",
     "start_time": "2022-04-21T15:57:16.916736Z"
    }
   },
   "outputs": [
    {
     "name": "stdout",
     "output_type": "stream",
     "text": [
      "Verificación exitosa. \n",
      "El archivo fue firmado correctamente por A01750442\n"
     ]
    }
   ],
   "source": [
    "# Es cargado el documento a verificar\n",
    "file_1 = \"Ejemplo/Doc_1.pdf\"\n",
    "file_2 = \"Ejemplo/Doc_2.pdf\"\n",
    "\n",
    "#Se emula que se suben los certificados\n",
    "\n",
    "#Se cargan los certificados de las personas que se quieren validar\n",
    "Certificado_1 = \"Ejemplo/CertificadoA01750442.crt\"\n",
    "nomina_1 = \"A01750442\"\n",
    "Certificado_2 = \"Ejemplo/CertificadoA01752067.crt\"\n",
    "\n",
    "# Se extraé de la base de datos el archivo firmado que coincida con el hash del documento y la nómina\n",
    "f = database.select(tabla = \"firmas\", \n",
    "                what = \"Doc_signed\", \n",
    "                where = \"Hash\", \n",
    "                value = Hash_document(file_1).hexdigest(),\n",
    "                where_2 = \"Nomina\",\n",
    "                value_2 = nomina_1)[0][0]\n",
    "\n",
    "if f != None:\n",
    "    # Si el archvio existe, se valida la firma\n",
    "    open(\"Ejemplo/temp.sign\", \"wb\").write(f)\n",
    "\n",
    "    result = signVerify.verify(Certificado_1, bytes(Hash_document(file_1).hexdigest(), 'utf-8'), \"Ejemplo/temp.sign\", load = True)\n",
    "    if result:\n",
    "        print(f\"Verificación exitosa. \\nEl archivo fue firmado correctamente por {nomina_1}\")\n",
    "    else:\n",
    "        print(f\"Verificación fallida. \\nEl archivo no firmado por {nomina_1}\")\n",
    "\n",
    "else:\n",
    "    # Si el archivo aún no existe, tiene pendiente la firma\n",
    "    print(f\"El archivo aún no cuenta con la firma de {nomina_1}\")\n"
   ]
  }
 ],
 "metadata": {
  "hide_input": false,
  "kernelspec": {
   "display_name": "Python 3",
   "language": "python",
   "name": "python3"
  },
  "language_info": {
   "codemirror_mode": {
    "name": "ipython",
    "version": 3
   },
   "file_extension": ".py",
   "mimetype": "text/x-python",
   "name": "python",
   "nbconvert_exporter": "python",
   "pygments_lexer": "ipython3",
   "version": "3.8.5"
  },
  "varInspector": {
   "cols": {
    "lenName": 16,
    "lenType": 16,
    "lenVar": 40
   },
   "kernels_config": {
    "python": {
     "delete_cmd_postfix": "",
     "delete_cmd_prefix": "del ",
     "library": "var_list.py",
     "varRefreshCmd": "print(var_dic_list())"
    },
    "r": {
     "delete_cmd_postfix": ") ",
     "delete_cmd_prefix": "rm(",
     "library": "var_list.r",
     "varRefreshCmd": "cat(var_dic_list()) "
    }
   },
   "types_to_exclude": [
    "module",
    "function",
    "builtin_function_or_method",
    "instance",
    "_Feature"
   ],
   "window_display": false
  }
 },
 "nbformat": 4,
 "nbformat_minor": 4
}
